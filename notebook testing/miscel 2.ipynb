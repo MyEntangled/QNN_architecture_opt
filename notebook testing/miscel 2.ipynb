{
 "cells": [
  {
   "cell_type": "code",
   "execution_count": 20,
   "id": "8b032eeb",
   "metadata": {},
   "outputs": [],
   "source": [
    "import numpy as np\n",
    "from qiskit.opflow import I,X,Y,Z"
   ]
  },
  {
   "cell_type": "code",
   "execution_count": 10,
   "id": "facd36df",
   "metadata": {},
   "outputs": [
    {
     "data": {
      "text/plain": [
       "array([2, 3, 4, 0, 1])"
      ]
     },
     "execution_count": 10,
     "metadata": {},
     "output_type": "execute_result"
    }
   ],
   "source": [
    "perp = np.random.permutation(5)\n",
    "perp"
   ]
  },
  {
   "cell_type": "code",
   "execution_count": 8,
   "id": "737d96cf",
   "metadata": {},
   "outputs": [],
   "source": [
    "a = np.array([1,10,100,1000,10000])"
   ]
  },
  {
   "cell_type": "code",
   "execution_count": 12,
   "id": "e04361cd",
   "metadata": {},
   "outputs": [
    {
     "data": {
      "text/plain": [
       "array([  100,  1000, 10000,     1,    10])"
      ]
     },
     "execution_count": 12,
     "metadata": {},
     "output_type": "execute_result"
    }
   ],
   "source": [
    "a[perp]"
   ]
  },
  {
   "cell_type": "code",
   "execution_count": 15,
   "id": "3975655f",
   "metadata": {},
   "outputs": [],
   "source": [
    "tf = (a == 1)"
   ]
  },
  {
   "cell_type": "code",
   "execution_count": 18,
   "id": "dd2227c7",
   "metadata": {},
   "outputs": [],
   "source": [
    "a[a == 1] *= -1"
   ]
  },
  {
   "cell_type": "code",
   "execution_count": 19,
   "id": "b666bfad",
   "metadata": {},
   "outputs": [
    {
     "data": {
      "text/plain": [
       "array([   -1,    10,   100,  1000, 10000])"
      ]
     },
     "execution_count": 19,
     "metadata": {},
     "output_type": "execute_result"
    }
   ],
   "source": [
    "a"
   ]
  },
  {
   "cell_type": "code",
   "execution_count": 21,
   "id": "3a8435f3",
   "metadata": {},
   "outputs": [
    {
     "data": {
      "text/plain": [
       "PauliOp(Pauli('Z'), coeff=1.0)"
      ]
     },
     "execution_count": 21,
     "metadata": {},
     "output_type": "execute_result"
    }
   ],
   "source": [
    "Z^(I^(1-1))"
   ]
  }
 ],
 "metadata": {
  "kernelspec": {
   "display_name": "QML",
   "language": "python",
   "name": "qml"
  },
  "language_info": {
   "codemirror_mode": {
    "name": "ipython",
    "version": 3
   },
   "file_extension": ".py",
   "mimetype": "text/x-python",
   "name": "python",
   "nbconvert_exporter": "python",
   "pygments_lexer": "ipython3",
   "version": "3.7.10"
  }
 },
 "nbformat": 4,
 "nbformat_minor": 5
}
