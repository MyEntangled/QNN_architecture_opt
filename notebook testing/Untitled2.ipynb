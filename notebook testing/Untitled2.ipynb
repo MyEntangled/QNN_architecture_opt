{
 "cells": [
  {
   "cell_type": "code",
   "execution_count": 2,
   "id": "6be859f8",
   "metadata": {},
   "outputs": [],
   "source": [
    "from qiskit.quantum_info import random_clifford, Clifford\n",
    "from qiskit import QuantumCircuit"
   ]
  },
  {
   "cell_type": "code",
   "execution_count": 3,
   "id": "58fb69fd",
   "metadata": {},
   "outputs": [
    {
     "name": "stdout",
     "output_type": "stream",
     "text": [
      "10633\n"
     ]
    }
   ],
   "source": [
    "generated_cliffords = [random_clifford(2) for i in range(30000)]\n",
    "clifford_group = []\n",
    "\n",
    "for clifford in generated_cliffords:\n",
    "    if not clifford in clifford_group:\n",
    "        clifford_group.append(clifford)\n",
    "        \n",
    "print(len(clifford_group))"
   ]
  }
 ],
 "metadata": {
  "kernelspec": {
   "display_name": "QML",
   "language": "python",
   "name": "qml"
  },
  "language_info": {
   "codemirror_mode": {
    "name": "ipython",
    "version": 3
   },
   "file_extension": ".py",
   "mimetype": "text/x-python",
   "name": "python",
   "nbconvert_exporter": "python",
   "pygments_lexer": "ipython3",
   "version": "3.7.10"
  }
 },
 "nbformat": 4,
 "nbformat_minor": 5
}
