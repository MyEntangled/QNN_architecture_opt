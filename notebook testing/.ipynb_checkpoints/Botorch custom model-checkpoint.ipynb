{
 "cells": [
  {
   "cell_type": "code",
   "execution_count": 14,
   "id": "137d917a",
   "metadata": {},
   "outputs": [],
   "source": [
    "import torch\n",
    "\n",
    "device = torch.device(\"cuda\" if torch.cuda.is_available() else \"cpu\")\n",
    "dtype = torch.double"
   ]
  },
  {
   "cell_type": "code",
   "execution_count": 99,
   "id": "20330548",
   "metadata": {},
   "outputs": [],
   "source": [
    "from botorch.test_functions import Hartmann\n",
    "neg_hartmann6 = Hartmann(dim=6, negate=True)\n",
    "\n",
    "def outcome_constraint(X):\n",
    "    \"\"\"L1 constraint; feasible if less than or equal to zero.\"\"\"\n",
    "    return X.sum(dim=-1) - 3\n",
    "\n",
    "def weighted_obj(X):\n",
    "    \"\"\"Feasibility weighted objective; zero if not feasible.\"\"\"\n",
    "    print(X.shape)\n",
    "    #return neg_hartmann6(X) * (outcome_constraint(X) <= 0).type_as(X)\n",
    "    temp = neg_hartmann6(X) * (outcome_constraint(X) <= 0).type_as(X)\n",
    "    print(temp.shape)\n",
    "    return temp"
   ]
  },
  {
   "cell_type": "code",
   "execution_count": 86,
   "id": "a370cebf",
   "metadata": {},
   "outputs": [
    {
     "name": "stdout",
     "output_type": "stream",
     "text": [
      "torch.Size([10, 1])\n"
     ]
    }
   ],
   "source": [
    "train_x = torch.rand(10, 6, device=device, dtype=dtype)\n",
    "exact_obj = neg_hartmann6(train_x).unsqueeze(-1)\n",
    "\n",
    "print(exact_obj.shape)"
   ]
  },
  {
   "cell_type": "code",
   "execution_count": null,
   "id": "077f98c8",
   "metadata": {},
   "outputs": [],
   "source": []
  },
  {
   "cell_type": "code",
   "execution_count": 100,
   "id": "e378f01f",
   "metadata": {},
   "outputs": [],
   "source": [
    "from botorch.models import FixedNoiseGP, ModelListGP\n",
    "from gpytorch.mlls.sum_marginal_log_likelihood import SumMarginalLogLikelihood\n",
    "\n",
    "NOISE_SE = 0.5\n",
    "train_yvar = torch.tensor(NOISE_SE**2, device=device, dtype=dtype)\n",
    "\n",
    "\n",
    "def generate_initial_data(n=10):\n",
    "    # generate training data\n",
    "    train_x = torch.rand(10, 6, device=device, dtype=dtype)\n",
    "    exact_obj = neg_hartmann6(train_x).unsqueeze(-1)  # add output dimension\n",
    "    exact_con = outcome_constraint(train_x).unsqueeze(-1)  # add output dimension\n",
    "    train_obj = exact_obj + NOISE_SE * torch.randn_like(exact_obj)\n",
    "    train_con = exact_con + NOISE_SE * torch.randn_like(exact_con)\n",
    "    best_observed_value = weighted_obj(train_x).max().item()\n",
    "    return train_x, train_obj, train_con, best_observed_value\n",
    "    \n",
    "    \n",
    "def initialize_model(train_x, train_obj, train_con, state_dict=None):\n",
    "    # define models for objective and constraint\n",
    "    model_obj = FixedNoiseGP(train_x, train_obj, train_yvar.expand_as(train_obj)).to(train_x)\n",
    "    model_con = FixedNoiseGP(train_x, train_con, train_yvar.expand_as(train_con)).to(train_x)\n",
    "    # combine into a multi-output GP model\n",
    "    model = ModelListGP(model_obj, model_con)\n",
    "    mll = SumMarginalLogLikelihood(model.likelihood, model)\n",
    "    # load state dict if it is passed\n",
    "    if state_dict is not None:\n",
    "        model.load_state_dict(state_dict)\n",
    "    return mll, model"
   ]
  },
  {
   "cell_type": "code",
   "execution_count": 101,
   "id": "8f047805",
   "metadata": {},
   "outputs": [],
   "source": [
    "from botorch.acquisition.objective import ConstrainedMCObjective\n",
    "\n",
    "def obj_callable(Z):\n",
    "    return Z[..., 0]\n",
    "\n",
    "def constraint_callable(Z):\n",
    "    return Z[..., 1]\n",
    "\n",
    "# define a feasibility-weighted objective for optimization\n",
    "constrained_obj = ConstrainedMCObjective(\n",
    "    objective=obj_callable,\n",
    "    constraints=[constraint_callable],\n",
    ")"
   ]
  },
  {
   "cell_type": "code",
   "execution_count": 39,
   "id": "bea58221",
   "metadata": {},
   "outputs": [],
   "source": [
    "from botorch.optim import optimize_acqf\n",
    "\n",
    "BATCH_SIZE = 3\n",
    "bounds = torch.tensor([[0.0] * 6, [1.0] * 6], device=device, dtype=dtype)\n",
    "\n",
    "\n",
    "def optimize_acqf_and_get_observation(acq_func):\n",
    "    \"\"\"Optimizes the acquisition function, and returns a new candidate and a noisy observation.\"\"\"\n",
    "    # optimize\n",
    "    candidates, _ = optimize_acqf(\n",
    "        acq_function=acq_func,\n",
    "        bounds=bounds,\n",
    "        q=BATCH_SIZE,\n",
    "        num_restarts=10,\n",
    "        raw_samples=500,  # used for intialization heuristic\n",
    "        options={\n",
    "            \"batch_limit\": 5,\n",
    "            \"max_iter\": 200,\n",
    "        }\n",
    "    )\n",
    "    # observe new values \n",
    "    new_x = candidates.detach()\n",
    "    exact_obj = neg_hartmann6(new_x).unsqueeze(-1)  # add output dimension\n",
    "    exact_con = outcome_constraint(new_x).unsqueeze(-1)  # add output dimension\n",
    "    new_obj = exact_obj + NOISE_SE * torch.randn_like(exact_obj)\n",
    "    new_con = exact_con + NOISE_SE * torch.randn_like(exact_con)\n",
    "    return new_x, new_obj, new_con\n",
    "\n",
    "\n",
    "def update_random_observations(best_random):\n",
    "    \"\"\"Simulates a random policy by taking a the current list of best values observed randomly,\n",
    "    drawing a new random point, observing its value, and updating the list.\n",
    "    \"\"\"\n",
    "    rand_x = torch.rand(BATCH_SIZE, 6)\n",
    "    next_random_best = weighted_obj(rand_x).max().item()\n",
    "    best_random.append(max(best_random[-1], next_random_best))       \n",
    "    return best_random"
   ]
  },
  {
   "cell_type": "code",
   "execution_count": null,
   "id": "c1fa9209",
   "metadata": {
    "scrolled": true
   },
   "outputs": [
    {
     "name": "stdout",
     "output_type": "stream",
     "text": [
      "\n",
      "Trial  1 of 5 torch.Size([10, 6])\n"
     ]
    },
    {
     "name": "stderr",
     "output_type": "stream",
     "text": [
      "/Users/erio/opt/anaconda3/envs/QML/lib/python3.8/site-packages/botorch/generation/gen.py:166: OptimizeWarning:\n",
      "\n",
      "Unknown solver options: max_iter\n",
      "\n",
      "/Users/erio/opt/anaconda3/envs/QML/lib/python3.8/site-packages/botorch/generation/gen.py:166: OptimizeWarning:\n",
      "\n",
      "Unknown solver options: max_iter\n",
      "\n"
     ]
    },
    {
     "name": "stdout",
     "output_type": "stream",
     "text": [
      "torch.Size([3, 6])\n",
      "torch.Size([13, 6])\n",
      "torch.Size([13, 6])\n",
      "."
     ]
    },
    {
     "name": "stderr",
     "output_type": "stream",
     "text": [
      "/Users/erio/opt/anaconda3/envs/QML/lib/python3.8/site-packages/botorch/generation/gen.py:166: OptimizeWarning:\n",
      "\n",
      "Unknown solver options: max_iter\n",
      "\n",
      "/Users/erio/opt/anaconda3/envs/QML/lib/python3.8/site-packages/botorch/generation/gen.py:166: OptimizeWarning:\n",
      "\n",
      "Unknown solver options: max_iter\n",
      "\n"
     ]
    },
    {
     "name": "stdout",
     "output_type": "stream",
     "text": [
      "torch.Size([3, 6])\n",
      "torch.Size([16, 6])\n",
      "torch.Size([16, 6])\n",
      "."
     ]
    },
    {
     "name": "stderr",
     "output_type": "stream",
     "text": [
      "/Users/erio/opt/anaconda3/envs/QML/lib/python3.8/site-packages/botorch/generation/gen.py:166: OptimizeWarning:\n",
      "\n",
      "Unknown solver options: max_iter\n",
      "\n",
      "/Users/erio/opt/anaconda3/envs/QML/lib/python3.8/site-packages/botorch/generation/gen.py:166: OptimizeWarning:\n",
      "\n",
      "Unknown solver options: max_iter\n",
      "\n"
     ]
    },
    {
     "name": "stdout",
     "output_type": "stream",
     "text": [
      "torch.Size([3, 6])\n",
      "torch.Size([19, 6])\n",
      "torch.Size([19, 6])\n",
      "."
     ]
    },
    {
     "name": "stderr",
     "output_type": "stream",
     "text": [
      "/Users/erio/opt/anaconda3/envs/QML/lib/python3.8/site-packages/botorch/generation/gen.py:166: OptimizeWarning:\n",
      "\n",
      "Unknown solver options: max_iter\n",
      "\n",
      "/Users/erio/opt/anaconda3/envs/QML/lib/python3.8/site-packages/botorch/generation/gen.py:166: OptimizeWarning:\n",
      "\n",
      "Unknown solver options: max_iter\n",
      "\n"
     ]
    },
    {
     "name": "stdout",
     "output_type": "stream",
     "text": [
      "torch.Size([3, 6])\n",
      "torch.Size([22, 6])\n",
      "torch.Size([22, 6])\n",
      "."
     ]
    },
    {
     "name": "stderr",
     "output_type": "stream",
     "text": [
      "/Users/erio/opt/anaconda3/envs/QML/lib/python3.8/site-packages/botorch/generation/gen.py:166: OptimizeWarning:\n",
      "\n",
      "Unknown solver options: max_iter\n",
      "\n",
      "/Users/erio/opt/anaconda3/envs/QML/lib/python3.8/site-packages/botorch/generation/gen.py:166: OptimizeWarning:\n",
      "\n",
      "Unknown solver options: max_iter\n",
      "\n"
     ]
    },
    {
     "name": "stdout",
     "output_type": "stream",
     "text": [
      "torch.Size([3, 6])\n",
      "torch.Size([25, 6])\n",
      "torch.Size([25, 6])\n",
      "."
     ]
    },
    {
     "name": "stderr",
     "output_type": "stream",
     "text": [
      "/Users/erio/opt/anaconda3/envs/QML/lib/python3.8/site-packages/botorch/generation/gen.py:166: OptimizeWarning:\n",
      "\n",
      "Unknown solver options: max_iter\n",
      "\n",
      "/Users/erio/opt/anaconda3/envs/QML/lib/python3.8/site-packages/botorch/generation/gen.py:166: OptimizeWarning:\n",
      "\n",
      "Unknown solver options: max_iter\n",
      "\n"
     ]
    },
    {
     "name": "stdout",
     "output_type": "stream",
     "text": [
      "torch.Size([3, 6])\n",
      "torch.Size([28, 6])\n",
      "torch.Size([28, 6])\n",
      "."
     ]
    },
    {
     "name": "stderr",
     "output_type": "stream",
     "text": [
      "/Users/erio/opt/anaconda3/envs/QML/lib/python3.8/site-packages/botorch/generation/gen.py:166: OptimizeWarning:\n",
      "\n",
      "Unknown solver options: max_iter\n",
      "\n",
      "/Users/erio/opt/anaconda3/envs/QML/lib/python3.8/site-packages/botorch/generation/gen.py:166: OptimizeWarning:\n",
      "\n",
      "Unknown solver options: max_iter\n",
      "\n"
     ]
    },
    {
     "name": "stdout",
     "output_type": "stream",
     "text": [
      "torch.Size([3, 6])\n",
      "torch.Size([31, 6])\n",
      "torch.Size([31, 6])\n",
      ".\n",
      "Trial  2 of 5 torch.Size([10, 6])\n"
     ]
    },
    {
     "name": "stderr",
     "output_type": "stream",
     "text": [
      "/Users/erio/opt/anaconda3/envs/QML/lib/python3.8/site-packages/botorch/generation/gen.py:166: OptimizeWarning:\n",
      "\n",
      "Unknown solver options: max_iter\n",
      "\n",
      "/Users/erio/opt/anaconda3/envs/QML/lib/python3.8/site-packages/botorch/generation/gen.py:166: OptimizeWarning:\n",
      "\n",
      "Unknown solver options: max_iter\n",
      "\n"
     ]
    },
    {
     "name": "stdout",
     "output_type": "stream",
     "text": [
      "torch.Size([3, 6])\n",
      "torch.Size([13, 6])\n",
      "torch.Size([13, 6])\n",
      "."
     ]
    },
    {
     "name": "stderr",
     "output_type": "stream",
     "text": [
      "/Users/erio/opt/anaconda3/envs/QML/lib/python3.8/site-packages/botorch/generation/gen.py:166: OptimizeWarning:\n",
      "\n",
      "Unknown solver options: max_iter\n",
      "\n",
      "/Users/erio/opt/anaconda3/envs/QML/lib/python3.8/site-packages/botorch/generation/gen.py:166: OptimizeWarning:\n",
      "\n",
      "Unknown solver options: max_iter\n",
      "\n"
     ]
    },
    {
     "name": "stdout",
     "output_type": "stream",
     "text": [
      "torch.Size([3, 6])\n",
      "torch.Size([16, 6])\n",
      "torch.Size([16, 6])\n",
      "."
     ]
    },
    {
     "name": "stderr",
     "output_type": "stream",
     "text": [
      "/Users/erio/opt/anaconda3/envs/QML/lib/python3.8/site-packages/botorch/generation/gen.py:166: OptimizeWarning:\n",
      "\n",
      "Unknown solver options: max_iter\n",
      "\n",
      "/Users/erio/opt/anaconda3/envs/QML/lib/python3.8/site-packages/botorch/generation/gen.py:166: OptimizeWarning:\n",
      "\n",
      "Unknown solver options: max_iter\n",
      "\n"
     ]
    },
    {
     "name": "stdout",
     "output_type": "stream",
     "text": [
      "torch.Size([3, 6])\n",
      "torch.Size([19, 6])\n",
      "torch.Size([19, 6])\n",
      "."
     ]
    },
    {
     "name": "stderr",
     "output_type": "stream",
     "text": [
      "/Users/erio/opt/anaconda3/envs/QML/lib/python3.8/site-packages/botorch/generation/gen.py:166: OptimizeWarning:\n",
      "\n",
      "Unknown solver options: max_iter\n",
      "\n",
      "/Users/erio/opt/anaconda3/envs/QML/lib/python3.8/site-packages/botorch/generation/gen.py:166: OptimizeWarning:\n",
      "\n",
      "Unknown solver options: max_iter\n",
      "\n"
     ]
    },
    {
     "name": "stdout",
     "output_type": "stream",
     "text": [
      "torch.Size([3, 6])\n",
      "torch.Size([22, 6])\n",
      "torch.Size([22, 6])\n",
      "."
     ]
    },
    {
     "name": "stderr",
     "output_type": "stream",
     "text": [
      "/Users/erio/opt/anaconda3/envs/QML/lib/python3.8/site-packages/botorch/generation/gen.py:166: OptimizeWarning:\n",
      "\n",
      "Unknown solver options: max_iter\n",
      "\n",
      "/Users/erio/opt/anaconda3/envs/QML/lib/python3.8/site-packages/botorch/generation/gen.py:166: OptimizeWarning:\n",
      "\n",
      "Unknown solver options: max_iter\n",
      "\n"
     ]
    },
    {
     "name": "stdout",
     "output_type": "stream",
     "text": [
      "torch.Size([3, 6])\n",
      "torch.Size([25, 6])\n",
      "torch.Size([25, 6])\n",
      "."
     ]
    },
    {
     "name": "stderr",
     "output_type": "stream",
     "text": [
      "/Users/erio/opt/anaconda3/envs/QML/lib/python3.8/site-packages/botorch/generation/gen.py:166: OptimizeWarning:\n",
      "\n",
      "Unknown solver options: max_iter\n",
      "\n",
      "/Users/erio/opt/anaconda3/envs/QML/lib/python3.8/site-packages/botorch/generation/gen.py:166: OptimizeWarning:\n",
      "\n",
      "Unknown solver options: max_iter\n",
      "\n"
     ]
    },
    {
     "name": "stdout",
     "output_type": "stream",
     "text": [
      "torch.Size([3, 6])\n",
      "torch.Size([28, 6])\n",
      "torch.Size([28, 6])\n",
      "."
     ]
    },
    {
     "name": "stderr",
     "output_type": "stream",
     "text": [
      "/Users/erio/opt/anaconda3/envs/QML/lib/python3.8/site-packages/botorch/generation/gen.py:166: OptimizeWarning:\n",
      "\n",
      "Unknown solver options: max_iter\n",
      "\n",
      "/Users/erio/opt/anaconda3/envs/QML/lib/python3.8/site-packages/botorch/generation/gen.py:166: OptimizeWarning:\n",
      "\n",
      "Unknown solver options: max_iter\n",
      "\n"
     ]
    },
    {
     "name": "stdout",
     "output_type": "stream",
     "text": [
      "torch.Size([3, 6])\n",
      "torch.Size([31, 6])\n",
      "torch.Size([31, 6])\n",
      ".\n",
      "Trial  3 of 5 torch.Size([10, 6])\n"
     ]
    },
    {
     "name": "stderr",
     "output_type": "stream",
     "text": [
      "/Users/erio/opt/anaconda3/envs/QML/lib/python3.8/site-packages/botorch/generation/gen.py:166: OptimizeWarning:\n",
      "\n",
      "Unknown solver options: max_iter\n",
      "\n",
      "/Users/erio/opt/anaconda3/envs/QML/lib/python3.8/site-packages/botorch/generation/gen.py:166: OptimizeWarning:\n",
      "\n",
      "Unknown solver options: max_iter\n",
      "\n"
     ]
    },
    {
     "name": "stdout",
     "output_type": "stream",
     "text": [
      "torch.Size([3, 6])\n",
      "torch.Size([13, 6])\n",
      "torch.Size([13, 6])\n",
      "."
     ]
    },
    {
     "name": "stderr",
     "output_type": "stream",
     "text": [
      "/Users/erio/opt/anaconda3/envs/QML/lib/python3.8/site-packages/botorch/generation/gen.py:166: OptimizeWarning:\n",
      "\n",
      "Unknown solver options: max_iter\n",
      "\n",
      "/Users/erio/opt/anaconda3/envs/QML/lib/python3.8/site-packages/botorch/generation/gen.py:166: OptimizeWarning:\n",
      "\n",
      "Unknown solver options: max_iter\n",
      "\n"
     ]
    },
    {
     "name": "stdout",
     "output_type": "stream",
     "text": [
      "torch.Size([3, 6])\n",
      "torch.Size([16, 6])\n",
      "torch.Size([16, 6])\n",
      "."
     ]
    }
   ],
   "source": [
    "from botorch import fit_gpytorch_model\n",
    "from botorch.acquisition.monte_carlo import qExpectedImprovement, qNoisyExpectedImprovement\n",
    "from botorch.sampling.samplers import SobolQMCNormalSampler\n",
    "from botorch.exceptions import BadInitialCandidatesWarning\n",
    "import time\n",
    "\n",
    "import warnings\n",
    "warnings.filterwarnings('ignore', category=BadInitialCandidatesWarning)\n",
    "warnings.filterwarnings('ignore', category=RuntimeWarning)\n",
    "\n",
    "N_TRIALS = 5\n",
    "N_BATCH = 7\n",
    "MC_SAMPLES = 4\n",
    "\n",
    "verbose = False\n",
    "\n",
    "best_observed_all_ei, best_observed_all_nei, best_random_all = [], [], []\n",
    "\n",
    "# average over multiple trials\n",
    "for trial in range(1, N_TRIALS + 1):\n",
    "    \n",
    "    print(f\"\\nTrial {trial:>2} of {N_TRIALS} \", end=\"\")\n",
    "    best_observed_ei, best_observed_nei, best_random = [], [], []\n",
    "    \n",
    "    # call helper functions to generate initial training data and initialize model\n",
    "    train_x_ei, train_obj_ei, train_con_ei, best_observed_value_ei = generate_initial_data(n=10)\n",
    "    mll_ei, model_ei = initialize_model(train_x_ei, train_obj_ei, train_con_ei)\n",
    "    \n",
    "    train_x_nei, train_obj_nei, train_con_nei = train_x_ei, train_obj_ei, train_con_ei\n",
    "    best_observed_value_nei = best_observed_value_ei\n",
    "    mll_nei, model_nei = initialize_model(train_x_nei, train_obj_nei, train_con_nei)\n",
    "    \n",
    "    #print(train_x_ei.shape)\n",
    "    \n",
    "    best_observed_ei.append(best_observed_value_ei)\n",
    "    best_observed_nei.append(best_observed_value_nei)\n",
    "    best_random.append(best_observed_value_ei)\n",
    "    \n",
    "    # run N_BATCH rounds of BayesOpt after the initial random batch\n",
    "    for iteration in range(1, N_BATCH + 1):    \n",
    "        \n",
    "        t0 = time.time()\n",
    "        \n",
    "        # fit the models\n",
    "        fit_gpytorch_model(mll_ei)\n",
    "        fit_gpytorch_model(mll_nei)\n",
    "        \n",
    "        # define the qEI and qNEI acquisition modules using a QMC sampler\n",
    "        qmc_sampler = SobolQMCNormalSampler(num_samples=MC_SAMPLES)\n",
    "        \n",
    "        # for best_f, we use the best observed noisy values as an approximation\n",
    "        qEI = qExpectedImprovement(\n",
    "            model=model_ei, \n",
    "            best_f=(train_obj_ei * (train_con_ei <= 0).to(train_obj_ei)).max(),\n",
    "            sampler=qmc_sampler, \n",
    "            objective=constrained_obj,\n",
    "        )\n",
    "        \n",
    "        qNEI = qNoisyExpectedImprovement(\n",
    "            model=model_nei, \n",
    "            X_baseline=train_x_nei,\n",
    "            sampler=qmc_sampler, \n",
    "            objective=constrained_obj,\n",
    "        )\n",
    "        \n",
    "        # optimize and get new observation\n",
    "        new_x_ei, new_obj_ei, new_con_ei = optimize_acqf_and_get_observation(qEI)\n",
    "        new_x_nei, new_obj_nei, new_con_nei = optimize_acqf_and_get_observation(qNEI)\n",
    "                \n",
    "        # update training points\n",
    "        train_x_ei = torch.cat([train_x_ei, new_x_ei])\n",
    "        train_obj_ei = torch.cat([train_obj_ei, new_obj_ei])\n",
    "        train_con_ei = torch.cat([train_con_ei, new_con_ei])\n",
    "        \n",
    "        #print(new_x_ei.shape, new_obj_ei.shape, new_con_ei.shape)\n",
    "        #print(train_x_ei.shape, train_obj_ei.shape, train_con_ei.shape)\n",
    "\n",
    "        train_x_nei = torch.cat([train_x_nei, new_x_nei])\n",
    "        train_obj_nei = torch.cat([train_obj_nei, new_obj_nei])\n",
    "        train_con_nei = torch.cat([train_con_nei, new_con_nei])\n",
    "\n",
    "        # update progress\n",
    "        best_random = update_random_observations(best_random)\n",
    "        best_value_ei = weighted_obj(train_x_ei).max().item()\n",
    "        best_value_nei = weighted_obj(train_x_nei).max().item()\n",
    "        best_observed_ei.append(best_value_ei)\n",
    "        best_observed_nei.append(best_value_nei)\n",
    "\n",
    "        # reinitialize the models so they are ready for fitting on next iteration\n",
    "        # use the current state dict to speed up fitting\n",
    "        mll_ei, model_ei = initialize_model(\n",
    "            train_x_ei, \n",
    "            train_obj_ei, \n",
    "            train_con_ei, \n",
    "            model_ei.state_dict(),\n",
    "        )\n",
    "        mll_nei, model_nei = initialize_model(\n",
    "            train_x_nei, \n",
    "            train_obj_nei, \n",
    "            train_con_nei, \n",
    "            model_nei.state_dict(),\n",
    "        )\n",
    "        \n",
    "        t1 = time.time()\n",
    "        \n",
    "        if verbose:\n",
    "            print(\n",
    "                f\"\\nBatch {iteration:>2}: best_value (random, qEI, qNEI) = \"\n",
    "                f\"({max(best_random):>4.2f}, {best_value_ei:>4.2f}, {best_value_nei:>4.2f}), \"\n",
    "                f\"time = {t1-t0:>4.2f}.\", end=\"\"\n",
    "            )\n",
    "        else:\n",
    "            print(\".\", end=\"\")\n",
    "   \n",
    "    best_observed_all_ei.append(best_observed_ei)\n",
    "    best_observed_all_nei.append(best_observed_nei)\n",
    "    best_random_all.append(best_random)\n"
   ]
  },
  {
   "cell_type": "code",
   "execution_count": 98,
   "id": "5fcf0e2e",
   "metadata": {},
   "outputs": [
    {
     "name": "stdout",
     "output_type": "stream",
     "text": [
      "8\n"
     ]
    }
   ],
   "source": [
    "print(len(best_observed_all_ei[0]))"
   ]
  },
  {
   "cell_type": "code",
   "execution_count": 78,
   "id": "dd60e634",
   "metadata": {},
   "outputs": [
    {
     "data": {
      "text/plain": [
       "<matplotlib.legend.Legend at 0x7fc832e3f490>"
      ]
     },
     "execution_count": 78,
     "metadata": {},
     "output_type": "execute_result"
    },
    {
     "data": {
      "image/png": "[encoded data removed]",
      "text/plain": [
       "<Figure size 576x432 with 1 Axes>"
      ]
     },
     "metadata": {
      "needs_background": "light"
     },
     "output_type": "display_data"
    }
   ],
   "source": [
    "import numpy as np\n",
    "\n",
    "from matplotlib import pyplot as plt\n",
    "%matplotlib inline\n",
    "\n",
    "def ci(y):\n",
    "    ## Confidence interval\n",
    "    return 1.96 * y.std(axis=0) / np.sqrt(N_TRIALS)\n",
    "\n",
    "iters = np.arange(N_BATCH + 1) * BATCH_SIZE\n",
    "y_ei = np.asarray(best_observed_all_ei)\n",
    "y_nei = np.asarray(best_observed_all_nei)\n",
    "y_rnd = np.asarray(best_random_all)\n",
    "\n",
    "fig, ax = plt.subplots(1, 1, figsize=(8, 6))\n",
    "ax.errorbar(iters, y_rnd.mean(axis=0), yerr=ci(y_rnd), label=\"random\", linewidth=1.5)\n",
    "ax.errorbar(iters, y_ei.mean(axis=0), yerr=ci(y_ei), label=\"qEI\", linewidth=1.5)\n",
    "ax.errorbar(iters, y_nei.mean(axis=0), yerr=ci(y_nei), label=\"qNEI\", linewidth=1.5)\n",
    "plt.plot([0, N_BATCH * BATCH_SIZE], [neg_hartmann6.optimal_value] * 2, 'k', label=\"true best bjective\", linewidth=2)\n",
    "ax.set_ylim(bottom=0.5)\n",
    "ax.set(xlabel='number of observations (beyond initial points)', ylabel='best objective value')\n",
    "ax.legend(loc=\"lower right\")"
   ]
  },
  {
   "cell_type": "code",
   "execution_count": 87,
   "id": "be258c76",
   "metadata": {},
   "outputs": [
    {
     "name": "stdout",
     "output_type": "stream",
     "text": [
      "(5, 8)\n",
      "(5, 8)\n",
      "(5, 8)\n",
      "[1.50124286 1.50877585 1.56030658 1.56030658 1.65258027 1.65258027\n",
      " 1.65258027 1.73458718]\n",
      "[1.50124286 1.53794092 1.66976832 1.82873405 1.82873405 2.14429826\n",
      " 2.18135328 2.18135328]\n",
      "[1.50124286 1.75453666 1.75453666 1.97146053 2.01310569 2.30907086\n",
      " 2.30907086 2.4014898 ]\n"
     ]
    }
   ],
   "source": [
    "print(y_rnd.shape)\n",
    "print(y_ei.shape)\n",
    "print(y_nei.shape)\n",
    "print(y_rnd.mean(axis=0))\n",
    "print(y_ei.mean(axis=0))\n",
    "print(y_nei.mean(axis=0))"
   ]
  },
  {
   "cell_type": "code",
   "execution_count": 69,
   "id": "a49334b3",
   "metadata": {},
   "outputs": [
    {
     "name": "stdout",
     "output_type": "stream",
     "text": [
      "[[0.65712659 0.65712659 0.65712659 0.65712659 0.87800145 0.87800145\n",
      "  0.87800145 0.87800145]\n",
      " [0.0855426  0.77325296 0.77325296 0.86498725 0.88914722 0.88914722\n",
      "  0.88914722 0.88914722]\n",
      " [1.21968528 1.98404992 1.98404992 1.98404992 1.98404992 1.98404992\n",
      "  1.98404992 1.98404992]]\n",
      "[[0.65712659 0.65712659 0.65712659 2.17798748 2.17798748 2.17798748\n",
      "  2.17798748 2.17798748]\n",
      " [0.0855426  0.1158604  0.1158604  0.1158604  0.1158604  0.1320063\n",
      "  0.1320063  0.28050081]\n",
      " [1.21968528 1.38315163 1.38315163 1.38315163 1.38315163 2.19090299\n",
      "  2.19090299 2.19090299]]\n",
      "[[0.65712659 0.65712659 0.65712659 1.0193838  1.0193838  1.0193838\n",
      "  1.0193838  1.0193838 ]\n",
      " [0.0855426  0.44156955 0.44156955 0.44156955 0.4454465  0.85338612\n",
      "  0.85338612 1.85449052]\n",
      " [1.21968528 1.77671977 1.77671977 2.55537766 2.55537766 2.89249259\n",
      "  2.89249259 3.00092062]]\n",
      "[0.65411816 1.13814316 1.13814316 1.16872125 1.25039953 1.25039953\n",
      " 1.25039953 1.25039953]\n",
      "[0.65411816 0.71871287 0.71871287 1.2256665  1.2256665  1.50029893\n",
      " 1.50029893 1.5497971 ]\n",
      "[0.65411816 0.95847197 0.95847197 1.338777   1.34006932 1.58842083\n",
      " 1.58842083 1.95826498]\n"
     ]
    }
   ],
   "source": [
    "print(y_rnd)\n",
    "print(y_ei)\n",
    "print(y_nei)\n",
    "print(y_rnd.mean(axis=0))\n",
    "print(y_ei.mean(axis=0))\n",
    "print(y_nei.mean(axis=0))"
   ]
  }
 ],
 "metadata": {
  "kernelspec": {
   "display_name": "QML",
   "language": "python",
   "name": "qml"
  },
  "language_info": {
   "codemirror_mode": {
    "name": "ipython",
    "version": 3
   },
   "file_extension": ".py",
   "mimetype": "text/x-python",
   "name": "python",
   "nbconvert_exporter": "python",
   "pygments_lexer": "ipython3",
   "version": "3.8.2"
  }
 },
 "nbformat": 4,
 "nbformat_minor": 5
}
