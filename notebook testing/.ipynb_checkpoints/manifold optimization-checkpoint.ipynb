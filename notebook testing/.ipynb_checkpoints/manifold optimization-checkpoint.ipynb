{
 "cells": [
  {
   "cell_type": "code",
   "execution_count": 2,
   "id": "174a4660",
   "metadata": {},
   "outputs": [
    {
     "ename": "IndentationError",
     "evalue": "expected an indented block (299442802.py, line 26)",
     "output_type": "error",
     "traceback": [
      "\u001b[0;36m  File \u001b[0;32m\"/var/folders/k7/xbg0txh97kb_tz_4gnqjl7cm0000gn/T/ipykernel_82351/299442802.py\"\u001b[0;36m, line \u001b[0;32m26\u001b[0m\n\u001b[0;31m    model = Model()\u001b[0m\n\u001b[0m                   ^\u001b[0m\n\u001b[0;31mIndentationError\u001b[0m\u001b[0;31m:\u001b[0m expected an indented block\n"
     ]
    }
   ],
   "source": [
    "import torch\n",
    "import torch.nn as nn\n",
    "import geotorch\n",
    "\n",
    "class Model(nn.Module):\n",
    "    def __init__(self):\n",
    "        super().__init__()\n",
    "        # One line suffices: Make a linear layer with orthonormal columns\n",
    "        self.linear = nn.Linear(64, 128)\n",
    "        geotorch.orthogonal(self.linear, \"weight\")\n",
    "\n",
    "        # Works with tensors: Make a CNN with kernels of rank 1\n",
    "        self.cnn = nn.Conv2d(16, 32, 3)\n",
    "        geotorch.low_rank(self.cnn, \"weight\", rank=1)\n",
    "\n",
    "        # Weights are initialized to a random value when you put the constraints, but\n",
    "        # you may re-initialize them to a different value by assigning to them\n",
    "        self.linear.weight = torch.eye(128, 64)\n",
    "        # And that's all you need to do. The rest is regular PyTorch code\n",
    "\n",
    "    def forward(self, x):\n",
    "        # self.linear is orthogonal and every 3x3 kernel in self.cnn is of rank 1\n",
    "        pass\n",
    "\n",
    "# Use the model as you would normally do. Everything just works\n",
    "#model = Model().cuda()\n",
    "model = Model()\n",
    "\n",
    "# Use your optimizer of choice. Any optimizer works out of the box with any parametrization\n",
    "optim = torch.optim.Adam(model.parameters(), lr=lr)"
   ]
  },
  {
   "cell_type": "code",
   "execution_count": null,
   "id": "ed280756",
   "metadata": {},
   "outputs": [],
   "source": []
  }
 ],
 "metadata": {
  "kernelspec": {
   "display_name": "QML",
   "language": "python",
   "name": "qml"
  },
  "language_info": {
   "codemirror_mode": {
    "name": "ipython",
    "version": 3
   },
   "file_extension": ".py",
   "mimetype": "text/x-python",
   "name": "python",
   "nbconvert_exporter": "python",
   "pygments_lexer": "ipython3",
   "version": "3.8.2"
  }
 },
 "nbformat": 4,
 "nbformat_minor": 5
}
