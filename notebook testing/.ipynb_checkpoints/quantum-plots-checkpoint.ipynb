{
 "cells": [
  {
   "cell_type": "markdown",
   "metadata": {},
   "source": [
    "# Quantum plots (beta)\n",
    "\n",
    "This notebook provides plotting functionality tailored for the use with the `quantumarticle` documentclass."
   ]
  },
  {
   "cell_type": "markdown",
   "metadata": {},
   "source": [
    "### IMPORTANT\n",
    "\n",
    "In case this notebook does not run smoothly, please open an Issue on our GitHub page https://github.com/quantum-journal/quantum-journal/issues and append the following information:\n",
    "\n",
    "- The error message (you can include the whole output as .html).\n",
    "- The version of Jupyter notebook and IPython (as found in the menu under Help > About).\n",
    "- The version of Matplotlib and the current backend. This information can be found by running the following code:\n",
    "    ```python\n",
    "    print(mpl.__version__)\n",
    "    print(mpl.get_backend())\n",
    "    ```\n",
    "    \n",
    "You will help us tremendously in improving your experience.\n",
    "\n",
    "Should you have the problem that your figures are not displayed in the Jupyter notebook, you can still save them as PDF documents via `plt.savefig('filename.pdf')`. Afterwards you can use your favorite PDF viewer to check your figures. Nevertheless you should inform us so that the bug can be removed."
   ]
  },
  {
   "cell_type": "markdown",
   "metadata": {},
   "source": [
    "## Global routines\n",
    "\n",
    "The parameters for the plots are set in a way that the font sizes in the resulting graphic match those in the surrounding document."
   ]
  },
  {
   "cell_type": "code",
   "execution_count": 1,
   "metadata": {},
   "outputs": [
    {
     "name": "stdout",
     "output_type": "stream",
     "text": [
      "Setup methods loaded\n"
     ]
    }
   ],
   "source": [
    "import numpy             as     np\n",
    "import matplotlib        as     mpl\n",
    "import matplotlib.pyplot as     plt\n",
    "from   matplotlib        import rc\n",
    "from   cycler            import cycler\n",
    "\n",
    "_widths = {\n",
    "    # a4paper columnwidth = 426.79135 pt = 5.93 in\n",
    "    # letterpaper columnwidth = 443.57848 pt = 6.16 in\n",
    "    'onecolumn': {\n",
    "        'a4paper' : 5.93,\n",
    "        'letterpaper' : 6.16\n",
    "    },\n",
    "    # a4paper columnwidth = 231.84843 pt = 3.22 in\n",
    "    # letterpaper columnwidth = 240.24199 pt = 3.34 in\n",
    "    'twocolumn': {\n",
    "        'a4paper' : 3.22,\n",
    "        'letterpaper' : 3.34\n",
    "    }\n",
    "}\n",
    "\n",
    "_wide_widths = {\n",
    "    # a4paper wide columnwidth = 426.79135 pt = 5.93 in\n",
    "    # letterpaper wide columnwidth = 443.57848 pt = 6.16 in\n",
    "    'onecolumn': {\n",
    "        'a4paper' : 5.93,\n",
    "        'letterpaper' : 6.16\n",
    "    },\n",
    "    # a4paper wide linewidth = 483.69687 pt = 6.72 in\n",
    "    # letterpaper wide linewidth = 500.48400 pt = 6.95 in\n",
    "    'twocolumn': {\n",
    "        'a4paper' : 6.72,\n",
    "        'letterpaper' : 6.95\n",
    "    }\n",
    "}\n",
    "\n",
    "_fontsizes = {\n",
    "    10 : {\n",
    "        'tiny' : 5,\n",
    "        'scriptsize' : 7,\n",
    "        'footnotesize' : 8, \n",
    "        'small' : 9, \n",
    "        'normalsize' : 10,\n",
    "        'large' : 12, \n",
    "        'Large' : 14, \n",
    "        'LARGE' : 17,\n",
    "        'huge' : 20,\n",
    "        'Huge' : 25\n",
    "    },\n",
    "    11 : {\n",
    "        'tiny' : 6,\n",
    "        'scriptsize' : 8,\n",
    "        'footnotesize' : 9, \n",
    "        'small' : 10, \n",
    "        'normalsize' : 11,\n",
    "        'large' : 12, \n",
    "        'Large' : 14, \n",
    "        'LARGE' : 17,\n",
    "        'huge' :  20,\n",
    "        'Huge' :  25\n",
    "    },\n",
    "    12 : {\n",
    "        'tiny' : 6,\n",
    "        'scriptsize' : 8,\n",
    "        'footnotesize' : 10, \n",
    "        'small' : 11, \n",
    "        'normalsize' : 12,\n",
    "        'large' : 14, \n",
    "        'Large' : 17, \n",
    "        'LARGE' : 20,\n",
    "        'huge' :  25,\n",
    "        'Huge' :  25\n",
    "    }\n",
    "}\n",
    "\n",
    "_width         = 1\n",
    "_wide_width    = 1\n",
    "_quantumviolet = '#53257F'\n",
    "_quantumgray   = '#555555'\n",
    "\n",
    "# Sets up the plot with the fitting arguments so that the font sizes of the plot\n",
    "# and the font sizes of the document are well aligned\n",
    "#\n",
    "#     columns : string = ('onecolumn' | 'twocolumn')\n",
    "#         the columns you used to set up your quantumarticle, \n",
    "#         defaults to 'twocolumn'\n",
    "#\n",
    "#     paper : string = ('a4paper' | 'letterpaper')\n",
    "#         the paper size you used to set up your quantumarticle,\n",
    "#         defaults to 'a4paper'\n",
    "#\n",
    "#     fontsize : int = (10 | 11 | 12)\n",
    "#         the fontsize you used to set up your quantumarticle as int\n",
    "#\n",
    "#     (returns) : dict\n",
    "#         parameters that can be used for plot adjustments\n",
    "\n",
    "def global_setup(columns = 'twocolumn', paper = 'a4paper', fontsize = 10):\n",
    "    plt.rcdefaults()\n",
    "        \n",
    "    # Seaborn white is a good base style\n",
    "    plt.style.use(['seaborn-white', './quantum-plots.mplstyle'])\n",
    "    \n",
    "    try:        \n",
    "        # This hackery is necessary so that jupyther shows the plots\n",
    "        mpl.use(\"pgf\")\n",
    "        %matplotlib inline\n",
    "        plt.plot()\n",
    "        mpl.use(\"pgf\")\n",
    "    except:\n",
    "        print('Call to matplotlib.use had no effect')\n",
    "        \n",
    "    mpl.interactive(False) \n",
    "    \n",
    "    # Now prepare the styling that depends on the settings of the document\n",
    "    \n",
    "    global _width \n",
    "    _width = _widths[columns][paper]\n",
    "    \n",
    "    global _wide_width \n",
    "    _wide_width = _wide_widths[columns][paper]\n",
    "    \n",
    "    # Use the default fontsize scaling of LaTeX\n",
    "    global _fontsizes\n",
    "    fontsizes = _fontsizes[fontsize]\n",
    "    \n",
    "    plt.rcParams['axes.labelsize'] = fontsizes['small']\n",
    "    plt.rcParams['axes.titlesize'] = fontsizes['large']\n",
    "    plt.rcParams['xtick.labelsize'] = fontsizes['footnotesize']\n",
    "    plt.rcParams['ytick.labelsize'] = fontsizes['footnotesize']\n",
    "    plt.rcParams['font.size'] = fontsizes['small']\n",
    "    \n",
    "    return {\n",
    "            'fontsizes' : fontsizes,\n",
    "            'colors' : {\n",
    "                'quantumviolet' : _quantumviolet,\n",
    "                'quantumgray' : _quantumgray\n",
    "            }\n",
    "        }\n",
    "    \n",
    "\n",
    "# Sets up the plot with the fitting arguments so that the font sizes of the plot\n",
    "# and the font sizes of the document are well aligned\n",
    "#\n",
    "#     aspect_ratio : float\n",
    "#         the aspect ratio (width/height) of your plot\n",
    "#         defaults to the golden ratio\n",
    "#\n",
    "#     width_ratio : float in [0, 1]\n",
    "#         the width of your plot when you insert it into the document, e.g.\n",
    "#         .8 of the regular width\n",
    "#         defaults to 1.0\n",
    "#\n",
    "#     wide : bool \n",
    "#         indicates if the figures spans two columns in twocolumn mode, i.e.\n",
    "#         when the figure* environment is used, has no effect in onecolumn mode \n",
    "#         defaults to False\n",
    "#\n",
    "#     (returns) : matplotlib figure object\n",
    "#         the initialized figure object\n",
    "\n",
    "def plot_setup(aspect_ratio = 1/1.62, width_ratio = 1.0, wide = False):\n",
    "    width = (_wide_width if wide else _width) * width_ratio\n",
    "    height = width * aspect_ratio\n",
    "           \n",
    "    return plt.figure(figsize=(width,height), dpi=120, facecolor='white')\n",
    "    \n",
    "print('Setup methods loaded')"
   ]
  },
  {
   "cell_type": "markdown",
   "metadata": {},
   "source": [
    "## Examples\n",
    "\n",
    "When setting up your plots you have to call `global_setup` once and set the global options of your `quantumarticle`. \n",
    "\n",
    "The routine `global_setup` returns a dictionary with fontsizes and custom colors that should be used instead of numeric values. This ensures consistency with the other font sizes used in your LaTeX document. This means \n",
    "```python\n",
    "fontsize = props['fontsizes']['large']\n",
    "```\n",
    "should be preferred over\n",
    "```python\n",
    "fontsize = 12\n",
    "``` "
   ]
  },
  {
   "cell_type": "code",
   "execution_count": 4,
   "metadata": {},
   "outputs": [
    {
     "name": "stdout",
     "output_type": "stream",
     "text": [
      "Global props:\n",
      "fontsizes :\n",
      "     tiny :  6\n",
      "     scriptsize :  8\n",
      "     footnotesize :  9\n",
      "     small :  10\n",
      "     normalsize :  11\n",
      "     large :  12\n",
      "     Large :  14\n",
      "     LARGE :  17\n",
      "     huge :  20\n",
      "     Huge :  25\n",
      "colors :\n",
      "     quantumviolet :  #53257F\n",
      "     quantumgray :  #555555\n"
     ]
    }
   ],
   "source": [
    "props = global_setup(columns = 'twocolumn', paper = 'a4paper', fontsize = 11)\n",
    "\n",
    "print('Global props:')\n",
    "for key in props:\n",
    "    print(key, ':')\n",
    "    for subkey in props[key]:\n",
    "        print('    ', subkey, ': ', props[key][subkey])"
   ]
  },
  {
   "cell_type": "markdown",
   "metadata": {},
   "source": [
    "### Plotting advice\n",
    "\n",
    "Plots should _always_ be saved as __PDF__ files via `plt.savefig('filename.pdf')`. This will result in the highest quality graphics that can seamlessly integrated in your publications. \n",
    "\n",
    "We further recommend that you use `tight_layout()` on your plots."
   ]
  },
  {
   "cell_type": "markdown",
   "metadata": {},
   "source": [
    "### Lineplot\n",
    "\n",
    "To set up the plotting environment for your figure, you have to use the function `plot_setup` which ensures the proper sizing of your plot."
   ]
  },
  {
   "cell_type": "code",
   "execution_count": null,
   "metadata": {
    "scrolled": false
   },
   "outputs": [],
   "source": [
    "x = np.linspace(400, 800, 100)\n",
    "\n",
    "fig = plot_setup()\n",
    "\n",
    "for i in range(9):\n",
    "    y = 1+np.sin(.013*x+.4*i)\n",
    "    plt.plot(x, y)\n",
    "    \n",
    "plt.xlabel('$\\\\lambda$ [nm]')\n",
    "plt.ylabel('$I$ [a.u.]')\n",
    "plt.tight_layout()"
   ]
  },
  {
   "cell_type": "markdown",
   "metadata": {},
   "source": [
    "### Data plot"
   ]
  },
  {
   "cell_type": "code",
   "execution_count": null,
   "metadata": {},
   "outputs": [],
   "source": [
    "Ds = np.concatenate([np.arange(0.00025,0.0021,0.00025) , np.arange(0.003,0.011, 0.001) , [0.012,0.014]])\n",
    "\n",
    "RT1 = [0.137244, 0.0717596, 0.0599749, 0.0574315, 0.0594974, 0.0621222, 0.0674902, 0.0747963, 0.113289, 0.138015, 0.156837, 0.173086, 0.182361, 0.19209, 0.201404, 0.20936, 0.222541, 0.232029] \n",
    "RT1_std = [0.00630981, 0.0042112, 0.00442357, 0.00430778, 0.00682198, 0.00924101, 0.0120358, 0.0153502, 0.017939, 0.0175116, 0.0177625, 0.0170304, 0.0172532, 0.0178392, 0.0173897, 0.0186951, 0.0197251, 0.019896]\n",
    "RT2 = [0.132671, 0.0638861, 0.0475232, 0.0451378, 0.093839, 0.120379, 0.136352, 0.144436, 0.112958, 0.103575, 0.0943459, 0.0897908, 0.0859248, 0.0840781, 0.0811686, 0.0803692, 0.0758179, 0.0746361]\n",
    "RT2_std = [0.00627376, 0.00379742, 0.0040468, 0.00790347, 0.016209, 0.00974721, 0.0136891, 0.0126009, 0.0108238, 0.00789612, 0.00453309, 0.00640408, 0.00607691, 0.00590591, 0.00551176, 0.00594776, 0.00389493, 0.00461693]\n",
    "\n",
    "fig = plot_setup()\n",
    "R1, = plt.plot(Ds, RT1, marker = 'o')\n",
    "R2, = plt.plot(Ds, RT2, marker = '^')\n",
    "\n",
    "plt.xlabel('$D$')\n",
    "plt.ylabel('$R_T$')\n",
    "\n",
    "plt.legend([R1, R2], ['Layer 1', 'Layer 2'])\n",
    "plt.tight_layout(pad = 0.0)"
   ]
  },
  {
   "cell_type": "markdown",
   "metadata": {},
   "source": [
    "### TeX decorations and annotations"
   ]
  },
  {
   "cell_type": "code",
   "execution_count": null,
   "metadata": {},
   "outputs": [],
   "source": [
    "x = np.linspace(0, 5, 50)\n",
    "f = (x-1)**2 - x + 0.25 + np.sin(3*x) + 5 * np.exp(-x)\n",
    "F = (x-1)**3/3. - x**2/2 + 0.25*x + 1/3. - 1/3. * (np.cos(3*x)-1) - 5 * np.exp(-x) + 5\n",
    "\n",
    "fig = plot_setup()\n",
    "\n",
    "plt.plot(x, f)\n",
    "plt.plot(x, F)\n",
    "\n",
    "plt.text(4,3,'$f(x)$')\n",
    "plt.text(2.5,7.5, r'$\\int_0^x \\mathrm{d}\\xi \\, f(\\xi)$')\n",
    "plt.annotate('Orange line', \n",
    "             xy=(1.5, 4.2), \n",
    "             xytext=(1, 10), \n",
    "             arrowprops=dict(facecolor='black', arrowstyle='-|>'))\n",
    "plt.xlabel('$x$')\n",
    "plt.tight_layout()"
   ]
  },
  {
   "cell_type": "markdown",
   "metadata": {},
   "source": [
    "## Spectrum"
   ]
  },
  {
   "cell_type": "code",
   "execution_count": null,
   "metadata": {
    "scrolled": false
   },
   "outputs": [],
   "source": [
    "# Generate dummy spectral data\n",
    "x = np.linspace(400, 800, 200)\n",
    "y = 30 / (4 + ((x-550)/4)**2) + 30 / (12 + ((x-650)/12)**2) + .001*x + np.random.normal(0,.1, 200)\n",
    "\n",
    "fig = plot_setup()\n",
    "\n",
    "# plot data\n",
    "data = plt.scatter(x,y, color = 'C0', alpha = 0.7, marker = 'x')\n",
    "\n",
    "# plot fits\n",
    "y_fit1 = 30 / (4 + ((x-550)/4)**2)\n",
    "plt.plot(x, y_fit1, color = 'C1', ls = '--')\n",
    "\n",
    "y_fit2 = 30 / (12 + ((x-650)/12)**2)\n",
    "plt.plot(x, y_fit2, color = 'C2', ls = '--')\n",
    "\n",
    "y_fit3 = .001*x\n",
    "plt.plot(x, y_fit3, color = 'C3', ls = '--')\n",
    "\n",
    "y_fit = y_fit1 + y_fit2 + y_fit3\n",
    "fit, = plt.plot(x, y_fit, color = 'C0')\n",
    "\n",
    "plt.xlabel('$\\\\lambda$ [nm]')\n",
    "plt.ylabel('$I$ [arb. un.]')\n",
    "plt.legend([data, fit], ['Data', 'Fit'])\n",
    "plt.tight_layout(pad = 0.0)"
   ]
  },
  {
   "cell_type": "markdown",
   "metadata": {},
   "source": [
    "### Scatter plot"
   ]
  },
  {
   "cell_type": "code",
   "execution_count": null,
   "metadata": {},
   "outputs": [],
   "source": [
    "fig = plot_setup(aspect_ratio = 1.0)\n",
    "\n",
    "for i in range(2):\n",
    "    x = np.random.uniform(0,10,100)\n",
    "    y = np.random.uniform(0,10,100)\n",
    "    plt.scatter(x, y)\n",
    "    \n",
    "plt.xlabel('x')\n",
    "plt.ylabel('y')\n",
    "plt.grid()\n",
    "plt.tight_layout()"
   ]
  },
  {
   "cell_type": "markdown",
   "metadata": {},
   "source": [
    "### Contour plot"
   ]
  },
  {
   "cell_type": "code",
   "execution_count": null,
   "metadata": {},
   "outputs": [],
   "source": [
    "fig = plot_setup()\n",
    "\n",
    "x = np.linspace(0, 10, 100)\n",
    "y = np.linspace(0, 10, 100)\n",
    "X, Y = np.meshgrid(x, y)\n",
    "\n",
    "Z = (X-5)**2 + (Y-3)**2 + .3 * X * Y\n",
    "\n",
    "plt.contour(X, Y, Z, cmap = 'viridis')"
   ]
  },
  {
   "cell_type": "markdown",
   "metadata": {},
   "source": [
    "### Colormesh"
   ]
  },
  {
   "cell_type": "code",
   "execution_count": null,
   "metadata": {},
   "outputs": [],
   "source": [
    "fig = plot_setup()\n",
    "\n",
    "x = np.linspace(0, 10, 10)\n",
    "y = np.linspace(0, 10, 10)\n",
    "X, Y = np.meshgrid(x, y)\n",
    "\n",
    "Z = (X-5)**2 + (Y-3)**2 + .3 * X * Y\n",
    "\n",
    "plt.pcolormesh(X, Y, Z, cmap = 'viridis')"
   ]
  },
  {
   "cell_type": "markdown",
   "metadata": {},
   "source": [
    "### Multiple Plots"
   ]
  },
  {
   "cell_type": "code",
   "execution_count": null,
   "metadata": {},
   "outputs": [],
   "source": [
    "import scipy.ndimage\n",
    "\n",
    "# Create a custom cyclic colormap\n",
    "cdict = {'red':   ((0.0,  0.05, 0.05),\n",
    "                   (0.25,  1.0, 1.0),\n",
    "                   (0.5,  0.7, 0.7),\n",
    "                   (0.75,  0.02, 0.02),\n",
    "                   (1.0,  0.05, 0.05)),\n",
    "         'green': ((0.0,  0.27, 0.27),\n",
    "                   (0.25,  0.72, 0.72),\n",
    "                   (0.5,  0.02, 0.02),\n",
    "                   (0.75,  0.80, 0.80),\n",
    "                   (1.0,  0.27, 0.27)),\n",
    "         'blue':  ((0.0,  1.0, 1.0),\n",
    "                   (0.25,  0.02, 0.02),\n",
    "                   (0.5,  0.21, 0.21),\n",
    "                   (0.75,  0.12, 0.12),\n",
    "                   (1.0,  1.0, 1.0))}\n",
    "\n",
    "my_colormap = mpl.colors.LinearSegmentedColormap('mycolormap', cdict)\n",
    "\n",
    "\n",
    "# Make plotting reusable\n",
    "def plot_array(arr, label):\n",
    "    ax_ = plt.gca()\n",
    "    X, Y = np.meshgrid(range(arr.shape[0]), range(arr.shape[1]), indexing='ij')\n",
    "    plt.setp(ax_.get_yticklabels(), visible=False)\n",
    "    plt.setp(ax_.get_xticklabels(), visible=False)     \n",
    "    \n",
    "    im = plt.pcolormesh(X, Y, arr, vmin=0.0, vmax = 2*np.pi, cmap=my_colormap)\n",
    "    \n",
    "    ax_.axis([X.min(), X.max(), Y.min(), Y.max()])\n",
    "    \n",
    "    # Reduce title fontsize -- it is important to use props here as they guarantee\n",
    "    # that the fontsize fits well with the surrounding document\n",
    "    plt.title(label, fontdict = {'fontsize' : props['fontsizes']['normalsize']})\n",
    "    \n",
    "    return im\n",
    "\n",
    "# Create some dummy data\n",
    "dummy_data = np.random.uniform(0.0, 2 * np.pi, (4,32,32))\n",
    "dummy_data[1] = scipy.ndimage.uniform_filter(dummy_data[0], size=2, mode='wrap')\n",
    "dummy_data[2] = scipy.ndimage.uniform_filter(dummy_data[0], size=4, mode='wrap')\n",
    "dummy_data[3] = scipy.ndimage.uniform_filter(dummy_data[0], size=9, mode='wrap')\n",
    "\n",
    "# The actual plotting\n",
    "fig = plot_setup(aspect_ratio = 0.28, wide = True)\n",
    "    \n",
    "ax1 = plt.subplot2grid((1,17), (0,0), colspan=4)\n",
    "ax2 = plt.subplot2grid((1,17), (0,4), colspan=4)\n",
    "ax3 = plt.subplot2grid((1,17), (0,8), colspan=4)\n",
    "ax4 = plt.subplot2grid((1,17), (0,12), colspan=4)\n",
    "ax5 = plt.subplot2grid((1,17), (0,16))\n",
    "\n",
    "for (ax_, title_, idx_) in [(ax1, '$t = 0$', 0), (ax2, '$t = 1$', 1), (ax3, '$t = 10$', 2), (ax4, '$t = 100$', 3)]:\n",
    "    plt.sca(ax_)\n",
    "    im = plot_array(dummy_data[idx_,:,:], title_)      \n",
    "\n",
    "norm = mpl.colors.Normalize(vmin=0, vmax=2*np.pi)\n",
    "cb1 = mpl.colorbar.ColorbarBase(ax5, cmap=my_colormap,\n",
    "                                norm=norm,\n",
    "                                ticks=[0, np.pi, 2*np.pi],\n",
    "                                orientation='vertical')\n",
    "cb1.ax.set_yticklabels(['$0$', '$\\\\pi$', '$2 \\\\pi$'])\n",
    "cb1.set_label('Spin angle')\n",
    "plt.tight_layout()"
   ]
  }
 ],
 "metadata": {
  "kernelspec": {
   "display_name": "Python 3",
   "language": "python",
   "name": "python3"
  },
  "language_info": {
   "codemirror_mode": {
    "name": "ipython",
    "version": 3
   },
   "file_extension": ".py",
   "mimetype": "text/x-python",
   "name": "python",
   "nbconvert_exporter": "python",
   "pygments_lexer": "ipython3",
   "version": "3.8.8"
  }
 },
 "nbformat": 4,
 "nbformat_minor": 2
}
