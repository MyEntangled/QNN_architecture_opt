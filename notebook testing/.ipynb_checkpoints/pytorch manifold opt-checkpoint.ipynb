{
 "cells": [
  {
   "cell_type": "code",
   "execution_count": 1,
   "id": "295c9326",
   "metadata": {},
   "outputs": [
    {
     "data": {
      "image/png": "[encoded data removed]",
      "text/plain": [
       "<Figure size 432x288 with 1 Axes>"
      ]
     },
     "metadata": {
      "needs_background": "light"
     },
     "output_type": "display_data"
    }
   ],
   "source": [
    "import torch as t\n",
    "from matplotlib import pyplot as plt\n",
    "\n",
    "complex_param = t.tensor([1],dtype=t.complex64, requires_grad=True)\n",
    "\n",
    "# We will optimize on the mean squared error from a 1j\n",
    "target = 1j\n",
    "\n",
    "def calc_loss(x):\n",
    "    return t.abs(x - target)**2\n",
    "\n",
    "optimizer = t.optim.Adam([complex_param], lr=0.001)\n",
    "\n",
    "n = 10000\n",
    "values = t.zeros(n, dtype=t.complex64)\n",
    "for i in range(n):\n",
    "    optimizer.zero_grad()\n",
    "    loss = calc_loss(complex_param)\n",
    "    loss.backward()\n",
    "    optimizer.step()\n",
    "    values[i] = complex_param.detach()\n",
    "\n",
    "\n",
    "# Plot the results\n",
    "plt.plot(values.real, label='Real Part')\n",
    "plt.plot(values.imag, label='Imaginary Part')\n",
    "plt.legend()\n",
    "plt.xlabel('Iteration')\n",
    "plt.ylabel('Complex Parameter')\n",
    "plt.title('Optimization Progress with as-implemented Adam')\n",
    "plt.show()"
   ]
  },
  {
   "cell_type": "code",
   "execution_count": null,
   "id": "dd487ab2",
   "metadata": {},
   "outputs": [],
   "source": []
  },
  {
   "cell_type": "code",
   "execution_count": 341,
   "id": "f826940e",
   "metadata": {},
   "outputs": [],
   "source": [
    "class UnitaryModel(nn.Module):\n",
    "    def __init__(self, num_qubits):\n",
    "        super(UnitaryModel, self).__init__()\n",
    "        d = 2**num_qubits\n",
    "        self.U = orthogonal(nn.Linear(d,d, bias=False, dtype=torch.cfloat), orthogonal_map='matrix_exp')\n",
    "\n",
    "    def forward(self, x):\n",
    "        x = self.U(x)\n",
    "        return x\n",
    "    \n",
    "model = UnitaryModel(num_qubits=1)\n",
    "optimizer = torch.optim.Adam(model.parameters(), lr=0.01)"
   ]
  },
  {
   "cell_type": "code",
   "execution_count": 342,
   "id": "e291f983",
   "metadata": {},
   "outputs": [
    {
     "name": "stdout",
     "output_type": "stream",
     "text": [
      "tensor(-1., grad_fn=<AddBackward0>)\n"
     ]
    }
   ],
   "source": [
    "def fidelity_loss(output, target, model, reg=1e-6):\n",
    "    loss = 0\n",
    "    for i in range(len(output)):\n",
    "        inner_prod = torch.dot(output[i].T.conj(), target[i])\n",
    "        #loss += inner_prod.conj() * inner_prod\n",
    "        loss -= torch.abs(inner_prod)**2 / len(output)\n",
    "    \n",
    "    U = list(model.parameters())[0].detach()\n",
    "    orth_constraint = torch.matmul(U,U.T.conj()) - torch.eye(U.shape[0])\n",
    "    return loss + reg*orth_constraint.abs().sum()\n",
    "\n",
    "loss = fidelity_loss(dummy_x, dummy_y, model, 1)\n",
    "print(loss)\n",
    "loss.backward()"
   ]
  },
  {
   "cell_type": "code",
   "execution_count": 343,
   "id": "037e8a23",
   "metadata": {},
   "outputs": [
    {
     "name": "stdout",
     "output_type": "stream",
     "text": [
      "tensor([[1.+0.j, 0.+0.j],\n",
      "        [1.+0.j, 0.+0.j],\n",
      "        [1.+0.j, 0.+0.j],\n",
      "        [1.+0.j, 0.+0.j]], requires_grad=True)\n",
      "tensor([[1.+0.j, 0.+0.j],\n",
      "        [1.+0.j, 0.+0.j],\n",
      "        [1.+0.j, 0.+0.j],\n",
      "        [1.+0.j, 0.+0.j]])\n"
     ]
    }
   ],
   "source": [
    "#dummy_x = torch.tensor([[1,0],[0,1]], dtype=torch.cfloat, requires_grad=True)\n",
    "#dummy_y = torch.tensor([[1,-1j],[1,1j]],dtype=torch.cfloat)/torch.sqrt(torch.tensor(2))\n",
    "dummy_x = torch.tensor([[1,0],[1,0],[1,0],[1,0]], dtype=torch.cfloat, requires_grad=True)\n",
    "dummy_y = torch.tensor([[1,0],[1,0],[1,0],[1,0]], dtype=torch.cfloat)\n",
    "\n",
    "\n",
    "print(dummy_x)\n",
    "print(dummy_y)"
   ]
  },
  {
   "cell_type": "code",
   "execution_count": 344,
   "id": "5d783d71",
   "metadata": {},
   "outputs": [],
   "source": [
    "NUM_EPOCHS = 1000\n",
    "fidelity = torch.zeros(NUM_EPOCHS, dtype=torch.cfloat)\n",
    "\n",
    "for i in range(NUM_EPOCHS):\n",
    "    optimizer.zero_grad()\n",
    "    output = model(dummy_x)\n",
    "    loss = fidelity_loss(output, dummy_y, model, reg=1)\n",
    "    loss.backward()\n",
    "    optimizer.step()\n",
    "    fidelity[i] = loss.detach()\n"
   ]
  },
  {
   "cell_type": "code",
   "execution_count": 345,
   "id": "2492e5ac",
   "metadata": {},
   "outputs": [
    {
     "data": {
      "text/plain": [
       "tensor([0.4598, 0.4496, 0.4393, 0.4288, 0.4180, 0.4072, 0.3961, 0.3848, 0.3732,\n",
       "        0.3615, 0.3495, 0.3374, 0.3249, 0.3123, 0.2995, 0.2864, 0.2731, 0.2595,\n",
       "        0.2457, 0.2317, 0.2175, 0.2030, 0.1883, 0.1733, 0.1581, 0.1427, 0.1271,\n",
       "        0.1112, 0.0951, 0.0788, 0.0622, 0.0455, 0.0285, 0.0114, 0.0060, 0.0236,\n",
       "        0.0413, 0.0592, 0.0773, 0.0956, 0.1140, 0.1326, 0.1513, 0.1701, 0.1891,\n",
       "        0.2081, 0.2273, 0.2466, 0.2659, 0.2853, 0.3048, 0.3243, 0.3439, 0.3635,\n",
       "        0.3831, 0.4027, 0.4223, 0.4418, 0.4613, 0.4808, 0.5002, 0.5196, 0.5388,\n",
       "        0.5579, 0.5770, 0.5959, 0.6147, 0.6333, 0.6518, 0.6702, 0.6883, 0.7063,\n",
       "        0.7240, 0.7416, 0.7589, 0.7761, 0.7930, 0.8096, 0.8260, 0.8422, 0.8580,\n",
       "        0.8737, 0.8890, 0.9041, 0.9189, 0.9334, 0.9476, 0.9615, 0.9751, 0.9884,\n",
       "        1.0014, 1.0141, 1.0265, 1.0386, 1.0504, 1.0619, 1.0730, 1.0839, 1.0945,\n",
       "        1.1047, 1.1147, 1.1244, 1.1338, 1.1428, 1.1516, 1.1601, 1.1684, 1.1763,\n",
       "        1.1840, 1.1914, 1.1986, 1.2054, 1.2121, 1.2184, 1.2246, 1.2305, 1.2361,\n",
       "        1.2416, 1.2468, 1.2518, 1.2566, 1.2611, 1.2655, 1.2697, 1.2737, 1.2775,\n",
       "        1.2811, 1.2845, 1.2878, 1.2910, 1.2939, 1.2967, 1.2994, 1.3019, 1.3043,\n",
       "        1.3066, 1.3087, 1.3107, 1.3126, 1.3144, 1.3161, 1.3177, 1.3192, 1.3206,\n",
       "        1.3219, 1.3231, 1.3242, 1.3253, 1.3263, 1.3272, 1.3280, 1.3288, 1.3295,\n",
       "        1.3302, 1.3308, 1.3314, 1.3319, 1.3324, 1.3328, 1.3332, 1.3335, 1.3339,\n",
       "        1.3341, 1.3344, 1.3346, 1.3348, 1.3350, 1.3351, 1.3352, 1.3353, 1.3354,\n",
       "        1.3355, 1.3355, 1.3356, 1.3356, 1.3356, 1.3356, 1.3356, 1.3356, 1.3356,\n",
       "        1.3355, 1.3355, 1.3354, 1.3354, 1.3353, 1.3353, 1.3352, 1.3351, 1.3351,\n",
       "        1.3350, 1.3349, 1.3349, 1.3348, 1.3347, 1.3347, 1.3346, 1.3345, 1.3345,\n",
       "        1.3344, 1.3343, 1.3343, 1.3342, 1.3341, 1.3341, 1.3340, 1.3340, 1.3339,\n",
       "        1.3339, 1.3338, 1.3338, 1.3337, 1.3337, 1.3336, 1.3336, 1.3335, 1.3335,\n",
       "        1.3335, 1.3334, 1.3334, 1.3334, 1.3333, 1.3333, 1.3333, 1.3333, 1.3333,\n",
       "        1.3332, 1.3332, 1.3332, 1.3332, 1.3332, 1.3332, 1.3331, 1.3331, 1.3331,\n",
       "        1.3331, 1.3331, 1.3331, 1.3331, 1.3331, 1.3331, 1.3331, 1.3331, 1.3331,\n",
       "        1.3331, 1.3331, 1.3331, 1.3331, 1.3331, 1.3331, 1.3331, 1.3331, 1.3331,\n",
       "        1.3331, 1.3331, 1.3331, 1.3331, 1.3331, 1.3331, 1.3331, 1.3331, 1.3331,\n",
       "        1.3331, 1.3331, 1.3331, 1.3331, 1.3331, 1.3331, 1.3331, 1.3331, 1.3331,\n",
       "        1.3331, 1.3331, 1.3331, 1.3331, 1.3331, 1.3331, 1.3331, 1.3331, 1.3331,\n",
       "        1.3331, 1.3331, 1.3331, 1.3331, 1.3331, 1.3331, 1.3331, 1.3331, 1.3331,\n",
       "        1.3331, 1.3331, 1.3331, 1.3331, 1.3331, 1.3331, 1.3331, 1.3331, 1.3331,\n",
       "        1.3331, 1.3331, 1.3331, 1.3331, 1.3331, 1.3331, 1.3331, 1.3331, 1.3331,\n",
       "        1.3331, 1.3331, 1.3331, 1.3331, 1.3331, 1.3331, 1.3331, 1.3331, 1.3331,\n",
       "        1.3331, 1.3331, 1.3331, 1.3331, 1.3331, 1.3331, 1.3331, 1.3331, 1.3331,\n",
       "        1.3331, 1.3331, 1.3331, 1.3331, 1.3331, 1.3331, 1.3331, 1.3331, 1.3331,\n",
       "        1.3331, 1.3331, 1.3331, 1.3331, 1.3331, 1.3331, 1.3331, 1.3331, 1.3331,\n",
       "        1.3331, 1.3331, 1.3331, 1.3331, 1.3331, 1.3331, 1.3331, 1.3331, 1.3331,\n",
       "        1.3331, 1.3331, 1.3331, 1.3331, 1.3331, 1.3331, 1.3331, 1.3331, 1.3331,\n",
       "        1.3331, 1.3331, 1.3331, 1.3331, 1.3331, 1.3331, 1.3331, 1.3331, 1.3331,\n",
       "        1.3331, 1.3331, 1.3331, 1.3331, 1.3331, 1.3331, 1.3331, 1.3331, 1.3331,\n",
       "        1.3331, 1.3331, 1.3331, 1.3331, 1.3331, 1.3331, 1.3331, 1.3331, 1.3331,\n",
       "        1.3331, 1.3331, 1.3331, 1.3331, 1.3331, 1.3331, 1.3331, 1.3331, 1.3331,\n",
       "        1.3331, 1.3331, 1.3331, 1.3331, 1.3331, 1.3331, 1.3331, 1.3331, 1.3331,\n",
       "        1.3331, 1.3331, 1.3331, 1.3331, 1.3331, 1.3331, 1.3331, 1.3331, 1.3331,\n",
       "        1.3331, 1.3331, 1.3331, 1.3331, 1.3331, 1.3331, 1.3331, 1.3331, 1.3331,\n",
       "        1.3331, 1.3331, 1.3331, 1.3331, 1.3331, 1.3331, 1.3331, 1.3331, 1.3331,\n",
       "        1.3331, 1.3331, 1.3331, 1.3331, 1.3331, 1.3331, 1.3331, 1.3331, 1.3331,\n",
       "        1.3331, 1.3331, 1.3331, 1.3331, 1.3331, 1.3331, 1.3331, 1.3331, 1.3331,\n",
       "        1.3331, 1.3331, 1.3331, 1.3331, 1.3331, 1.3331, 1.3331, 1.3331, 1.3331,\n",
       "        1.3331, 1.3331, 1.3331, 1.3331, 1.3331, 1.3331, 1.3331, 1.3331, 1.3331,\n",
       "        1.3331, 1.3331, 1.3331, 1.3331, 1.3331, 1.3331, 1.3331, 1.3331, 1.3331,\n",
       "        1.3331, 1.3331, 1.3331, 1.3331, 1.3331, 1.3331, 1.3331, 1.3331, 1.3331,\n",
       "        1.3331, 1.3331, 1.3331, 1.3331, 1.3331, 1.3331, 1.3331, 1.3331, 1.3331,\n",
       "        1.3331, 1.3331, 1.3331, 1.3331, 1.3331, 1.3331, 1.3331, 1.3331, 1.3331,\n",
       "        1.3331, 1.3331, 1.3331, 1.3331, 1.3331, 1.3331, 1.3331, 1.3331, 1.3331,\n",
       "        1.3331, 1.3331, 1.3331, 1.3331, 1.3331, 1.3331, 1.3331, 1.3331, 1.3331,\n",
       "        1.3331, 1.3331, 1.3331, 1.3331, 1.3331, 1.3331, 1.3331, 1.3331, 1.3331,\n",
       "        1.3331, 1.3331, 1.3331, 1.3331, 1.3331, 1.3331, 1.3331, 1.3331, 1.3331,\n",
       "        1.3331, 1.3331, 1.3331, 1.3331, 1.3331, 1.3331, 1.3331, 1.3331, 1.3331,\n",
       "        1.3331, 1.3331, 1.3331, 1.3331, 1.3331, 1.3331, 1.3331, 1.3331, 1.3331,\n",
       "        1.3331, 1.3331, 1.3331, 1.3331, 1.3331, 1.3331, 1.3331, 1.3331, 1.3331,\n",
       "        1.3331, 1.3331, 1.3331, 1.3331, 1.3331, 1.3331, 1.3331, 1.3331, 1.3331,\n",
       "        1.3331, 1.3331, 1.3331, 1.3331, 1.3331, 1.3331, 1.3331, 1.3331, 1.3331,\n",
       "        1.3331, 1.3331, 1.3331, 1.3331, 1.3331, 1.3331, 1.3331, 1.3331, 1.3331,\n",
       "        1.3331, 1.3331, 1.3331, 1.3331, 1.3331, 1.3331, 1.3331, 1.3331, 1.3331,\n",
       "        1.3331, 1.3331, 1.3331, 1.3331, 1.3331, 1.3331, 1.3331, 1.3331, 1.3331,\n",
       "        1.3331, 1.3331, 1.3331, 1.3331, 1.3331, 1.3331, 1.3331, 1.3331, 1.3331,\n",
       "        1.3331, 1.3331, 1.3331, 1.3331, 1.3331, 1.3331, 1.3331, 1.3331, 1.3331,\n",
       "        1.3331, 1.3331, 1.3331, 1.3331, 1.3331, 1.3331, 1.3331, 1.3331, 1.3331,\n",
       "        1.3331, 1.3331, 1.3331, 1.3331, 1.3331, 1.3331, 1.3331, 1.3331, 1.3331,\n",
       "        1.3331, 1.3331, 1.3331, 1.3331, 1.3331, 1.3331, 1.3331, 1.3331, 1.3331,\n",
       "        1.3331, 1.3331, 1.3331, 1.3331, 1.3331, 1.3331, 1.3331, 1.3331, 1.3331,\n",
       "        1.3331, 1.3331, 1.3331, 1.3331, 1.3331, 1.3331, 1.3331, 1.3331, 1.3331,\n",
       "        1.3331, 1.3331, 1.3331, 1.3331, 1.3331, 1.3331, 1.3331, 1.3331, 1.3331,\n",
       "        1.3331, 1.3331, 1.3331, 1.3331, 1.3331, 1.3331, 1.3331, 1.3331, 1.3331,\n",
       "        1.3331, 1.3331, 1.3331, 1.3331, 1.3331, 1.3331, 1.3331, 1.3331, 1.3331,\n",
       "        1.3331, 1.3331, 1.3331, 1.3331, 1.3331, 1.3331, 1.3331, 1.3331, 1.3331,\n",
       "        1.3331, 1.3331, 1.3331, 1.3331, 1.3331, 1.3331, 1.3331, 1.3331, 1.3331,\n",
       "        1.3331, 1.3331, 1.3331, 1.3331, 1.3331, 1.3331, 1.3331, 1.3331, 1.3331,\n",
       "        1.3331, 1.3331, 1.3331, 1.3331, 1.3331, 1.3331, 1.3331, 1.3331, 1.3331,\n",
       "        1.3331, 1.3331, 1.3331, 1.3331, 1.3331, 1.3331, 1.3331, 1.3331, 1.3331,\n",
       "        1.3331, 1.3331, 1.3331, 1.3331, 1.3331, 1.3331, 1.3331, 1.3331, 1.3331,\n",
       "        1.3331, 1.3331, 1.3331, 1.3331, 1.3331, 1.3331, 1.3331, 1.3331, 1.3331,\n",
       "        1.3331, 1.3331, 1.3331, 1.3331, 1.3331, 1.3331, 1.3331, 1.3331, 1.3331,\n",
       "        1.3331, 1.3331, 1.3331, 1.3331, 1.3331, 1.3331, 1.3331, 1.3331, 1.3331,\n",
       "        1.3331, 1.3331, 1.3331, 1.3331, 1.3331, 1.3331, 1.3331, 1.3331, 1.3331,\n",
       "        1.3331, 1.3331, 1.3331, 1.3331, 1.3331, 1.3331, 1.3331, 1.3331, 1.3331,\n",
       "        1.3331, 1.3331, 1.3331, 1.3331, 1.3331, 1.3331, 1.3331, 1.3331, 1.3331,\n",
       "        1.3331, 1.3331, 1.3331, 1.3331, 1.3331, 1.3331, 1.3331, 1.3331, 1.3331,\n",
       "        1.3331, 1.3331, 1.3331, 1.3331, 1.3331, 1.3331, 1.3331, 1.3331, 1.3331,\n",
       "        1.3331, 1.3331, 1.3331, 1.3331, 1.3331, 1.3331, 1.3331, 1.3331, 1.3331,\n",
       "        1.3331, 1.3331, 1.3331, 1.3331, 1.3331, 1.3331, 1.3331, 1.3331, 1.3331,\n",
       "        1.3331, 1.3331, 1.3331, 1.3331, 1.3331, 1.3331, 1.3331, 1.3331, 1.3331,\n",
       "        1.3331, 1.3331, 1.3331, 1.3331, 1.3331, 1.3331, 1.3331, 1.3331, 1.3331,\n",
       "        1.3331, 1.3331, 1.3331, 1.3331, 1.3331, 1.3331, 1.3331, 1.3331, 1.3331,\n",
       "        1.3331, 1.3331, 1.3331, 1.3331, 1.3331, 1.3331, 1.3331, 1.3331, 1.3331,\n",
       "        1.3332, 1.3331, 1.3331, 1.3331, 1.3331, 1.3331, 1.3331, 1.3331, 1.3331,\n",
       "        1.3331, 1.3331, 1.3331, 1.3331, 1.3331, 1.3331, 1.3331, 1.3331, 1.3331,\n",
       "        1.3331, 1.3331, 1.3331, 1.3331, 1.3331, 1.3331, 1.3331, 1.3331, 1.3331,\n",
       "        1.3331, 1.3331, 1.3331, 1.3331, 1.3331, 1.3331, 1.3331, 1.3331, 1.3331,\n",
       "        1.3331, 1.3331, 1.3331, 1.3331, 1.3331, 1.3331, 1.3331, 1.3331, 1.3331,\n",
       "        1.3331, 1.3331, 1.3331, 1.3331, 1.3331, 1.3331, 1.3331, 1.3331, 1.3331,\n",
       "        1.3331, 1.3331, 1.3331, 1.3331, 1.3331, 1.3331, 1.3331, 1.3331, 1.3331,\n",
       "        1.3331, 1.3331, 1.3331, 1.3331, 1.3331, 1.3331, 1.3331, 1.3331, 1.3331,\n",
       "        1.3331, 1.3331, 1.3331, 1.3331, 1.3331, 1.3331, 1.3331, 1.3331, 1.3331,\n",
       "        1.3331, 1.3331, 1.3331, 1.3331, 1.3331, 1.3331, 1.3331, 1.3331, 1.3331,\n",
       "        1.3331, 1.3331, 1.3331, 1.3331, 1.3331, 1.3331, 1.3331, 1.3331, 1.3331,\n",
       "        1.3331, 1.3331, 1.3331, 1.3331, 1.3331, 1.3331, 1.3331, 1.3331, 1.3331,\n",
       "        1.3331, 1.3331, 1.3331, 1.3331, 1.3331, 1.3331, 1.3331, 1.3331, 1.3331,\n",
       "        1.3331])"
      ]
     },
     "execution_count": 345,
     "metadata": {},
     "output_type": "execute_result"
    }
   ],
   "source": [
    "fidelity.abs()"
   ]
  },
  {
   "cell_type": "code",
   "execution_count": 346,
   "id": "70dcbc50",
   "metadata": {},
   "outputs": [
    {
     "name": "stdout",
     "output_type": "stream",
     "text": [
      "('U.parametrizations.weight.original', Parameter containing:\n",
      "tensor([[-1.0000-0.0029j,  0.0000+0.0000j],\n",
      "        [ 0.8103+0.1589j, -1.0000-0.0022j]], requires_grad=True))\n"
     ]
    }
   ],
   "source": [
    "for layer in model.named_parameters():\n",
    "    print(layer)"
   ]
  },
  {
   "cell_type": "code",
   "execution_count": 347,
   "id": "e888a179",
   "metadata": {},
   "outputs": [
    {
     "name": "stdout",
     "output_type": "stream",
     "text": [
      "Unitarity:  tensor(1.3521)\n",
      "tensor([[-1.0000-0.0029j,  0.0000+0.0000j],\n",
      "        [ 0.8103+0.1589j, -1.0000-0.0022j]])\n",
      "tensor(-1.0000, grad_fn=<AddBackward0>)\n"
     ]
    }
   ],
   "source": [
    "U = model.state_dict()['U.parametrizations.weight.original']\n",
    "print(\"Unitarity: \", torch.dist(U.T.conj() @ U, torch.eye(2)))\n",
    "print(U)\n",
    "\n",
    "print(fidelity_loss(model(dummy_x), dummy_y, model, reg=0))"
   ]
  },
  {
   "cell_type": "code",
   "execution_count": 348,
   "id": "9013fdcd",
   "metadata": {},
   "outputs": [
    {
     "name": "stdout",
     "output_type": "stream",
     "text": [
      "tensor([[7.3449e-01-6.7862e-01j, 1.8477e-06-1.2517e-06j],\n",
      "        [7.3449e-01-6.7862e-01j, 1.8477e-06-1.2517e-06j],\n",
      "        [7.3449e-01-6.7862e-01j, 1.8477e-06-1.2517e-06j],\n",
      "        [7.3449e-01-6.7862e-01j, 1.8477e-06-1.2517e-06j]],\n",
      "       grad_fn=<MmBackward0>)\n",
      "tensor([[1.+0.j, 0.+0.j],\n",
      "        [1.+0.j, 0.+0.j],\n",
      "        [1.+0.j, 0.+0.j],\n",
      "        [1.+0.j, 0.+0.j]])\n"
     ]
    }
   ],
   "source": [
    "print(model(dummy_x))\n",
    "print(dummy_y)"
   ]
  }
 ],
 "metadata": {
  "kernelspec": {
   "display_name": "QML",
   "language": "python",
   "name": "qml"
  },
  "language_info": {
   "codemirror_mode": {
    "name": "ipython",
    "version": 3
   },
   "file_extension": ".py",
   "mimetype": "text/x-python",
   "name": "python",
   "nbconvert_exporter": "python",
   "pygments_lexer": "ipython3",
   "version": "3.8.2"
  }
 },
 "nbformat": 4,
 "nbformat_minor": 5
}
