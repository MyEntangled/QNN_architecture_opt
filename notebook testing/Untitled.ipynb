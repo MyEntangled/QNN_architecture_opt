{
 "cells": [
  {
   "cell_type": "code",
   "execution_count": 127,
   "id": "817ef594",
   "metadata": {},
   "outputs": [],
   "source": [
    "import sys\n",
    "# insert at 1, 0 is the script path (or '' in REPL)\n",
    "sys.path.insert(1, '/Users/trongduong/Dropbox/URP project/Code/PQC_Composer')\n",
    "from utility.quantum_nn import QuantumNeuralNetwork\n",
    "from utility.data_encoding import FeatureMap\n",
    "from utility.ansatz_template import AnsatzTemplate\n",
    "import numpy as np\n",
    "import fisher_information\n",
    "\n",
    "import time\n",
    "import matplotlib.pyplot as plt\n",
    "plt.style.use('ggplot')\n",
    "\n",
    "np.random.seed(0)"
   ]
  },
  {
   "cell_type": "code",
   "execution_count": 133,
   "id": "6323092a",
   "metadata": {},
   "outputs": [],
   "source": [
    "old_fishers = []\n",
    "new_fishers = []\n",
    "old_time = []\n",
    "new_time = []"
   ]
  },
  {
   "cell_type": "code",
   "execution_count": 139,
   "id": "6f8a585a",
   "metadata": {},
   "outputs": [
    {
     "name": "stdout",
     "output_type": "stream",
     "text": [
      "1\n",
      "2\n",
      "3\n",
      "4\n"
     ]
    }
   ],
   "source": [
    "layer_range = range(1,5)\n",
    "for layer in layer_range:\n",
    "    feature_map = FeatureMap('PauliFeatureMap', feature_dim=8, reps=1)\n",
    "\n",
    "    template = AnsatzTemplate()\n",
    "    template.construct_simple_template(num_qubits=8, num_layers=layer)\n",
    "\n",
    "    model = QuantumNeuralNetwork(feature_map, template, platform='Qiskit')\n",
    "    #template.visualize()\n",
    "\n",
    "    #print(model.num_qubits, model.input_dim, model.param_dim)\n",
    "    \n",
    "    num_inputs = 1\n",
    "    num_params = 1\n",
    "    param_dim = (2*model.num_qubits)*(layer+1)\n",
    "    thetamin = 0\n",
    "    thetamax = 2*np.pi\n",
    "    input_dim = 8\n",
    "\n",
    "    rep_range = np.tile(np.array([num_inputs]), num_params)\n",
    "    params = np.random.uniform(thetamin, thetamax, size=(num_params, param_dim))\n",
    "    grid_params = np.repeat(params, repeats=rep_range, axis=0)\n",
    "    inputs = np.random.normal(0, 1, size=(num_inputs, input_dim))\n",
    "    grid_inputs = np.tile(inputs, (num_params, 1))\n",
    "    \n",
    "    start_time = time.time()\n",
    "    output_fishers = model.get_fishers(grid_inputs, grid_params)\n",
    "    \n",
    "    new_fishers.append(output_fishers[0])\n",
    "    new_time.append(time.time() - start_time)\n",
    "    \n",
    "    #######\n",
    "    start_time = time.time()\n",
    "    \n",
    "    input_ = inputs[0]\n",
    "    input_dict = compose_param_dict(model.feature_map_circ.parameters, input_)\n",
    "    param = params[0]\n",
    "\n",
    "    qc_whole = model.circuit.bind_parameters(input_dict)\n",
    "    \n",
    "    # Wrap the quantum circuit into a CircuitStateFn\n",
    "    state = CircuitStateFn(primitive=qc_whole, coeff=1.)\n",
    "\n",
    "    # Convert the state and the parameters into the operator object that represents the QFI\n",
    "    qfi = QFI(qfi_method='lin_comb_full').convert(operator=state, params=list(qc_whole.parameters))\n",
    "    # Define the values for which the QFI is to be computed\n",
    "    values_dict = compose_param_dict(qc_whole.parameters, param)   \n",
    "    \n",
    "    # Assign the parameters and evaluate the QFI\n",
    "    qfi_result = qfi.assign_parameters(values_dict).eval()\n",
    "    \n",
    "    old_fishers.append(np.real(qfi_result))\n",
    "    old_time.append(time.time() - start_time)\n",
    "    \n",
    "    print(layer)"
   ]
  },
  {
   "cell_type": "code",
   "execution_count": 153,
   "id": "dc329c14",
   "metadata": {},
   "outputs": [
    {
     "data": {
      "image/png": "[encoded data removed]",
      "text/plain": [
       "<Figure size 432x288 with 1 Axes>"
      ]
     },
     "metadata": {},
     "output_type": "display_data"
    }
   ],
   "source": [
    "param_range = [(2*model.num_qubits)*(layer+1) for layer in layer_range]\n",
    "plt.plot(param_range, old_time, label='Qiskit implementation O(n^3)')\n",
    "plt.plot(param_range, new_time, label='Reverse approach O(n^2)')\n",
    "plt.xlabel('Parameter dimension')\n",
    "plt.ylabel('Time (s)')\n",
    "plt.title('Time complexity for computing Quantum Fishers')\n",
    "plt.legend()\n",
    "plt.show()"
   ]
  },
  {
   "cell_type": "code",
   "execution_count": 154,
   "id": "333f4a84",
   "metadata": {
    "scrolled": true
   },
   "outputs": [
    {
     "data": {
      "text/plain": [
       "[array([[ 1.00000000e+00,  2.19000000e-16,  1.53000000e-16, ...,\n",
       "         -5.02580875e-05,  4.22723493e-02,  1.84522627e-02],\n",
       "        [ 2.19000000e-16,  1.00000000e+00, -1.91000000e-16, ...,\n",
       "          1.67023114e-02, -8.77199081e-03,  4.20083225e-02],\n",
       "        [ 1.53000000e-16, -1.91000000e-16,  1.00000000e+00, ...,\n",
       "          7.98924795e-02,  3.00151554e-02,  6.88103117e-02],\n",
       "        ...,\n",
       "        [-5.02580875e-05,  1.67023114e-02,  7.98924795e-02, ...,\n",
       "          9.99990778e-01, -5.70874953e-02, -7.95572656e-02],\n",
       "        [ 4.22723493e-02, -8.77199081e-03,  3.00151554e-02, ...,\n",
       "         -5.70874953e-02,  9.94210520e-01,  3.16791987e-02],\n",
       "        [ 1.84522627e-02,  4.20083225e-02,  6.88103117e-02, ...,\n",
       "         -7.95572656e-02,  3.16791987e-02,  9.93093415e-01]]),\n",
       " array([[ 1.00000000e+00,  1.73000000e-16, -1.58000000e-16, ...,\n",
       "          1.70429037e-02, -2.19185452e-02, -3.44248554e-02],\n",
       "        [ 1.73000000e-16,  1.00000000e+00,  1.49000000e-16, ...,\n",
       "          7.09801810e-03,  1.03028686e-02,  3.00164015e-03],\n",
       "        [-1.58000000e-16,  1.49000000e-16,  1.00000000e+00, ...,\n",
       "         -2.12997663e-02,  2.67749222e-02,  2.19351570e-02],\n",
       "        ...,\n",
       "        [ 1.70429037e-02,  7.09801810e-03, -2.12997663e-02, ...,\n",
       "          9.98267133e-01,  1.06227402e-03, -1.00159565e-02],\n",
       "        [-2.19185452e-02,  1.03028686e-02,  2.67749222e-02, ...,\n",
       "          1.06227402e-03,  9.86777036e-01, -1.05197053e-03],\n",
       "        [-3.44248554e-02,  3.00164015e-03,  2.19351570e-02, ...,\n",
       "         -1.00159565e-02, -1.05197053e-03,  9.98910019e-01]]),\n",
       " array([[ 1.00000000e+00, -1.63000000e-16, -4.02000000e-16, ...,\n",
       "         -6.54241811e-03,  6.57759594e-02,  6.54924125e-02],\n",
       "        [-1.63000000e-16,  1.00000000e+00,  3.61000000e-16, ...,\n",
       "         -3.22544881e-03,  7.12966096e-03,  2.48603908e-02],\n",
       "        [-4.02000000e-16,  3.61000000e-16,  1.00000000e+00, ...,\n",
       "         -6.60950205e-02, -2.36613605e-02, -5.36985213e-02],\n",
       "        ...,\n",
       "        [-6.54241811e-03, -3.22544881e-03, -6.60950205e-02, ...,\n",
       "          9.99027729e-01, -5.43392287e-03,  4.24291245e-02],\n",
       "        [ 6.57759594e-02,  7.12966096e-03, -2.36613605e-02, ...,\n",
       "         -5.43392287e-03,  9.98814840e-01, -1.38533097e-03],\n",
       "        [ 6.54924125e-02,  2.48603908e-02, -5.36985213e-02, ...,\n",
       "          4.24291245e-02, -1.38533097e-03,  9.99184668e-01]]),\n",
       " array([[ 1.00000000e+00, -9.40000000e-17,  2.46000000e-16, ...,\n",
       "         -3.67599068e-02,  1.00468220e-02, -1.02851030e-01],\n",
       "        [-9.40000000e-17,  1.00000000e+00,  1.60000000e-16, ...,\n",
       "          2.22490826e-02,  2.20272044e-02,  1.30997759e-02],\n",
       "        [ 2.46000000e-16,  1.60000000e-16,  1.00000000e+00, ...,\n",
       "         -4.65811066e-02,  2.60481570e-03, -9.43577573e-02],\n",
       "        ...,\n",
       "        [-3.67599068e-02,  2.22490826e-02, -4.65811066e-02, ...,\n",
       "          9.99580301e-01, -8.93688162e-02, -3.52299018e-03],\n",
       "        [ 1.00468220e-02,  2.20272044e-02,  2.60481570e-03, ...,\n",
       "         -8.93688162e-02,  9.96858891e-01, -3.64768462e-02],\n",
       "        [-1.02851030e-01,  1.30997759e-02, -9.43577573e-02, ...,\n",
       "         -3.52299018e-03, -3.64768462e-02,  9.91047183e-01]]),\n",
       " array([[ 1.00000000e+00, -4.20000000e-17, -1.08000000e-16, ...,\n",
       "         -6.09638881e-02, -3.60336549e-02, -3.36908530e-02],\n",
       "        [-4.20000000e-17,  1.00000000e+00, -2.19000000e-16, ...,\n",
       "         -3.33717911e-02, -5.88702624e-02,  4.58494604e-02],\n",
       "        [-1.08000000e-16, -2.19000000e-16,  1.00000000e+00, ...,\n",
       "          8.09851763e-02,  4.14974998e-02,  4.66258579e-03],\n",
       "        ...,\n",
       "        [-6.09638881e-02, -3.33717911e-02,  8.09851763e-02, ...,\n",
       "          9.95587382e-01,  1.23614860e-02, -8.78259726e-03],\n",
       "        [-3.60336549e-02, -5.88702624e-02,  4.14974998e-02, ...,\n",
       "          1.23614860e-02,  9.99424648e-01,  5.28078546e-02],\n",
       "        [-3.36908530e-02,  4.58494604e-02,  4.66258579e-03, ...,\n",
       "         -8.78259726e-03,  5.28078546e-02,  9.91789996e-01]])]"
      ]
     },
     "execution_count": 154,
     "metadata": {},
     "output_type": "execute_result"
    }
   ],
   "source": [
    "old_fishers"
   ]
  },
  {
   "cell_type": "code",
   "execution_count": 161,
   "id": "7965ab9b",
   "metadata": {
    "scrolled": true
   },
   "outputs": [
    {
     "data": {
      "text/plain": [
       "[array([[ 1.00000000e+00, -1.82145965e-16, -1.21430643e-16, ...,\n",
       "         -5.02580875e-05,  4.22723493e-02,  1.84522627e-02],\n",
       "        [-1.82145965e-16,  1.00000000e+00, -1.70002901e-16, ...,\n",
       "          1.67023114e-02, -8.77199081e-03,  4.20083225e-02],\n",
       "        [-1.21430643e-16, -1.70002901e-16,  1.00000000e+00, ...,\n",
       "          7.98924795e-02,  3.00151554e-02,  6.88103117e-02],\n",
       "        ...,\n",
       "        [-5.02580875e-05,  1.67023114e-02,  7.98924795e-02, ...,\n",
       "          9.99990778e-01, -5.70874953e-02, -7.95572656e-02],\n",
       "        [ 4.22723493e-02, -8.77199081e-03,  3.00151554e-02, ...,\n",
       "         -5.70874953e-02,  9.94210520e-01,  3.16791987e-02],\n",
       "        [ 1.84522627e-02,  4.20083225e-02,  6.88103117e-02, ...,\n",
       "         -7.95572656e-02,  3.16791987e-02,  9.93093415e-01]]),\n",
       " array([[ 1.00000000e+00, -7.28583860e-17, -3.29597460e-17, ...,\n",
       "          1.70429037e-02, -2.19185452e-02, -3.44248554e-02],\n",
       "        [-7.28583860e-17,  1.00000000e+00,  1.04083409e-17, ...,\n",
       "          7.09801810e-03,  1.03028686e-02,  3.00164015e-03],\n",
       "        [-3.29597460e-17,  1.04083409e-17,  1.00000000e+00, ...,\n",
       "         -2.12997663e-02,  2.67749222e-02,  2.19351570e-02],\n",
       "        ...,\n",
       "        [ 1.70429037e-02,  7.09801810e-03, -2.12997663e-02, ...,\n",
       "          9.98267133e-01,  1.06227402e-03, -1.00159565e-02],\n",
       "        [-2.19185452e-02,  1.03028686e-02,  2.67749222e-02, ...,\n",
       "          1.06227402e-03,  9.86777036e-01, -1.05197053e-03],\n",
       "        [-3.44248554e-02,  3.00164015e-03,  2.19351570e-02, ...,\n",
       "         -1.00159565e-02, -1.05197053e-03,  9.98910019e-01]]),\n",
       " array([[ 1.00000000e+00,  9.30245464e-17, -1.28369537e-16, ...,\n",
       "         -6.54241811e-03,  6.57759594e-02,  6.54924125e-02],\n",
       "        [ 9.30245464e-17,  1.00000000e+00,  6.93889390e-17, ...,\n",
       "         -3.22544881e-03,  7.12966096e-03,  2.48603908e-02],\n",
       "        [-1.28369537e-16,  6.93889390e-17,  1.00000000e+00, ...,\n",
       "         -6.60950205e-02, -2.36613605e-02, -5.36985213e-02],\n",
       "        ...,\n",
       "        [-6.54241811e-03, -3.22544881e-03, -6.60950205e-02, ...,\n",
       "          9.99027729e-01, -5.43392287e-03,  4.24291245e-02],\n",
       "        [ 6.57759594e-02,  7.12966096e-03, -2.36613605e-02, ...,\n",
       "         -5.43392287e-03,  9.98814840e-01, -1.38533097e-03],\n",
       "        [ 6.54924125e-02,  2.48603908e-02, -5.36985213e-02, ...,\n",
       "          4.24291245e-02, -1.38533097e-03,  9.99184668e-01]]),\n",
       " array([[ 1.00000000e+00,  2.42861287e-17,  5.55111512e-17, ...,\n",
       "         -3.67599068e-02,  1.00468220e-02, -1.02851030e-01],\n",
       "        [ 2.42861287e-17,  1.00000000e+00,  3.46944695e-17, ...,\n",
       "          2.22490826e-02,  2.20272044e-02,  1.30997759e-02],\n",
       "        [ 5.55111512e-17,  3.46944695e-17,  1.00000000e+00, ...,\n",
       "         -4.65811066e-02,  2.60481570e-03, -9.43577573e-02],\n",
       "        ...,\n",
       "        [-3.67599068e-02,  2.22490826e-02, -4.65811066e-02, ...,\n",
       "          9.99580301e-01, -8.93688162e-02, -3.52299018e-03],\n",
       "        [ 1.00468220e-02,  2.20272044e-02,  2.60481570e-03, ...,\n",
       "         -8.93688162e-02,  9.96858891e-01, -3.64768462e-02],\n",
       "        [-1.02851030e-01,  1.30997759e-02, -9.43577573e-02, ...,\n",
       "         -3.52299018e-03, -3.64768462e-02,  9.91047183e-01]]),\n",
       " array([[ 1.00000000e+00, -1.73472348e-18, -2.34187669e-17, ...,\n",
       "         -6.09638881e-02, -3.60336549e-02, -3.36908530e-02],\n",
       "        [-1.73472348e-18,  1.00000000e+00,  3.46944695e-17, ...,\n",
       "         -3.33717911e-02, -5.88702624e-02,  4.58494604e-02],\n",
       "        [-2.34187669e-17,  3.46944695e-17,  1.00000000e+00, ...,\n",
       "          8.09851763e-02,  4.14974998e-02,  4.66258579e-03],\n",
       "        ...,\n",
       "        [-6.09638881e-02, -3.33717911e-02,  8.09851763e-02, ...,\n",
       "          9.95587382e-01,  1.23614860e-02, -8.78259726e-03],\n",
       "        [-3.60336549e-02, -5.88702624e-02,  4.14974998e-02, ...,\n",
       "          1.23614860e-02,  9.99424648e-01,  5.28078546e-02],\n",
       "        [-3.36908530e-02,  4.58494604e-02,  4.66258579e-03, ...,\n",
       "         -8.78259726e-03,  5.28078546e-02,  9.91789996e-01]])]"
      ]
     },
     "execution_count": 161,
     "metadata": {},
     "output_type": "execute_result"
    }
   ],
   "source": [
    "new_fishers"
   ]
  },
  {
   "cell_type": "code",
   "execution_count": 162,
   "id": "4d2211b6",
   "metadata": {},
   "outputs": [
    {
     "data": {
      "text/plain": [
       "{ParameterVectorElement(x[0]): 1.5293307577959387,\n",
       " ParameterVectorElement(x[1]): 0.590290655639251,\n",
       " ParameterVectorElement(x[2]): -0.7712023341558862,\n",
       " ParameterVectorElement(x[3]): -1.139147107879594,\n",
       " ParameterVectorElement(x[4]): 1.0638494004116155,\n",
       " ParameterVectorElement(x[5]): 0.5031406645698926,\n",
       " ParameterVectorElement(x[6]): -1.0376061728473933,\n",
       " ParameterVectorElement(x[7]): -0.3567759823352701}"
      ]
     },
     "execution_count": 162,
     "metadata": {},
     "output_type": "execute_result"
    }
   ],
   "source": [
    "input_dict"
   ]
  },
  {
   "cell_type": "code",
   "execution_count": 163,
   "id": "5a68a521",
   "metadata": {},
   "outputs": [
    {
     "data": {
      "text/plain": [
       "{ParameterVectorElement(θ[0]): 6.152014167699496,\n",
       " ParameterVectorElement(θ[1]): 1.8466017763938687,\n",
       " ParameterVectorElement(θ[2]): 0.6806077371794327,\n",
       " ParameterVectorElement(θ[3]): 1.8383839560725388,\n",
       " ParameterVectorElement(θ[4]): 0.1755985450265292,\n",
       " ParameterVectorElement(θ[5]): 5.729314674942844,\n",
       " ParameterVectorElement(θ[6]): 2.9263133150764395,\n",
       " ParameterVectorElement(θ[7]): 2.802366717591828,\n",
       " ParameterVectorElement(θ[8]): 4.48237289451837,\n",
       " ParameterVectorElement(θ[9]): 5.2842521470575665,\n",
       " ParameterVectorElement(θ[10]): 5.154119254631957,\n",
       " ParameterVectorElement(θ[11]): 4.580234231993499,\n",
       " ParameterVectorElement(θ[12]): 3.686149770753091,\n",
       " ParameterVectorElement(θ[13]): 1.247425758012522,\n",
       " ParameterVectorElement(θ[14]): 3.1606285332804327,\n",
       " ParameterVectorElement(θ[15]): 3.364468663529455,\n",
       " ParameterVectorElement(θ[16]): 1.5283366192845356,\n",
       " ParameterVectorElement(θ[17]): 5.492722410621824,\n",
       " ParameterVectorElement(θ[18]): 3.981167470344203,\n",
       " ParameterVectorElement(θ[19]): 4.251816997794471,\n",
       " ParameterVectorElement(θ[20]): 2.495996898110355,\n",
       " ParameterVectorElement(θ[21]): 3.05844506853095,\n",
       " ParameterVectorElement(θ[22]): 4.026286480515759,\n",
       " ParameterVectorElement(θ[23]): 4.292905360806366,\n",
       " ParameterVectorElement(θ[24]): 1.5439634651541596,\n",
       " ParameterVectorElement(θ[25]): 1.9604145498301409,\n",
       " ParameterVectorElement(θ[26]): 0.1898248467729218,\n",
       " ParameterVectorElement(θ[27]): 1.2971296666074446,\n",
       " ParameterVectorElement(θ[28]): 6.054222509275603,\n",
       " ParameterVectorElement(θ[29]): 2.623194502344628,\n",
       " ParameterVectorElement(θ[30]): 2.4648419243760316,\n",
       " ParameterVectorElement(θ[31]): 3.440412144640885,\n",
       " ParameterVectorElement(θ[32]): 2.2381514887430667,\n",
       " ParameterVectorElement(θ[33]): 2.1877339939438905,\n",
       " ParameterVectorElement(θ[34]): 3.658246459896794,\n",
       " ParameterVectorElement(θ[35]): 2.70035519386441,\n",
       " ParameterVectorElement(θ[36]): 2.125034118831597,\n",
       " ParameterVectorElement(θ[37]): 1.5329131037503276,\n",
       " ParameterVectorElement(θ[38]): 3.359833618607882,\n",
       " ParameterVectorElement(θ[39]): 1.8862674309606886,\n",
       " ParameterVectorElement(θ[40]): 3.6704342200710998,\n",
       " ParameterVectorElement(θ[41]): 2.5180499208450433,\n",
       " ParameterVectorElement(θ[42]): 2.1633109605550467,\n",
       " ParameterVectorElement(θ[43]): 0.5654691659710683,\n",
       " ParameterVectorElement(θ[44]): 5.61728952304933,\n",
       " ParameterVectorElement(θ[45]): 3.637370197417097,\n",
       " ParameterVectorElement(θ[46]): 0.4092612408440094,\n",
       " ParameterVectorElement(θ[47]): 2.1956890061895447,\n",
       " ParameterVectorElement(θ[48]): 4.450140428158475,\n",
       " ParameterVectorElement(θ[49]): 2.0044007707292666,\n",
       " ParameterVectorElement(θ[50]): 1.561478856641284,\n",
       " ParameterVectorElement(θ[51]): 2.3733872056567047,\n",
       " ParameterVectorElement(θ[52]): 4.988408080231861,\n",
       " ParameterVectorElement(θ[53]): 5.537209702552721,\n",
       " ParameterVectorElement(θ[54]): 5.739651736300937,\n",
       " ParameterVectorElement(θ[55]): 2.493483496344867,\n",
       " ParameterVectorElement(θ[56]): 1.1869624871952948,\n",
       " ParameterVectorElement(θ[57]): 4.382825757274188,\n",
       " ParameterVectorElement(θ[58]): 3.130475168968844,\n",
       " ParameterVectorElement(θ[59]): 6.157749336310218,\n",
       " ParameterVectorElement(θ[60]): 1.537549684748081,\n",
       " ParameterVectorElement(θ[61]): 0.8992820255325579,\n",
       " ParameterVectorElement(θ[62]): 3.188415808618056,\n",
       " ParameterVectorElement(θ[63]): 5.77725525164544,\n",
       " ParameterVectorElement(θ[64]): 2.3818309539747755,\n",
       " ParameterVectorElement(θ[65]): 5.233094354664227,\n",
       " ParameterVectorElement(θ[66]): 0.27407937909294977,\n",
       " ParameterVectorElement(θ[67]): 1.9344105106704184,\n",
       " ParameterVectorElement(θ[68]): 1.081731644868715,\n",
       " ParameterVectorElement(θ[69]): 3.0059377003301497,\n",
       " ParameterVectorElement(θ[70]): 1.7103484992564504,\n",
       " ParameterVectorElement(θ[71]): 2.908507943303146,\n",
       " ParameterVectorElement(θ[72]): 5.030293818193321,\n",
       " ParameterVectorElement(θ[73]): 0.2061991432737614,\n",
       " ParameterVectorElement(θ[74]): 1.8791234715832767,\n",
       " ParameterVectorElement(θ[75]): 4.638137538309297,\n",
       " ParameterVectorElement(θ[76]): 3.3641375698509197,\n",
       " ParameterVectorElement(θ[77]): 2.6043959980957103,\n",
       " ParameterVectorElement(θ[78]): 4.222771263349988,\n",
       " ParameterVectorElement(θ[79]): 0.1639071181761864}"
      ]
     },
     "execution_count": 163,
     "metadata": {},
     "output_type": "execute_result"
    }
   ],
   "source": [
    "values_dict"
   ]
  },
  {
   "cell_type": "code",
   "execution_count": 86,
   "id": "909db367",
   "metadata": {},
   "outputs": [
    {
     "name": "stdout",
     "output_type": "stream",
     "text": [
      "     ┌───┐┌──────────┐ ┌──────────┐     ┌───────────┐┌───────────┐             »\n",
      "q_0: ┤ H ├┤ RX(θ[0]) ├─┤ RY(θ[8]) ├──■──┤ RX(θ[16]) ├┤ RY(θ[24]) ├─────────────»\n",
      "     ├───┤├──────────┤ ├──────────┤┌─┴─┐└───────────┘├───────────┤┌───────────┐»\n",
      "q_1: ┤ H ├┤ RX(θ[1]) ├─┤ RY(θ[9]) ├┤ X ├──────■──────┤ RX(θ[17]) ├┤ RY(θ[25]) ├»\n",
      "     ├───┤├──────────┤┌┴──────────┤└───┘    ┌─┴─┐    └───────────┘├───────────┤»\n",
      "q_2: ┤ H ├┤ RX(θ[2]) ├┤ RY(θ[10]) ├─────────┤ X ├──────────■──────┤ RX(θ[18]) ├»\n",
      "     ├───┤├──────────┤├───────────┤         └───┘        ┌─┴─┐    └───────────┘»\n",
      "q_3: ┤ H ├┤ RX(θ[3]) ├┤ RY(θ[11]) ├──────────────────────┤ X ├──────────■──────»\n",
      "     ├───┤├──────────┤├───────────┤                      └───┘        ┌─┴─┐    »\n",
      "q_4: ┤ H ├┤ RX(θ[4]) ├┤ RY(θ[12]) ├───────────────────────────────────┤ X ├────»\n",
      "     ├───┤├──────────┤├───────────┤                                   └───┘    »\n",
      "q_5: ┤ H ├┤ RX(θ[5]) ├┤ RY(θ[13]) ├────────────────────────────────────────────»\n",
      "     ├───┤├──────────┤├───────────┤                                            »\n",
      "q_6: ┤ H ├┤ RX(θ[6]) ├┤ RY(θ[14]) ├────────────────────────────────────────────»\n",
      "     ├───┤├──────────┤├───────────┤                                            »\n",
      "q_7: ┤ H ├┤ RX(θ[7]) ├┤ RY(θ[15]) ├────────────────────────────────────────────»\n",
      "     └───┘└──────────┘└───────────┘                                            »\n",
      "«                                                                      \n",
      "«q_0: ─────────────────────────────────────────────────────────────────\n",
      "«                                                                      \n",
      "«q_1: ─────────────────────────────────────────────────────────────────\n",
      "«     ┌───────────┐                                                    \n",
      "«q_2: ┤ RY(θ[26]) ├────────────────────────────────────────────────────\n",
      "«     ├───────────┤┌───────────┐                                       \n",
      "«q_3: ┤ RX(θ[19]) ├┤ RY(θ[27]) ├───────────────────────────────────────\n",
      "«     └───────────┘├───────────┤┌───────────┐                          \n",
      "«q_4: ──────■──────┤ RX(θ[20]) ├┤ RY(θ[28]) ├──────────────────────────\n",
      "«         ┌─┴─┐    └───────────┘├───────────┤┌───────────┐             \n",
      "«q_5: ────┤ X ├──────────■──────┤ RX(θ[21]) ├┤ RY(θ[29]) ├─────────────\n",
      "«         └───┘        ┌─┴─┐    └───────────┘├───────────┤┌───────────┐\n",
      "«q_6: ─────────────────┤ X ├──────────■──────┤ RX(θ[22]) ├┤ RY(θ[30]) ├\n",
      "«                      └───┘        ┌─┴─┐    ├───────────┤├───────────┤\n",
      "«q_7: ──────────────────────────────┤ X ├────┤ RX(θ[23]) ├┤ RY(θ[31]) ├\n",
      "«                                   └───┘    └───────────┘└───────────┘\n",
      "8 8 32\n"
     ]
    }
   ],
   "source": [
    "feature_map = FeatureMap('PauliFeatureMap', feature_dim=8, reps=1)\n",
    "\n",
    "template = AnsatzTemplate()\n",
    "template.construct_simple_template(num_qubits=8, num_layers=1)\n",
    "\n",
    "model = QuantumNeuralNetwork(feature_map, template, platform='Qiskit')\n",
    "template.visualize()\n",
    "\n",
    "print(model.num_qubits, model.input_dim, model.param_dim)"
   ]
  },
  {
   "cell_type": "code",
   "execution_count": 87,
   "id": "095e0905",
   "metadata": {},
   "outputs": [],
   "source": [
    "num_inputs = 1\n",
    "num_params = 1\n",
    "param_dim = 32\n",
    "thetamin = 0\n",
    "thetamax = 2*np.pi\n",
    "input_dim = 8\n",
    "\n",
    "rep_range = np.tile(np.array([num_inputs]), num_params)\n",
    "params = np.random.uniform(thetamin, thetamax, size=(num_params, param_dim))\n",
    "grid_params = np.repeat(params, repeats=rep_range, axis=0)\n",
    "inputs = np.random.normal(0, 1, size=(num_inputs, input_dim))\n",
    "grid_inputs = np.tile(inputs, (num_params, 1))"
   ]
  },
  {
   "cell_type": "code",
   "execution_count": 88,
   "id": "0f56a936",
   "metadata": {},
   "outputs": [
    {
     "name": "stdout",
     "output_type": "stream",
     "text": [
      "(1, 32, 32)\n",
      "[[[ 1.00000000e+00 -4.85722573e-17 -8.32667268e-17 ...  8.90935798e-03\n",
      "    1.77553829e-02 -4.50603914e-03]\n",
      "  [-4.85722573e-17  1.00000000e+00 -4.85722573e-17 ...  3.44239557e-02\n",
      "   -1.76481929e-02  7.84976127e-03]\n",
      "  [-8.32667268e-17 -4.85722573e-17  1.00000000e+00 ...  9.38642553e-03\n",
      "    2.04483182e-02  6.06413000e-02]\n",
      "  ...\n",
      "  [ 8.90935798e-03  3.44239557e-02  9.38642553e-03 ...  9.99677013e-01\n",
      "   -9.70727211e-03 -4.91344758e-02]\n",
      "  [ 1.77553829e-02 -1.76481929e-02  2.04483182e-02 ... -9.70727211e-03\n",
      "    9.91638403e-01  3.69254092e-02]\n",
      "  [-4.50603914e-03  7.84976127e-03  6.06413000e-02 ... -4.91344758e-02\n",
      "    3.69254092e-02  9.99427590e-01]]]\n",
      "--- 1.3267261981964111 seconds ---\n"
     ]
    }
   ],
   "source": [
    "start_time = time.time()\n",
    "output_fishers = model.get_fishers(grid_inputs, grid_params)\n",
    "print(output_fishers.shape)\n",
    "print(output_fishers)\n",
    "print(\"--- %s seconds ---\" % (time.time() - start_time))"
   ]
  },
  {
   "cell_type": "code",
   "execution_count": 95,
   "id": "60a4937f",
   "metadata": {},
   "outputs": [
    {
     "data": {
      "text/plain": [
       "array([1.        , 1.        , 1.        , 1.        , 1.        ,\n",
       "       1.        , 1.        , 1.        , 0.99999999, 0.99999994,\n",
       "       0.99999995, 0.9873237 , 0.99999883, 0.99977097, 0.99998905,\n",
       "       0.99999817, 0.9997019 , 0.99408481, 0.99996525, 0.99987041,\n",
       "       0.99976314, 0.99977146, 0.99792319, 0.99999858, 0.92058415,\n",
       "       0.99921954, 0.97939969, 0.99749029, 0.99999759, 0.99967701,\n",
       "       0.9916384 , 0.99942759])"
      ]
     },
     "execution_count": 95,
     "metadata": {},
     "output_type": "execute_result"
    }
   ],
   "source": [
    "test_a = output_fishers[0]\n",
    "test_a.diagonal()"
   ]
  },
  {
   "cell_type": "code",
   "execution_count": null,
   "id": "65cfd7c4",
   "metadata": {},
   "outputs": [],
   "source": []
  },
  {
   "cell_type": "code",
   "execution_count": null,
   "id": "e9b73342",
   "metadata": {},
   "outputs": [],
   "source": []
  },
  {
   "cell_type": "code",
   "execution_count": 91,
   "id": "e9641a58",
   "metadata": {},
   "outputs": [
    {
     "name": "stdout",
     "output_type": "stream",
     "text": [
      "--- 70.99495029449463 seconds ---\n"
     ]
    }
   ],
   "source": [
    "start = time.time()\n",
    "wires = 8\n",
    "n_layers = 1\n",
    "param_dim = n_layers * wires * 4\n",
    "#param = np.random.uniform(0, 2 * np.pi, param_dim)\n",
    "param = params[0]\n",
    "fisher_info = fisher_information.compute_fisher_matrix(fisher_information.PQC_function, wires, param, n_layers)\n",
    "print(\"--- %s seconds ---\" % (time.time() - start_time))"
   ]
  },
  {
   "cell_type": "code",
   "execution_count": 92,
   "id": "c16bcc0a",
   "metadata": {},
   "outputs": [
    {
     "data": {
      "text/plain": [
       "array([-0.00000000e+00,  1.00000000e+00, -0.00000000e+00,  1.00000000e+00,\n",
       "        1.11022302e-16,  1.00000000e+00,  1.11022302e-16,  1.00000000e+00,\n",
       "        2.22044605e-16,  1.00000000e+00,  1.11022302e-16,  1.00000000e+00,\n",
       "       -0.00000000e+00,  1.00000000e+00, -0.00000000e+00,  1.00000000e+00,\n",
       "        9.57104375e-01,  9.77010150e-01,  9.19151588e-01,  1.00000000e+00,\n",
       "        9.57712659e-01,  1.00000000e+00,  9.99334217e-01,  1.00000000e+00,\n",
       "        9.99248307e-01,  1.00000000e+00,  9.49141752e-01,  1.00000000e+00,\n",
       "        2.28129772e-01,  1.00000000e+00,  2.07708492e-01,  1.00000000e+00])"
      ]
     },
     "execution_count": 92,
     "metadata": {},
     "output_type": "execute_result"
    }
   ],
   "source": [
    "fisher_info.diagonal()"
   ]
  },
  {
   "cell_type": "code",
   "execution_count": null,
   "id": "1128b9b0",
   "metadata": {},
   "outputs": [],
   "source": []
  },
  {
   "cell_type": "code",
   "execution_count": null,
   "id": "1cac673f",
   "metadata": {},
   "outputs": [],
   "source": []
  },
  {
   "cell_type": "code",
   "execution_count": 52,
   "id": "4b541161",
   "metadata": {},
   "outputs": [],
   "source": [
    "#Operator Imports\n",
    "from qiskit.opflow import Z, X, I, StateFn, CircuitStateFn, SummedOp\n",
    "from qiskit.opflow.gradients import Gradient, NaturalGradient, QFI, Hessian\n",
    "\n",
    "#Circuit imports\n",
    "from qiskit.circuit import QuantumCircuit, QuantumRegister, Parameter, ParameterVector, ParameterExpression\n",
    "from qiskit.circuit.library import EfficientSU2"
   ]
  },
  {
   "cell_type": "code",
   "execution_count": 106,
   "id": "52a9cd46",
   "metadata": {},
   "outputs": [],
   "source": [
    "def compose_param_dict(param_var, param):\n",
    "    circ_param_dict = {}\n",
    "    for i, p in enumerate(param_var):\n",
    "        circ_param_dict[p] = param[i]\n",
    "    return circ_param_dict"
   ]
  },
  {
   "cell_type": "code",
   "execution_count": 116,
   "id": "e19ab9cf",
   "metadata": {},
   "outputs": [],
   "source": [
    "input_ = inputs[0]\n",
    "input_dict = compose_param_dict(model.feature_map_circ.parameters, input_)\n",
    "\n",
    "qc_whole = model.circuit.bind_parameters(input_dict)"
   ]
  },
  {
   "cell_type": "code",
   "execution_count": 118,
   "id": "7ebad1ff",
   "metadata": {},
   "outputs": [],
   "source": [
    "# Wrap the quantum circuit into a CircuitStateFn\n",
    "#qc = template.PQC\n",
    "state = CircuitStateFn(primitive=qc_whole, coeff=1.)\n",
    "\n",
    "# Convert the state and the parameters into the operator object that represents the QFI\n",
    "qfi = QFI(qfi_method='lin_comb_full').convert(operator=state, params=list(qc_whole.parameters))\n",
    "# Define the values for which the QFI is to be computed\n",
    "#values_dict = {a: np.pi / 4, b: 0.1}\n",
    "values_dict = compose_param_dict(qc_whole.parameters, param)\n"
   ]
  },
  {
   "cell_type": "code",
   "execution_count": 119,
   "id": "3874d5a3",
   "metadata": {},
   "outputs": [
    {
     "name": "stdout",
     "output_type": "stream",
     "text": [
      "--- 38.34926176071167 seconds ---\n",
      "[[ 1.00000000e+00  3.26000000e-16  2.43000000e-16 ...  8.90935798e-03\n",
      "   1.77553829e-02 -4.50603914e-03]\n",
      " [ 3.26000000e-16  1.00000000e+00 -1.04000000e-16 ...  3.44239557e-02\n",
      "  -1.76481929e-02  7.84976127e-03]\n",
      " [ 2.43000000e-16 -1.04000000e-16  1.00000000e+00 ...  9.38642553e-03\n",
      "   2.04483182e-02  6.06413000e-02]\n",
      " ...\n",
      " [ 8.90935798e-03  3.44239557e-02  9.38642553e-03 ...  9.99677013e-01\n",
      "  -9.70727211e-03 -4.91344758e-02]\n",
      " [ 1.77553829e-02 -1.76481929e-02  2.04483182e-02 ... -9.70727211e-03\n",
      "   9.91638403e-01  3.69254092e-02]\n",
      " [-4.50603914e-03  7.84976127e-03  6.06413000e-02 ... -4.91344758e-02\n",
      "   3.69254092e-02  9.99427590e-01]]\n"
     ]
    }
   ],
   "source": [
    "start_time = time.time()\n",
    "\n",
    "# Assign the parameters and evaluate the QFI\n",
    "qfi_result = qfi.assign_parameters(values_dict).eval()\n",
    "qfi_result = np.real(qfi_result)\n",
    "\n",
    "print(\"--- %s seconds ---\" % (time.time() - start_time))\n",
    "print(qfi_result)"
   ]
  },
  {
   "cell_type": "code",
   "execution_count": 120,
   "id": "173272d5",
   "metadata": {},
   "outputs": [
    {
     "data": {
      "text/plain": [
       "array([1.        , 1.        , 1.        , 1.        , 1.        ,\n",
       "       1.        , 1.        , 1.        , 0.99999999, 0.99999994,\n",
       "       0.99999995, 0.9873237 , 0.99999883, 0.99977097, 0.99998905,\n",
       "       0.99999817, 0.9997019 , 0.99408481, 0.99996525, 0.99987041,\n",
       "       0.99976314, 0.99977146, 0.99792319, 0.99999858, 0.92058415,\n",
       "       0.99921954, 0.97939969, 0.99749029, 0.99999759, 0.99967701,\n",
       "       0.9916384 , 0.99942759])"
      ]
     },
     "execution_count": 120,
     "metadata": {},
     "output_type": "execute_result"
    }
   ],
   "source": [
    "qfi_result.diagonal()"
   ]
  },
  {
   "cell_type": "code",
   "execution_count": 112,
   "id": "a7ce0e8e",
   "metadata": {},
   "outputs": [],
   "source": []
  },
  {
   "cell_type": "code",
   "execution_count": 122,
   "id": "3f5623b9",
   "metadata": {},
   "outputs": [
    {
     "name": "stdout",
     "output_type": "stream",
     "text": [
      "Block-diagonal QFI \n",
      " [[ 0.99908829 -0.06965841 -0.15700288 ...  0.          0.\n",
      "   0.        ]\n",
      " [-0.06965841  0.99897343 -0.03584988 ...  0.          0.\n",
      "   0.        ]\n",
      " [-0.15700288 -0.03584988  0.92013638 ...  0.          0.\n",
      "   0.        ]\n",
      " ...\n",
      " [ 0.          0.          0.         ...  0.99999139  0.06200057\n",
      "  -0.13943042]\n",
      " [ 0.          0.          0.         ...  0.06200057  0.99819223\n",
      "  -0.33614765]\n",
      " [ 0.          0.          0.         ... -0.13943042 -0.33614765\n",
      "   0.99593789]]\n",
      "--- 8.530728101730347 seconds ---\n",
      "Diagonal QFI \n",
      " [[0.99908829 0.         0.         ... 0.         0.         0.        ]\n",
      " [0.         0.99897343 0.         ... 0.         0.         0.        ]\n",
      " [0.         0.         0.92013638 ... 0.         0.         0.        ]\n",
      " ...\n",
      " [0.         0.         0.         ... 0.99999139 0.         0.        ]\n",
      " [0.         0.         0.         ... 0.         0.99819223 0.        ]\n",
      " [0.         0.         0.         ... 0.         0.         0.99593789]]\n",
      "--- 0.879676103591919 seconds ---\n"
     ]
    }
   ],
   "source": [
    "start_time = time.time()\n",
    "\n",
    "#Convert the state and the parameters into the operator object that represents the QFI\n",
    "# and set the approximation to 'block_diagonal'\n",
    "qfi2 = QFI('overlap_block_diag').convert(operator=state, params=list(qc_whole.parameters))\n",
    "\n",
    "# Assign the parameters and evaluate the QFI\n",
    "qfi_result2 = qfi2.assign_parameters(values_dict).eval()\n",
    "print('Block-diagonal QFI \\n', np.real(np.array(qfi_result2)))\n",
    "\n",
    "print(\"--- %s seconds ---\" % (time.time() - start_time))\n",
    "\n",
    "\n",
    "\n",
    "\n",
    "start_time = time.time()\n",
    "\n",
    "# Convert the state and the parameters into the operator object that represents the QFI\n",
    "# and set the approximation to 'diagonal'\n",
    "qfi3 = QFI('overlap_diag').convert(operator=state, params=list(qc_whole.parameters))\n",
    "\n",
    "# Assign the parameters and evaluate the QFI\n",
    "qfi_result3 = qfi3.assign_parameters(values_dict).eval()\n",
    "print('Diagonal QFI \\n', np.real(np.array(qfi_result3)))\n",
    "\n",
    "print(\"--- %s seconds ---\" % (time.time() - start_time))"
   ]
  },
  {
   "cell_type": "code",
   "execution_count": 123,
   "id": "856203c3",
   "metadata": {},
   "outputs": [
    {
     "name": "stdout",
     "output_type": "stream",
     "text": [
      "[0.99908829 0.99897343 0.92013638 0.99993403 0.99971921 1.\n",
      " 1.         1.         0.99910379 0.99999705 0.99617009 0.99356215\n",
      " 0.97155899 0.99999778 0.99999995 0.99999999 0.99883819 0.99998012\n",
      " 0.91751847 0.99950025 0.98843788 0.99996222 1.         1.\n",
      " 0.99394884 0.99999684 0.99755879 0.97929452 0.98039256 0.99999139\n",
      " 0.99819223 0.99593789]\n",
      "[0.99908829 0.99897343 0.92013638 0.99993403 0.99971921 1.\n",
      " 1.         1.         0.99910379 0.99999705 0.99617009 0.99356215\n",
      " 0.97155899 0.99999778 0.99999995 0.99999999 0.99883819 0.99998012\n",
      " 0.91751847 0.99950025 0.98843788 0.99996222 1.         1.\n",
      " 0.99394884 0.99999684 0.99755879 0.97929452 0.98039256 0.99999139\n",
      " 0.99819223 0.99593789]\n"
     ]
    }
   ],
   "source": [
    "print(qfi_result2.diagonal())\n",
    "print(qfi_result3.diagonal())"
   ]
  },
  {
   "cell_type": "code",
   "execution_count": null,
   "id": "dc843c72",
   "metadata": {},
   "outputs": [],
   "source": []
  }
 ],
 "metadata": {
  "kernelspec": {
   "display_name": "QML",
   "language": "python",
   "name": "qml"
  },
  "language_info": {
   "codemirror_mode": {
    "name": "ipython",
    "version": 3
   },
   "file_extension": ".py",
   "mimetype": "text/x-python",
   "name": "python",
   "nbconvert_exporter": "python",
   "pygments_lexer": "ipython3",
   "version": "3.7.10"
  }
 },
 "nbformat": 4,
 "nbformat_minor": 5
}
