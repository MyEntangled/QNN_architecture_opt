{
 "cells": [
  {
   "cell_type": "code",
   "execution_count": 8,
   "id": "60bcd53a",
   "metadata": {},
   "outputs": [],
   "source": [
    "import cvxpy as cp"
   ]
  },
  {
   "cell_type": "code",
   "execution_count": 13,
   "id": "c4b9299c",
   "metadata": {},
   "outputs": [
    {
     "name": "stderr",
     "output_type": "stream",
     "text": [
      "error parsing inputs\n"
     ]
    },
    {
     "ename": "TypeError",
     "evalue": "'tolerance' is an invalid keyword argument for this function",
     "output_type": "error",
     "traceback": [
      "\u001b[0;31m---------------------------------------------------------------------------\u001b[0m",
      "\u001b[0;31mTypeError\u001b[0m                                 Traceback (most recent call last)",
      "\u001b[0;32m/var/folders/k7/xbg0txh97kb_tz_4gnqjl7cm0000gn/T/ipykernel_27638/4193118772.py\u001b[0m in \u001b[0;36m<module>\u001b[0;34m\u001b[0m\n\u001b[1;32m      2\u001b[0m \u001b[0mobjective_min\u001b[0m \u001b[0;34m=\u001b[0m \u001b[0mcp\u001b[0m\u001b[0;34m.\u001b[0m\u001b[0mMinimize\u001b[0m\u001b[0;34m(\u001b[0m\u001b[0mcp\u001b[0m\u001b[0;34m.\u001b[0m\u001b[0mnorm\u001b[0m\u001b[0;34m(\u001b[0m\u001b[0mM\u001b[0m\u001b[0;34m)\u001b[0m\u001b[0;34m)\u001b[0m\u001b[0;34m\u001b[0m\u001b[0;34m\u001b[0m\u001b[0m\n\u001b[1;32m      3\u001b[0m \u001b[0mprob\u001b[0m \u001b[0;34m=\u001b[0m \u001b[0mcp\u001b[0m\u001b[0;34m.\u001b[0m\u001b[0mProblem\u001b[0m\u001b[0;34m(\u001b[0m\u001b[0mobjective_min\u001b[0m\u001b[0;34m)\u001b[0m\u001b[0;34m\u001b[0m\u001b[0;34m\u001b[0m\u001b[0m\n\u001b[0;32m----> 4\u001b[0;31m \u001b[0mprob\u001b[0m\u001b[0;34m.\u001b[0m\u001b[0msolve\u001b[0m\u001b[0;34m(\u001b[0m\u001b[0mtolerance\u001b[0m\u001b[0;34m=\u001b[0m\u001b[0;36m1e-6\u001b[0m\u001b[0;34m)\u001b[0m\u001b[0;34m\u001b[0m\u001b[0;34m\u001b[0m\u001b[0m\n\u001b[0m",
      "\u001b[0;32m~/opt/anaconda3/envs/QML/lib/python3.8/site-packages/cvxpy/problems/problem.py\u001b[0m in \u001b[0;36msolve\u001b[0;34m(self, *args, **kwargs)\u001b[0m\n\u001b[1;32m    470\u001b[0m         \u001b[0;32melse\u001b[0m\u001b[0;34m:\u001b[0m\u001b[0;34m\u001b[0m\u001b[0;34m\u001b[0m\u001b[0m\n\u001b[1;32m    471\u001b[0m             \u001b[0msolve_func\u001b[0m \u001b[0;34m=\u001b[0m \u001b[0mProblem\u001b[0m\u001b[0;34m.\u001b[0m\u001b[0m_solve\u001b[0m\u001b[0;34m\u001b[0m\u001b[0;34m\u001b[0m\u001b[0m\n\u001b[0;32m--> 472\u001b[0;31m         \u001b[0;32mreturn\u001b[0m \u001b[0msolve_func\u001b[0m\u001b[0;34m(\u001b[0m\u001b[0mself\u001b[0m\u001b[0;34m,\u001b[0m \u001b[0;34m*\u001b[0m\u001b[0margs\u001b[0m\u001b[0;34m,\u001b[0m \u001b[0;34m**\u001b[0m\u001b[0mkwargs\u001b[0m\u001b[0;34m)\u001b[0m\u001b[0;34m\u001b[0m\u001b[0;34m\u001b[0m\u001b[0m\n\u001b[0m\u001b[1;32m    473\u001b[0m \u001b[0;34m\u001b[0m\u001b[0m\n\u001b[1;32m    474\u001b[0m     \u001b[0;34m@\u001b[0m\u001b[0mclassmethod\u001b[0m\u001b[0;34m\u001b[0m\u001b[0;34m\u001b[0m\u001b[0m\n",
      "\u001b[0;32m~/opt/anaconda3/envs/QML/lib/python3.8/site-packages/cvxpy/problems/problem.py\u001b[0m in \u001b[0;36m_solve\u001b[0;34m(self, solver, warm_start, verbose, gp, qcp, requires_grad, enforce_dpp, **kwargs)\u001b[0m\n\u001b[1;32m    972\u001b[0m                     solving_chain.reductions[-1].name())\n\u001b[1;32m    973\u001b[0m         \u001b[0mstart\u001b[0m \u001b[0;34m=\u001b[0m \u001b[0mtime\u001b[0m\u001b[0;34m.\u001b[0m\u001b[0mtime\u001b[0m\u001b[0;34m(\u001b[0m\u001b[0;34m)\u001b[0m\u001b[0;34m\u001b[0m\u001b[0;34m\u001b[0m\u001b[0m\n\u001b[0;32m--> 974\u001b[0;31m         solution = solving_chain.solve_via_data(\n\u001b[0m\u001b[1;32m    975\u001b[0m             self, data, warm_start, verbose, kwargs)\n\u001b[1;32m    976\u001b[0m         \u001b[0mend\u001b[0m \u001b[0;34m=\u001b[0m \u001b[0mtime\u001b[0m\u001b[0;34m.\u001b[0m\u001b[0mtime\u001b[0m\u001b[0;34m(\u001b[0m\u001b[0;34m)\u001b[0m\u001b[0;34m\u001b[0m\u001b[0;34m\u001b[0m\u001b[0m\n",
      "\u001b[0;32m~/opt/anaconda3/envs/QML/lib/python3.8/site-packages/cvxpy/reductions/solvers/solving_chain.py\u001b[0m in \u001b[0;36msolve_via_data\u001b[0;34m(self, problem, data, warm_start, verbose, solver_opts)\u001b[0m\n\u001b[1;32m    341\u001b[0m             \u001b[0ma\u001b[0m \u001b[0mSolution\u001b[0m \u001b[0mobject\u001b[0m\u001b[0;34m.\u001b[0m\u001b[0;34m\u001b[0m\u001b[0;34m\u001b[0m\u001b[0m\n\u001b[1;32m    342\u001b[0m         \"\"\"\n\u001b[0;32m--> 343\u001b[0;31m         return self.solver.solve_via_data(data, warm_start, verbose,\n\u001b[0m\u001b[1;32m    344\u001b[0m                                           solver_opts, problem._solver_cache)\n",
      "\u001b[0;32m~/opt/anaconda3/envs/QML/lib/python3.8/site-packages/cvxpy/reductions/solvers/conic_solvers/scs_conif.py\u001b[0m in \u001b[0;36msolve_via_data\u001b[0;34m(self, data, warm_start, verbose, solver_opts, solver_cache)\u001b[0m\n\u001b[1;32m    291\u001b[0m                 \u001b[0msolver_opts\u001b[0m\u001b[0;34m[\u001b[0m\u001b[0;34m\"eps\"\u001b[0m\u001b[0;34m]\u001b[0m \u001b[0;34m=\u001b[0m \u001b[0msolver_opts\u001b[0m\u001b[0;34m.\u001b[0m\u001b[0mget\u001b[0m\u001b[0;34m(\u001b[0m\u001b[0;34m\"eps\"\u001b[0m\u001b[0;34m,\u001b[0m \u001b[0;36m1e-4\u001b[0m\u001b[0;34m)\u001b[0m\u001b[0;34m\u001b[0m\u001b[0;34m\u001b[0m\u001b[0m\n\u001b[1;32m    292\u001b[0m \u001b[0;34m\u001b[0m\u001b[0m\n\u001b[0;32m--> 293\u001b[0;31m             \u001b[0mresults\u001b[0m \u001b[0;34m=\u001b[0m \u001b[0mscs\u001b[0m\u001b[0;34m.\u001b[0m\u001b[0msolve\u001b[0m\u001b[0;34m(\u001b[0m\u001b[0margs\u001b[0m\u001b[0;34m,\u001b[0m \u001b[0mcones\u001b[0m\u001b[0;34m,\u001b[0m \u001b[0mverbose\u001b[0m\u001b[0;34m=\u001b[0m\u001b[0mverbose\u001b[0m\u001b[0;34m,\u001b[0m \u001b[0;34m**\u001b[0m\u001b[0msolver_opts\u001b[0m\u001b[0;34m)\u001b[0m\u001b[0;34m\u001b[0m\u001b[0;34m\u001b[0m\u001b[0m\n\u001b[0m\u001b[1;32m    294\u001b[0m             \u001b[0mstatus\u001b[0m \u001b[0;34m=\u001b[0m \u001b[0mself\u001b[0m\u001b[0;34m.\u001b[0m\u001b[0mSTATUS_MAP\u001b[0m\u001b[0;34m[\u001b[0m\u001b[0mresults\u001b[0m\u001b[0;34m[\u001b[0m\u001b[0;34m\"info\"\u001b[0m\u001b[0;34m]\u001b[0m\u001b[0;34m[\u001b[0m\u001b[0;34m\"statusVal\"\u001b[0m\u001b[0;34m]\u001b[0m\u001b[0;34m]\u001b[0m\u001b[0;34m\u001b[0m\u001b[0;34m\u001b[0m\u001b[0m\n\u001b[1;32m    295\u001b[0m \u001b[0;34m\u001b[0m\u001b[0m\n",
      "\u001b[0;32m~/opt/anaconda3/envs/QML/lib/python3.8/site-packages/scs/__init__.py\u001b[0m in \u001b[0;36msolve\u001b[0;34m(probdata, cone, **kwargs)\u001b[0m\n\u001b[1;32m     86\u001b[0m         warm, **kwargs)\n\u001b[1;32m     87\u001b[0m \u001b[0;34m\u001b[0m\u001b[0m\n\u001b[0;32m---> 88\u001b[0;31m   return _scs_direct.csolve((m, n), Adata, Aindices, Acolptr, b, c, cone, warm,\n\u001b[0m\u001b[1;32m     89\u001b[0m                             **kwargs)\n",
      "\u001b[0;31mTypeError\u001b[0m: 'tolerance' is an invalid keyword argument for this function"
     ]
    }
   ],
   "source": [
    "M = cp.Variable((5,10))\n",
    "objective_min = cp.Minimize(cp.norm(M))\n",
    "prob = cp.Problem(objective_min)\n",
    "prob.solve(tolerance=1e-6)"
   ]
  },
  {
   "cell_type": "code",
   "execution_count": 14,
   "id": "b13739f1",
   "metadata": {},
   "outputs": [
    {
     "name": "stdout",
     "output_type": "stream",
     "text": [
      "Help on method solve in module cvxpy.problems.problem:\n",
      "\n",
      "solve(*args, **kwargs) method of cvxpy.problems.problem.Problem instance\n",
      "    Compiles and solves the problem using the specified method.\n",
      "    \n",
      "    Populates the :code:`status` and :code:`value` attributes on the\n",
      "    problem object as a side-effect.\n",
      "    \n",
      "    Arguments\n",
      "    ---------\n",
      "    solver : str, optional\n",
      "        The solver to use. For example, 'ECOS', 'SCS', or 'OSQP'.\n",
      "    verbose : bool, optional\n",
      "        Overrides the default of hiding solver output, and prints\n",
      "        logging information describing CVXPY's compilation process.\n",
      "    gp : bool, optional\n",
      "        If True, parses the problem as a disciplined geometric program\n",
      "        instead of a disciplined convex program.\n",
      "    qcp : bool, optional\n",
      "        If True, parses the problem as a disciplined quasiconvex program\n",
      "        instead of a disciplined convex program.\n",
      "    requires_grad : bool, optional\n",
      "        Makes it possible to compute gradients of a solution with respect to\n",
      "        Parameters by calling ``problem.backward()`` after solving, or to\n",
      "        compute perturbations to the variables given perturbations to Parameters by\n",
      "        calling ``problem.derivative()``.\n",
      "    \n",
      "        Gradients are only supported for DCP and DGP problems, not\n",
      "        quasiconvex problems. When computing gradients (i.e., when\n",
      "        this argument is True), the problem must satisfy the DPP rules.\n",
      "    enforce_dpp : bool, optional\n",
      "        When True, a DPPError will be thrown when trying to solve a non-DPP\n",
      "        problem (instead of just a warning). Only relevant for problems\n",
      "        involving Parameters. Defaults to False.\n",
      "    method : function, optional\n",
      "        A custom solve method to use.\n",
      "    kwargs : keywords, optional\n",
      "        Additional solver specific arguments. See Notes below.\n",
      "    \n",
      "    Notes\n",
      "    ------\n",
      "    CVXPY interfaces with a wide range of solvers; the algorithms used by these solvers\n",
      "    have arguments relating to stopping criteria, and strategies to improve solution quality.\n",
      "    \n",
      "    There is no one choice of arguments which is perfect for every problem. If you are not\n",
      "    getting satisfactory results from a solver, you can try changing its arguments. The\n",
      "    exact way this is done depends on the specific solver. Here are some examples:\n",
      "    \n",
      "        prob.solve(solver='ECOS', abstol=1e-6)\n",
      "        prob.solve(solver='OSQP', max_iter=10000).\n",
      "        mydict = {\"MSK_DPAR_INTPNT_CO_TOL_NEAR_REL\":  10}\n",
      "        prob.solve(solver='MOSEK', mosek_params=mydict).\n",
      "    \n",
      "    You should refer to CVXPY's web documentation for details on how to pass solver\n",
      "    solver arguments, available at\n",
      "    \n",
      "    https://www.cvxpy.org/tutorial/advanced/index.html#setting-solver-options\n",
      "    \n",
      "    Returns\n",
      "    -------\n",
      "    float\n",
      "        The optimal value for the problem, or a string indicating\n",
      "        why the problem could not be solved.\n",
      "    \n",
      "    Raises\n",
      "    ------\n",
      "    cvxpy.error.DCPError\n",
      "        Raised if the problem is not DCP and `gp` is False.\n",
      "    cvxpy.error.DGPError\n",
      "        Raised if the problem is not DGP and `gp` is True.\n",
      "    cvxpy.error.SolverError\n",
      "        Raised if no suitable solver exists among the installed solvers,\n",
      "        or if an unanticipated error is encountered.\n",
      "\n"
     ]
    }
   ],
   "source": [
    "help(prob.solve)"
   ]
  }
 ],
 "metadata": {
  "kernelspec": {
   "display_name": "QML",
   "language": "python",
   "name": "qml"
  },
  "language_info": {
   "codemirror_mode": {
    "name": "ipython",
    "version": 3
   },
   "file_extension": ".py",
   "mimetype": "text/x-python",
   "name": "python",
   "nbconvert_exporter": "python",
   "pygments_lexer": "ipython3",
   "version": "3.8.2"
  }
 },
 "nbformat": 4,
 "nbformat_minor": 5
}
