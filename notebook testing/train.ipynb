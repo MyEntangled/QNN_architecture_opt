{
 "cells": [
  {
   "cell_type": "code",
   "execution_count": 132,
   "id": "7bffa4e7",
   "metadata": {},
   "outputs": [],
   "source": [
    "import numpy as np\n",
    "from scipy.optimize import minimize, basinhopping\n",
    "from qiskit.circuit import QuantumCircuit, Parameter, ParameterVector\n",
    "from qiskit.quantum_info import Operator\n",
    "\n",
    "from qiskit.quantum_info import Statevector\n",
    "from qiskit.circuit.library import QFT"
   ]
  },
  {
   "cell_type": "code",
   "execution_count": 227,
   "id": "713458bf",
   "metadata": {},
   "outputs": [],
   "source": [
    "params = ParameterVector('theta',6)\n",
    "# this is a very bad universal 2q gate, but just a toy example\n",
    "u = QuantumCircuit(2)\n",
    "u.rx(params[0],0)\n",
    "u.rx(params[1],1)\n",
    "u.crx(params[2],0,1)\n",
    "u.cry(params[3],1,0)\n",
    "u.rz(params[4],0)\n",
    "u.rz(params[5],1)\n",
    "\n",
    "# target circuit\n",
    "# v = QuantumCircuit(2)\n",
    "# v.h(0)\n",
    "# v.crx(np.pi,0,1)\n",
    "# v.cry(0.1,1,0)\n",
    "# V = Operator(v).data  # matrix representation of v\n",
    "qft_circ = QFT(num_qubits=2, approximation_degree=0, do_swaps=False, inverse=False, insert_barriers=False, name=None)\n",
    "v = qft_circ"
   ]
  },
  {
   "cell_type": "code",
   "execution_count": 228,
   "id": "95684c69",
   "metadata": {},
   "outputs": [],
   "source": [
    "state00 = Statevector.from_label('00')\n",
    "state01 = Statevector.from_label('01')\n",
    "state10 = Statevector.from_label('10')\n",
    "state11 = Statevector.from_label('11')\n",
    "input_states = [state00, state01, state10, state11]\n",
    "outcome_states = [state.evolve(v) for state in input_states]\n",
    "observables = [state.to_operator() for state in outcome_states]"
   ]
  },
  {
   "cell_type": "code",
   "execution_count": 229,
   "id": "ce46dfa0",
   "metadata": {},
   "outputs": [
    {
     "name": "stdout",
     "output_type": "stream",
     "text": [
      "Statevector([0.5+0.j, 0.5+0.j, 0.5+0.j, 0.5+0.j],\n",
      "            dims=(2, 2))\n",
      "Statevector([ 5.000000e-01+0.j , -5.000000e-01+0.j ,  3.061617e-17+0.5j,\n",
      "             -3.061617e-17-0.5j],\n",
      "            dims=(2, 2))\n",
      "Statevector([ 0.5+0.j,  0.5+0.j, -0.5+0.j, -0.5+0.j],\n",
      "            dims=(2, 2))\n",
      "Statevector([ 5.000000e-01+0.j , -5.000000e-01+0.j , -3.061617e-17-0.5j,\n",
      "              3.061617e-17+0.5j],\n",
      "            dims=(2, 2))\n"
     ]
    }
   ],
   "source": [
    "for i in range(len(outcome_states)):\n",
    "    print(outcome_states[i])"
   ]
  },
  {
   "cell_type": "code",
   "execution_count": 239,
   "id": "15996e71",
   "metadata": {},
   "outputs": [
    {
     "data": {
      "text/plain": [
       "qiskit.quantum_info.operators.operator.Operator"
      ]
     },
     "execution_count": 239,
     "metadata": {},
     "output_type": "execute_result"
    }
   ],
   "source": [
    "type(observables[0])"
   ]
  },
  {
   "cell_type": "code",
   "execution_count": 231,
   "id": "0dda1811",
   "metadata": {},
   "outputs": [],
   "source": [
    "def fidelity_obj(x, *args):\n",
    "    u, input_states, observables = args\n",
    "    U = Operator(u.bind_parameters(x))\n",
    "    output_states = [state.evolve(U) for state in input_states]\n",
    "        \n",
    "    fid = 0\n",
    "    for idx, state in enumerate(output_states):\n",
    "        #fid += state.data.conj() @ observables[idx].data @ state.data\n",
    "        fid += np.trace(observables[idx].data @ state.to_operator().data)\n",
    "    return np.real(-fid/len(output_states))"
   ]
  },
  {
   "cell_type": "code",
   "execution_count": 233,
   "id": "95e2dfd6",
   "metadata": {},
   "outputs": [
    {
     "name": "stdout",
     "output_type": "stream",
     "text": [
      "     fun: -0.9999999977066174\n",
      "   maxcv: 0.0\n",
      " message: 'Optimization terminated successfully.'\n",
      "    nfev: 145\n",
      "  status: 1\n",
      " success: True\n",
      "       x: array([-1.57080431e+00, -1.57077166e+00, -9.59529295e-05,  1.57077012e+00,\n",
      "       -1.57075940e+00, -7.85464759e-01])\n",
      "Final circuit\n",
      "     ┌───────────────────────┐                            »\n",
      "q_0: ┤ Rx(-1.57080430779352) ├─────────────■──────────────»\n",
      "     ├───────────────────────┤┌────────────┴─────────────┐»\n",
      "q_1: ┤ Rx(-1.57077165841904) ├┤ Rx(-9.59529294948062e-5) ├»\n",
      "     └───────────────────────┘└──────────────────────────┘»\n",
      "«     ┌──────────────────────┐┌───────────────────────┐ \n",
      "«q_0: ┤ Ry(1.57077012155327) ├┤ Rz(-1.57075940117197) ├─\n",
      "«     └──────────┬───────────┘├───────────────────────┴┐\n",
      "«q_1: ───────────■────────────┤ Rz(-0.785464758757777) ├\n",
      "«                             └────────────────────────┘\n",
      "[Statevector([0.19133646+0.46194646j, 0.19131175+0.46193505j,\n",
      "             0.19137473+0.4619324j , 0.19133182+0.46195017j],\n",
      "            dims=(2, 2)), Statevector([-0.46195015+0.19133799j,  0.46193136-0.19131022j,\n",
      "             -0.19136467-0.46193656j,  0.19136609+0.46193598j],\n",
      "            dims=(2, 2)), Statevector([-0.46193506+0.19133174j, -0.46196798+0.19132539j,\n",
      "              0.46193081-0.19134811j,  0.46193022-0.19134952j],\n",
      "            dims=(2, 2)), Statevector([-0.19133327-0.46193875j,  0.19132386+0.46196429j,\n",
      "             -0.46191662+0.19138237j,  0.46193439-0.19133947j],\n",
      "            dims=(2, 2))]\n"
     ]
    }
   ],
   "source": [
    "initial_guess = np.array([0,0,0,0,0,0])\n",
    "result = minimize(fidelity_obj, initial_guess, args=(u, input_states, observables), method='cobyla')\n",
    "#minimizer_kwargs = dict(method=\"L-BFGS-B\", args=(u, input_states, observables))\n",
    "#result = basinhopping(fidelity_obj, initial_guess, minimizer_kwargs=minimizer_kwargs)\n",
    "print(result)\n",
    "print('Final circuit')\n",
    "print(u.bind_parameters(result.x).draw())\n",
    "\n",
    "U = Operator(u.bind_parameters(result.x))\n",
    "output_states = [state.evolve(U) for state in input_states]\n",
    "print(output_states)"
   ]
  },
  {
   "cell_type": "code",
   "execution_count": 235,
   "id": "f49cd1e0",
   "metadata": {},
   "outputs": [
    {
     "data": {
      "text/plain": [
       "[Statevector([0.5+0.j, 0.5+0.j, 0.5+0.j, 0.5+0.j],\n",
       "             dims=(2, 2)),\n",
       " Statevector([ 5.000000e-01+0.j , -5.000000e-01+0.j ,  3.061617e-17+0.5j,\n",
       "              -3.061617e-17-0.5j],\n",
       "             dims=(2, 2)),\n",
       " Statevector([ 0.5+0.j,  0.5+0.j, -0.5+0.j, -0.5+0.j],\n",
       "             dims=(2, 2)),\n",
       " Statevector([ 5.000000e-01+0.j , -5.000000e-01+0.j , -3.061617e-17-0.5j,\n",
       "               3.061617e-17+0.5j],\n",
       "             dims=(2, 2))]"
      ]
     },
     "execution_count": 235,
     "metadata": {},
     "output_type": "execute_result"
    }
   ],
   "source": [
    "outcome_states"
   ]
  },
  {
   "cell_type": "code",
   "execution_count": null,
   "id": "89f5f95d",
   "metadata": {},
   "outputs": [],
   "source": []
  },
  {
   "cell_type": "code",
   "execution_count": 182,
   "id": "7840d4e6",
   "metadata": {},
   "outputs": [],
   "source": [
    "import numpy as np\n",
    "from qiskit.algorithms.optimizers import QNSPSA\n",
    "from qiskit.circuit.library import PauliTwoDesign\n",
    "from qiskit.opflow import Z, StateFn\n",
    "\n",
    "ansatz = PauliTwoDesign(2, reps=1, seed=2)\n",
    "observable = Z ^ Z\n",
    "initial_point = np.random.random(ansatz.num_parameters)\n",
    "\n",
    "def loss(x):\n",
    "    bound = ansatz.bind_parameters(x)\n",
    "    return np.real((StateFn(observable, is_measurement=True) @ StateFn(bound)).eval())\n",
    "\n",
    "fidelity = QNSPSA.get_fidelity(ansatz)\n",
    "qnspsa = QNSPSA(fidelity, maxiter=300)\n",
    "result = qnspsa.optimize(ansatz.num_parameters, loss, initial_point=initial_point)"
   ]
  },
  {
   "cell_type": "code",
   "execution_count": 224,
   "id": "50f4fde7",
   "metadata": {},
   "outputs": [
    {
     "name": "stdout",
     "output_type": "stream",
     "text": [
      "(array([ 1.01255428, -3.69199167,  1.63194904,  2.19386059,  0.81007444,\n",
      "        1.06203548]), -0.71917356615196, 2101)\n",
      "[Statevector([ 0.07972573+0.22387888j,  0.20681972+0.17805448j,\n",
      "             -0.15362723+0.4999597j , -0.19923612+0.74551204j],\n",
      "            dims=(2, 2)), Statevector([ 0.12413663-0.04420641j, -0.32111908+0.37299683j,\n",
      "              0.74251671+0.1974304j , -0.378915  -0.080656j  ],\n",
      "            dims=(2, 2)), Statevector([ 0.79287326-0.28235087j,  0.39468044-0.07001132j,\n",
      "             -0.11329023+0.05323042j, -0.25797915-0.22075856j],\n",
      "            dims=(2, 2)), Statevector([-0.15655824-0.4396333j ,  0.12626456+0.71180133j,\n",
      "             -0.2299808 +0.25994196j,  0.3194507 -0.19260962j],\n",
      "            dims=(2, 2))]\n"
     ]
    }
   ],
   "source": [
    "def fidelity_obj(x):\n",
    "    U = Operator(u.bind_parameters(x))\n",
    "    output_states = [state.evolve(U) for state in input_states]\n",
    "        \n",
    "    fid = 0\n",
    "    for idx, state in enumerate(output_states):\n",
    "        #fid += state.data.conj() @ observables[idx].data @ state.data\n",
    "        fid += np.trace(observables[idx].data @ state.to_operator().data)\n",
    "    return np.real(-fid/len(output_states))\n",
    "\n",
    "initial_point = np.random.random(u.num_parameters)\n",
    "fidelity = QNSPSA.get_fidelity(u)\n",
    "qnspsa = QNSPSA(fidelity, maxiter=300)\n",
    "result = qnspsa.optimize(u.num_parameters, fidelity_obj, initial_point=initial_point)\n",
    "print(result)\n",
    "\n",
    "U = Operator(u.bind_parameters(result[0]))\n",
    "output_states = [state.evolve(U) for state in input_states]\n",
    "print(output_states)"
   ]
  },
  {
   "cell_type": "code",
   "execution_count": 226,
   "id": "9fbb8d89",
   "metadata": {},
   "outputs": [
    {
     "data": {
      "text/plain": [
       "[Statevector([0.5+0.j, 0.5+0.j, 0.5+0.j, 0.5+0.j],\n",
       "             dims=(2, 2)),\n",
       " Statevector([ 5.000000e-01+0.j , -5.000000e-01+0.j ,  3.061617e-17+0.5j,\n",
       "              -3.061617e-17-0.5j],\n",
       "             dims=(2, 2)),\n",
       " Statevector([ 0.5+0.j,  0.5+0.j, -0.5+0.j, -0.5+0.j],\n",
       "             dims=(2, 2)),\n",
       " Statevector([ 5.000000e-01+0.j , -5.000000e-01+0.j , -3.061617e-17-0.5j,\n",
       "               3.061617e-17+0.5j],\n",
       "             dims=(2, 2))]"
      ]
     },
     "execution_count": 226,
     "metadata": {},
     "output_type": "execute_result"
    }
   ],
   "source": [
    "outcome_states"
   ]
  },
  {
   "cell_type": "code",
   "execution_count": 221,
   "id": "97d0b3c0",
   "metadata": {},
   "outputs": [
    {
     "name": "stdout",
     "output_type": "stream",
     "text": [
      "[ 0.62224882  0.5590185   0.14563938  0.20978552  0.52075515  0.85671525\n",
      "  2.19304514  0.5590185   0.14563938  0.20978552  0.52075515  0.85671525\n",
      "  0.62224882  2.12981483  0.14563938  0.20978552  0.52075515  0.85671525\n",
      "  0.62224882  0.5590185   1.71643571  0.20978552  0.52075515  0.85671525\n",
      "  0.62224882  0.5590185   0.14563938  1.78058185  0.52075515  0.85671525\n",
      "  0.62224882  0.5590185   0.14563938  0.20978552  2.09155148  0.85671525\n",
      "  0.62224882  0.5590185   0.14563938  0.20978552  0.52075515  2.42751158\n",
      " -0.94854751  0.5590185   0.14563938  0.20978552  0.52075515  0.85671525\n",
      "  0.62224882 -1.01177782  0.14563938  0.20978552  0.52075515  0.85671525\n",
      "  0.62224882  0.5590185  -1.42515694  0.20978552  0.52075515  0.85671525\n",
      "  0.62224882  0.5590185   0.14563938 -1.3610108   0.52075515  0.85671525\n",
      "  0.62224882  0.5590185   0.14563938  0.20978552 -1.05004118  0.85671525\n",
      "  0.62224882  0.5590185   0.14563938  0.20978552  0.52075515 -0.71408107]\n"
     ]
    },
    {
     "ename": "ValueError",
     "evalue": "Mismatching number of values and parameters. For partial binding please pass a dictionary of {parameter: value} pairs.",
     "output_type": "error",
     "traceback": [
      "\u001b[0;31m---------------------------------------------------------------------------\u001b[0m",
      "\u001b[0;31mValueError\u001b[0m                                Traceback (most recent call last)",
      "\u001b[0;32m/var/folders/km/wpxhny5j6h7c_prrd3x7j1mc0000gn/T/ipykernel_18847/1500143962.py\u001b[0m in \u001b[0;36m<module>\u001b[0;34m\u001b[0m\n\u001b[1;32m     15\u001b[0m \u001b[0minitial_point\u001b[0m \u001b[0;34m=\u001b[0m \u001b[0mnp\u001b[0m\u001b[0;34m.\u001b[0m\u001b[0mrandom\u001b[0m\u001b[0;34m.\u001b[0m\u001b[0mrandom\u001b[0m\u001b[0;34m(\u001b[0m\u001b[0mu\u001b[0m\u001b[0;34m.\u001b[0m\u001b[0mnum_parameters\u001b[0m\u001b[0;34m)\u001b[0m\u001b[0;34m\u001b[0m\u001b[0;34m\u001b[0m\u001b[0m\n\u001b[1;32m     16\u001b[0m \u001b[0maqgd\u001b[0m \u001b[0;34m=\u001b[0m \u001b[0mAQGD\u001b[0m\u001b[0;34m(\u001b[0m\u001b[0mmaxiter\u001b[0m\u001b[0;34m=\u001b[0m\u001b[0;36m300\u001b[0m\u001b[0;34m)\u001b[0m\u001b[0;34m\u001b[0m\u001b[0;34m\u001b[0m\u001b[0m\n\u001b[0;32m---> 17\u001b[0;31m \u001b[0mresult\u001b[0m \u001b[0;34m=\u001b[0m \u001b[0maqgd\u001b[0m\u001b[0;34m.\u001b[0m\u001b[0moptimize\u001b[0m\u001b[0;34m(\u001b[0m\u001b[0mu\u001b[0m\u001b[0;34m.\u001b[0m\u001b[0mnum_parameters\u001b[0m\u001b[0;34m,\u001b[0m \u001b[0mfidelity_obj\u001b[0m\u001b[0;34m,\u001b[0m \u001b[0minitial_point\u001b[0m\u001b[0;34m=\u001b[0m\u001b[0minitial_point\u001b[0m\u001b[0;34m)\u001b[0m\u001b[0;34m\u001b[0m\u001b[0;34m\u001b[0m\u001b[0m\n\u001b[0m\u001b[1;32m     18\u001b[0m \u001b[0mprint\u001b[0m\u001b[0;34m(\u001b[0m\u001b[0mresult\u001b[0m\u001b[0;34m)\u001b[0m\u001b[0;34m\u001b[0m\u001b[0;34m\u001b[0m\u001b[0m\n",
      "\u001b[0;32m~/opt/anaconda3/envs/QML/lib/python3.7/site-packages/qiskit/algorithms/optimizers/aqgd.py\u001b[0m in \u001b[0;36moptimize\u001b[0;34m(self, num_vars, objective_function, gradient_function, variable_bounds, initial_point)\u001b[0m\n\u001b[1;32m    304\u001b[0m         )\n\u001b[1;32m    305\u001b[0m         result = self.minimize(\n\u001b[0;32m--> 306\u001b[0;31m             \u001b[0mobjective_function\u001b[0m\u001b[0;34m,\u001b[0m \u001b[0minitial_point\u001b[0m\u001b[0;34m,\u001b[0m \u001b[0mgradient_function\u001b[0m\u001b[0;34m,\u001b[0m \u001b[0mvariable_bounds\u001b[0m\u001b[0;34m\u001b[0m\u001b[0;34m\u001b[0m\u001b[0m\n\u001b[0m\u001b[1;32m    307\u001b[0m         )\n\u001b[1;32m    308\u001b[0m         \u001b[0;32mreturn\u001b[0m \u001b[0mresult\u001b[0m\u001b[0;34m.\u001b[0m\u001b[0mx\u001b[0m\u001b[0;34m,\u001b[0m \u001b[0mresult\u001b[0m\u001b[0;34m.\u001b[0m\u001b[0mfun\u001b[0m\u001b[0;34m,\u001b[0m \u001b[0mresult\u001b[0m\u001b[0;34m.\u001b[0m\u001b[0mnfev\u001b[0m\u001b[0;34m\u001b[0m\u001b[0;34m\u001b[0m\u001b[0m\n",
      "\u001b[0;32m~/opt/anaconda3/envs/QML/lib/python3.7/site-packages/qiskit/algorithms/optimizers/aqgd.py\u001b[0m in \u001b[0;36mminimize\u001b[0;34m(self, fun, x0, jac, bounds)\u001b[0m\n\u001b[1;32m    344\u001b[0m                 \u001b[0;31m# Calculate objective function and estimate of analytical gradient\u001b[0m\u001b[0;34m\u001b[0m\u001b[0;34m\u001b[0m\u001b[0;34m\u001b[0m\u001b[0m\n\u001b[1;32m    345\u001b[0m                 \u001b[0;32mif\u001b[0m \u001b[0mjac\u001b[0m \u001b[0;32mis\u001b[0m \u001b[0;32mNone\u001b[0m\u001b[0;34m:\u001b[0m\u001b[0;34m\u001b[0m\u001b[0;34m\u001b[0m\u001b[0m\n\u001b[0;32m--> 346\u001b[0;31m                     \u001b[0mobjval\u001b[0m\u001b[0;34m,\u001b[0m \u001b[0mgradient\u001b[0m \u001b[0;34m=\u001b[0m \u001b[0mself\u001b[0m\u001b[0;34m.\u001b[0m\u001b[0m_compute_objective_fn_and_gradient\u001b[0m\u001b[0;34m(\u001b[0m\u001b[0mparams\u001b[0m\u001b[0;34m,\u001b[0m \u001b[0mfun\u001b[0m\u001b[0;34m)\u001b[0m\u001b[0;34m\u001b[0m\u001b[0;34m\u001b[0m\u001b[0m\n\u001b[0m\u001b[1;32m    347\u001b[0m                 \u001b[0;32melse\u001b[0m\u001b[0;34m:\u001b[0m\u001b[0;34m\u001b[0m\u001b[0;34m\u001b[0m\u001b[0m\n\u001b[1;32m    348\u001b[0m                     \u001b[0mobjval\u001b[0m \u001b[0;34m=\u001b[0m \u001b[0mfun\u001b[0m\u001b[0;34m(\u001b[0m\u001b[0mparams\u001b[0m\u001b[0;34m)\u001b[0m\u001b[0;34m\u001b[0m\u001b[0;34m\u001b[0m\u001b[0m\n",
      "\u001b[0;32m~/opt/anaconda3/envs/QML/lib/python3.7/site-packages/qiskit/algorithms/optimizers/aqgd.py\u001b[0m in \u001b[0;36m_compute_objective_fn_and_gradient\u001b[0;34m(self, params, obj)\u001b[0m\n\u001b[1;32m    154\u001b[0m         \u001b[0;31m# Evaluate,\u001b[0m\u001b[0;34m\u001b[0m\u001b[0;34m\u001b[0m\u001b[0;34m\u001b[0m\u001b[0m\n\u001b[1;32m    155\u001b[0m         \u001b[0;31m# reshaping to flatten, as expected by objective function\u001b[0m\u001b[0;34m\u001b[0m\u001b[0;34m\u001b[0m\u001b[0;34m\u001b[0m\u001b[0m\n\u001b[0;32m--> 156\u001b[0;31m         \u001b[0mvalues\u001b[0m \u001b[0;34m=\u001b[0m \u001b[0mnp\u001b[0m\u001b[0;34m.\u001b[0m\u001b[0marray\u001b[0m\u001b[0;34m(\u001b[0m\u001b[0mobj\u001b[0m\u001b[0;34m(\u001b[0m\u001b[0mparam_sets_to_eval\u001b[0m\u001b[0;34m.\u001b[0m\u001b[0mreshape\u001b[0m\u001b[0;34m(\u001b[0m\u001b[0;34m-\u001b[0m\u001b[0;36m1\u001b[0m\u001b[0;34m)\u001b[0m\u001b[0;34m)\u001b[0m\u001b[0;34m)\u001b[0m\u001b[0;34m\u001b[0m\u001b[0;34m\u001b[0m\u001b[0m\n\u001b[0m\u001b[1;32m    157\u001b[0m \u001b[0;34m\u001b[0m\u001b[0m\n\u001b[1;32m    158\u001b[0m         \u001b[0;31m# Update number of objective function evaluations\u001b[0m\u001b[0;34m\u001b[0m\u001b[0;34m\u001b[0m\u001b[0;34m\u001b[0m\u001b[0m\n",
      "\u001b[0;32m/var/folders/km/wpxhny5j6h7c_prrd3x7j1mc0000gn/T/ipykernel_18847/1500143962.py\u001b[0m in \u001b[0;36mfidelity_obj\u001b[0;34m(x)\u001b[0m\n\u001b[1;32m      3\u001b[0m \u001b[0;32mdef\u001b[0m \u001b[0mfidelity_obj\u001b[0m\u001b[0;34m(\u001b[0m\u001b[0mx\u001b[0m\u001b[0;34m)\u001b[0m\u001b[0;34m:\u001b[0m\u001b[0;34m\u001b[0m\u001b[0;34m\u001b[0m\u001b[0m\n\u001b[1;32m      4\u001b[0m     \u001b[0mprint\u001b[0m\u001b[0;34m(\u001b[0m\u001b[0mx\u001b[0m\u001b[0;34m)\u001b[0m\u001b[0;34m\u001b[0m\u001b[0;34m\u001b[0m\u001b[0m\n\u001b[0;32m----> 5\u001b[0;31m     \u001b[0mU\u001b[0m \u001b[0;34m=\u001b[0m \u001b[0mOperator\u001b[0m\u001b[0;34m(\u001b[0m\u001b[0mu\u001b[0m\u001b[0;34m.\u001b[0m\u001b[0mbind_parameters\u001b[0m\u001b[0;34m(\u001b[0m\u001b[0mx\u001b[0m\u001b[0;34m)\u001b[0m\u001b[0;34m)\u001b[0m\u001b[0;34m\u001b[0m\u001b[0;34m\u001b[0m\u001b[0m\n\u001b[0m\u001b[1;32m      6\u001b[0m     \u001b[0moutput_states\u001b[0m \u001b[0;34m=\u001b[0m \u001b[0;34m[\u001b[0m\u001b[0mstate\u001b[0m\u001b[0;34m.\u001b[0m\u001b[0mevolve\u001b[0m\u001b[0;34m(\u001b[0m\u001b[0mU\u001b[0m\u001b[0;34m)\u001b[0m \u001b[0;32mfor\u001b[0m \u001b[0mstate\u001b[0m \u001b[0;32min\u001b[0m \u001b[0minput_states\u001b[0m\u001b[0;34m]\u001b[0m\u001b[0;34m\u001b[0m\u001b[0;34m\u001b[0m\u001b[0m\n\u001b[1;32m      7\u001b[0m \u001b[0;34m\u001b[0m\u001b[0m\n",
      "\u001b[0;32m~/opt/anaconda3/envs/QML/lib/python3.7/site-packages/qiskit/circuit/quantumcircuit.py\u001b[0m in \u001b[0;36mbind_parameters\u001b[0;34m(self, values)\u001b[0m\n\u001b[1;32m   2551\u001b[0m                     \u001b[0;34m\"Found ParameterExpression in values; use assign_parameters() instead.\"\u001b[0m\u001b[0;34m\u001b[0m\u001b[0;34m\u001b[0m\u001b[0m\n\u001b[1;32m   2552\u001b[0m                 )\n\u001b[0;32m-> 2553\u001b[0;31m             \u001b[0;32mreturn\u001b[0m \u001b[0mself\u001b[0m\u001b[0;34m.\u001b[0m\u001b[0massign_parameters\u001b[0m\u001b[0;34m(\u001b[0m\u001b[0mvalues\u001b[0m\u001b[0;34m)\u001b[0m\u001b[0;34m\u001b[0m\u001b[0;34m\u001b[0m\u001b[0m\n\u001b[0m\u001b[1;32m   2554\u001b[0m \u001b[0;34m\u001b[0m\u001b[0m\n\u001b[1;32m   2555\u001b[0m     def _unroll_param_dict(\n",
      "\u001b[0;32m~/opt/anaconda3/envs/QML/lib/python3.7/site-packages/qiskit/circuit/quantumcircuit.py\u001b[0m in \u001b[0;36massign_parameters\u001b[0;34m(self, parameters, inplace)\u001b[0m\n\u001b[1;32m   2512\u001b[0m             \u001b[0;32mif\u001b[0m \u001b[0mlen\u001b[0m\u001b[0;34m(\u001b[0m\u001b[0mparameters\u001b[0m\u001b[0;34m)\u001b[0m \u001b[0;34m!=\u001b[0m \u001b[0mself\u001b[0m\u001b[0;34m.\u001b[0m\u001b[0mnum_parameters\u001b[0m\u001b[0;34m:\u001b[0m\u001b[0;34m\u001b[0m\u001b[0;34m\u001b[0m\u001b[0m\n\u001b[1;32m   2513\u001b[0m                 raise ValueError(\n\u001b[0;32m-> 2514\u001b[0;31m                     \u001b[0;34m\"Mismatching number of values and parameters. For partial binding \"\u001b[0m\u001b[0;34m\u001b[0m\u001b[0;34m\u001b[0m\u001b[0m\n\u001b[0m\u001b[1;32m   2515\u001b[0m                     \u001b[0;34m\"please pass a dictionary of {parameter: value} pairs.\"\u001b[0m\u001b[0;34m\u001b[0m\u001b[0;34m\u001b[0m\u001b[0m\n\u001b[1;32m   2516\u001b[0m                 )\n",
      "\u001b[0;31mValueError\u001b[0m: Mismatching number of values and parameters. For partial binding please pass a dictionary of {parameter: value} pairs."
     ]
    }
   ],
   "source": [
    "from qiskit.algorithms.optimizers import AQGD\n",
    "\n",
    "def fidelity_obj(x):\n",
    "    print(x)\n",
    "    U = Operator(u.bind_parameters(x))\n",
    "    output_states = [state.evolve(U) for state in input_states]\n",
    "        \n",
    "    fid = 0\n",
    "    for idx, state in enumerate(output_states):\n",
    "        #fid += state.data.conj() @ observables[idx].data @ state.data\n",
    "        fid += np.trace(observables[idx].data @ state.to_operator().data)\n",
    "    print(np.real(-fid/len(output_states)))\n",
    "    return np.real(-fid/len(output_states))\n",
    "\n",
    "initial_point = np.random.random(u.num_parameters)\n",
    "aqgd = AQGD(maxiter=300)\n",
    "result = aqgd.optimize(u.num_parameters, fidelity_obj, initial_point=initial_point)\n",
    "print(result)"
   ]
  }
 ],
 "metadata": {
  "kernelspec": {
   "display_name": "QML",
   "language": "python",
   "name": "qml"
  },
  "language_info": {
   "codemirror_mode": {
    "name": "ipython",
    "version": 3
   },
   "file_extension": ".py",
   "mimetype": "text/x-python",
   "name": "python",
   "nbconvert_exporter": "python",
   "pygments_lexer": "ipython3",
   "version": "3.7.7"
  }
 },
 "nbformat": 4,
 "nbformat_minor": 5
}
