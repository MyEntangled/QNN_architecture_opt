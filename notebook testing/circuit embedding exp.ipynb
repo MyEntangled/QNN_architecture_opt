{
 "cells": [
  {
   "cell_type": "code",
   "execution_count": 114,
   "id": "ac88133c",
   "metadata": {},
   "outputs": [],
   "source": [
    "import sys\n",
    "# insert at 1, 0 is the script path (or '' in REPL)\n",
    "sys.path.insert(1, '/Users/trongduong/Dropbox/URP project/Code/PQC_Composer')\n",
    "from utility.quantum_nn import QuantumNeuralNetwork\n",
    "from utility.data_encoding import FeatureMap\n",
    "from utility.ansatz_template import AnsatzTemplate\n",
    "\n",
    "import qiskit\n",
    "from qiskit import QuantumCircuit\n",
    "from qiskit.circuit import ParameterVector\n",
    "import qiskit.circuit.library.standard_gates\n",
    "\n",
    "import numpy as np"
   ]
  },
  {
   "cell_type": "code",
   "execution_count": 115,
   "id": "21572799",
   "metadata": {},
   "outputs": [],
   "source": [
    "feature_map = FeatureMap('PauliFeatureMap', feature_dim=4, reps=1)\n",
    "\n",
    "template = AnsatzTemplate()\n",
    "template.construct_simple_template(num_qubits=4, num_layers=1)\n",
    "\n",
    "model = QuantumNeuralNetwork(feature_map, template, platform='Qiskit')"
   ]
  },
  {
   "cell_type": "code",
   "execution_count": 118,
   "id": "cccc788a",
   "metadata": {
    "scrolled": true
   },
   "outputs": [
    {
     "name": "stdout",
     "output_type": "stream",
     "text": [
      "(<qiskit.circuit.library.standard_gates.rx.RXGate object at 0x7fb5080ce050>, [Qubit(QuantumRegister(4, 'q'), 0)], [])\n",
      "(<qiskit.circuit.library.standard_gates.ry.RYGate object at 0x7fb5080cea10>, [Qubit(QuantumRegister(4, 'q'), 0)], [])\n",
      "(<qiskit.circuit.library.standard_gates.rx.RXGate object at 0x7fb5080ce250>, [Qubit(QuantumRegister(4, 'q'), 1)], [])\n",
      "(<qiskit.circuit.library.standard_gates.ry.RYGate object at 0x7fb5080ce950>, [Qubit(QuantumRegister(4, 'q'), 1)], [])\n",
      "(<qiskit.circuit.library.standard_gates.x.CXGate object at 0x7fb5080ce5d0>, [Qubit(QuantumRegister(4, 'q'), 0), Qubit(QuantumRegister(4, 'q'), 1)], [])\n",
      "(<qiskit.circuit.library.standard_gates.rx.RXGate object at 0x7fb5080ce0d0>, [Qubit(QuantumRegister(4, 'q'), 0)], [])\n",
      "(<qiskit.circuit.library.standard_gates.ry.RYGate object at 0x7fb5080cee10>, [Qubit(QuantumRegister(4, 'q'), 0)], [])\n",
      "(<qiskit.circuit.library.standard_gates.rx.RXGate object at 0x7fb5080ce090>, [Qubit(QuantumRegister(4, 'q'), 2)], [])\n",
      "(<qiskit.circuit.library.standard_gates.ry.RYGate object at 0x7fb5080ce190>, [Qubit(QuantumRegister(4, 'q'), 2)], [])\n",
      "(<qiskit.circuit.library.standard_gates.x.CXGate object at 0x7fb5080ce2d0>, [Qubit(QuantumRegister(4, 'q'), 1), Qubit(QuantumRegister(4, 'q'), 2)], [])\n",
      "(<qiskit.circuit.library.standard_gates.rx.RXGate object at 0x7fb5080ce390>, [Qubit(QuantumRegister(4, 'q'), 1)], [])\n",
      "(<qiskit.circuit.library.standard_gates.ry.RYGate object at 0x7fb5080e3490>, [Qubit(QuantumRegister(4, 'q'), 1)], [])\n",
      "(<qiskit.circuit.library.standard_gates.rx.RXGate object at 0x7fb528e8d790>, [Qubit(QuantumRegister(4, 'q'), 3)], [])\n",
      "(<qiskit.circuit.library.standard_gates.ry.RYGate object at 0x7fb528e8d590>, [Qubit(QuantumRegister(4, 'q'), 3)], [])\n",
      "(<qiskit.circuit.library.standard_gates.x.CXGate object at 0x7fb528e8d290>, [Qubit(QuantumRegister(4, 'q'), 2), Qubit(QuantumRegister(4, 'q'), 3)], [])\n",
      "(<qiskit.circuit.library.standard_gates.rx.RXGate object at 0x7fb528e8d910>, [Qubit(QuantumRegister(4, 'q'), 2)], [])\n",
      "(<qiskit.circuit.library.standard_gates.ry.RYGate object at 0x7fb528e8d190>, [Qubit(QuantumRegister(4, 'q'), 2)], [])\n",
      "(<qiskit.circuit.library.standard_gates.rx.RXGate object at 0x7fb528e8d210>, [Qubit(QuantumRegister(4, 'q'), 3)], [])\n",
      "(<qiskit.circuit.library.standard_gates.ry.RYGate object at 0x7fb528e8dd10>, [Qubit(QuantumRegister(4, 'q'), 3)], [])\n"
     ]
    }
   ],
   "source": [
    "ansatz = model.PQC\n",
    "for time_idx, gate in enumerate(ansatz):\n",
    "    #print(gate[0].name, gate[1], gate[0].params)\n",
    "    #print([qubit.index for qubit in gate[1]])\n",
    "    print(gate)"
   ]
  },
  {
   "cell_type": "code",
   "execution_count": 103,
   "id": "ce6ae6cd",
   "metadata": {},
   "outputs": [
    {
     "name": "stdout",
     "output_type": "stream",
     "text": [
      "Help on Qubit in module qiskit.circuit.quantumregister object:\n",
      "\n",
      "class Qubit(qiskit.circuit.bit.Bit)\n",
      " |  Qubit(register=None, index=None)\n",
      " |  \n",
      " |  Implement a quantum bit.\n",
      " |  \n",
      " |  Method resolution order:\n",
      " |      Qubit\n",
      " |      qiskit.circuit.bit.Bit\n",
      " |      builtins.object\n",
      " |  \n",
      " |  Methods defined here:\n",
      " |  \n",
      " |  __init__(self, register=None, index=None)\n",
      " |      Creates a qubit.\n",
      " |      \n",
      " |      Args:\n",
      " |          register (QuantumRegister): Optional. A quantum register containing the bit.\n",
      " |          index (int): Optional. The index of the bit in its containing register.\n",
      " |      \n",
      " |      Raises:\n",
      " |          CircuitError: if the provided register is not a valid :class:`QuantumRegister`\n",
      " |  \n",
      " |  ----------------------------------------------------------------------\n",
      " |  Data descriptors defined here:\n",
      " |  \n",
      " |  __dict__\n",
      " |      dictionary for instance variables (if defined)\n",
      " |  \n",
      " |  __weakref__\n",
      " |      list of weak references to the object (if defined)\n",
      " |  \n",
      " |  ----------------------------------------------------------------------\n",
      " |  Data and other attributes defined here:\n",
      " |  \n",
      " |  __slotnames__ = ['_register', '_index', '_hash', '_repr']\n",
      " |  \n",
      " |  ----------------------------------------------------------------------\n",
      " |  Methods inherited from qiskit.circuit.bit.Bit:\n",
      " |  \n",
      " |  __eq__(self, other)\n",
      " |      Return self==value.\n",
      " |  \n",
      " |  __hash__(self)\n",
      " |      Return hash(self).\n",
      " |  \n",
      " |  __repr__(self)\n",
      " |      Return the official string representing the bit.\n",
      " |  \n",
      " |  ----------------------------------------------------------------------\n",
      " |  Data descriptors inherited from qiskit.circuit.bit.Bit:\n",
      " |  \n",
      " |  index\n",
      " |      Get bit's index.\n",
      " |  \n",
      " |  register\n",
      " |      Get bit's register.\n",
      "\n"
     ]
    }
   ],
   "source": [
    "g = gate[1][0]\n",
    "help(g)"
   ]
  },
  {
   "cell_type": "code",
   "execution_count": 119,
   "id": "84c18c0c",
   "metadata": {},
   "outputs": [],
   "source": [
    "UNITARY = {'cry':qiskit.circuit.library.CRYGate,\n",
    "          'cx':qiskit.circuit.library.CXGate,\n",
    "          'rx':qiskit.circuit.library.RXGate}"
   ]
  },
  {
   "cell_type": "code",
   "execution_count": 120,
   "id": "abc89df6",
   "metadata": {},
   "outputs": [],
   "source": [
    "qc = QuantumCircuit(3)\n",
    "theta = ParameterVector('θ',10)\n",
    "cry_gate = UNITARY['cry'](theta[0])"
   ]
  },
  {
   "cell_type": "code",
   "execution_count": 121,
   "id": "5fed9e47",
   "metadata": {},
   "outputs": [
    {
     "data": {
      "text/plain": [
       "<qiskit.circuit.instructionset.InstructionSet at 0x7fb5080e7b10>"
      ]
     },
     "execution_count": 121,
     "metadata": {},
     "output_type": "execute_result"
    }
   ],
   "source": [
    "qc.append(cry_gate, [0,1])"
   ]
  },
  {
   "cell_type": "code",
   "execution_count": 122,
   "id": "fdd0ddaf",
   "metadata": {},
   "outputs": [
    {
     "data": {
      "text/plain": [
       "<qiskit.circuit.instructionset.InstructionSet at 0x7fb50808b5d0>"
      ]
     },
     "execution_count": 122,
     "metadata": {},
     "output_type": "execute_result"
    }
   ],
   "source": [
    "cx_gate = UNITARY['cx']()\n",
    "rx_gate = UNITARY['rx'](theta[1])\n",
    "\n",
    "qc.append(cx_gate, [0,2])\n",
    "qc.append(rx_gate, [2])"
   ]
  },
  {
   "cell_type": "code",
   "execution_count": 123,
   "id": "6cf9c608",
   "metadata": {},
   "outputs": [
    {
     "data": {
      "text/html": [
       "<pre style=\"word-wrap: normal;white-space: pre;background: #fff0;line-height: 1.1;font-family: &quot;Courier New&quot;,Courier,monospace\">                                  \n",
       "q_0: ─────■────────■──────────────\n",
       "     ┌────┴─────┐  │              \n",
       "q_1: ┤ Ry(θ[0]) ├──┼──────────────\n",
       "     └──────────┘┌─┴─┐┌──────────┐\n",
       "q_2: ────────────┤ X ├┤ Rx(θ[1]) ├\n",
       "                 └───┘└──────────┘</pre>"
      ],
      "text/plain": [
       "                                  \n",
       "q_0: ─────■────────■──────────────\n",
       "     ┌────┴─────┐  │              \n",
       "q_1: ┤ Ry(θ[0]) ├──┼──────────────\n",
       "     └──────────┘┌─┴─┐┌──────────┐\n",
       "q_2: ────────────┤ X ├┤ Rx(θ[1]) ├\n",
       "                 └───┘└──────────┘"
      ]
     },
     "execution_count": 123,
     "metadata": {},
     "output_type": "execute_result"
    }
   ],
   "source": [
    "qc.draw()"
   ]
  }
 ],
 "metadata": {
  "kernelspec": {
   "display_name": "QML",
   "language": "python",
   "name": "qml"
  },
  "language_info": {
   "codemirror_mode": {
    "name": "ipython",
    "version": 3
   },
   "file_extension": ".py",
   "mimetype": "text/x-python",
   "name": "python",
   "nbconvert_exporter": "python",
   "pygments_lexer": "ipython3",
   "version": "3.7.10"
  }
 },
 "nbformat": 4,
 "nbformat_minor": 5
}
