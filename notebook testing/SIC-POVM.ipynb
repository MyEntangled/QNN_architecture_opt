{
 "cells": [
  {
   "cell_type": "code",
   "execution_count": 2,
   "id": "2c939362",
   "metadata": {},
   "outputs": [
    {
     "ename": "ModuleNotFoundError",
     "evalue": "No module named 'qiskit.ignis.verification.tomography.basis.circuits.tomographybasis'; 'qiskit.ignis.verification.tomography.basis.circuits' is not a package",
     "output_type": "error",
     "traceback": [
      "\u001b[0;31m---------------------------------------------------------------------------\u001b[0m",
      "\u001b[0;31mModuleNotFoundError\u001b[0m                       Traceback (most recent call last)",
      "\u001b[0;32m/var/folders/km/wpxhny5j6h7c_prrd3x7j1mc0000gn/T/ipykernel_28786/2896036690.py\u001b[0m in \u001b[0;36m<module>\u001b[0;34m\u001b[0m\n\u001b[1;32m     12\u001b[0m \u001b[0;32mfrom\u001b[0m \u001b[0mqiskit\u001b[0m\u001b[0;34m.\u001b[0m\u001b[0mcircuit\u001b[0m\u001b[0;34m.\u001b[0m\u001b[0mreset\u001b[0m \u001b[0;32mimport\u001b[0m \u001b[0mReset\u001b[0m\u001b[0;34m\u001b[0m\u001b[0;34m\u001b[0m\u001b[0m\n\u001b[1;32m     13\u001b[0m \u001b[0;34m\u001b[0m\u001b[0m\n\u001b[0;32m---> 14\u001b[0;31m \u001b[0;32mfrom\u001b[0m \u001b[0mqiskit\u001b[0m\u001b[0;34m.\u001b[0m\u001b[0mignis\u001b[0m\u001b[0;34m.\u001b[0m\u001b[0mverification\u001b[0m\u001b[0;34m.\u001b[0m\u001b[0mtomography\u001b[0m\u001b[0;34m.\u001b[0m\u001b[0mbasis\u001b[0m\u001b[0;34m.\u001b[0m\u001b[0mcircuits\u001b[0m\u001b[0;34m.\u001b[0m\u001b[0mtomographybasis\u001b[0m \u001b[0;32mimport\u001b[0m \u001b[0mTomographyBasis\u001b[0m\u001b[0;34m\u001b[0m\u001b[0;34m\u001b[0m\u001b[0m\n\u001b[0m\u001b[1;32m     15\u001b[0m \u001b[0;32mfrom\u001b[0m \u001b[0mqiskit\u001b[0m\u001b[0;34m.\u001b[0m\u001b[0mignis\u001b[0m\u001b[0;34m.\u001b[0m\u001b[0mverification\u001b[0m\u001b[0;34m.\u001b[0m\u001b[0mtomography\u001b[0m\u001b[0;34m.\u001b[0m\u001b[0mbasis\u001b[0m\u001b[0;34m.\u001b[0m\u001b[0mcircuits\u001b[0m\u001b[0;34m.\u001b[0m\u001b[0mpaulibasis\u001b[0m \u001b[0;32mimport\u001b[0m \u001b[0mPauliBasis\u001b[0m\u001b[0;34m\u001b[0m\u001b[0;34m\u001b[0m\u001b[0m\n\u001b[1;32m     16\u001b[0m \u001b[0;32mfrom\u001b[0m \u001b[0mqiskit\u001b[0m\u001b[0;34m.\u001b[0m\u001b[0mignis\u001b[0m\u001b[0;34m.\u001b[0m\u001b[0mverification\u001b[0m\u001b[0;34m.\u001b[0m\u001b[0mtomography\u001b[0m\u001b[0;34m.\u001b[0m\u001b[0mbasis\u001b[0m\u001b[0;34m.\u001b[0m\u001b[0mcircuits\u001b[0m\u001b[0;34m.\u001b[0m\u001b[0mgatesetbasis\u001b[0m \u001b[0;32mimport\u001b[0m \u001b[0mdefault_gateset_basis\u001b[0m\u001b[0;34m,\u001b[0m \u001b[0mGateSetBasis\u001b[0m\u001b[0;34m\u001b[0m\u001b[0;34m\u001b[0m\u001b[0m\n",
      "\u001b[0;31mModuleNotFoundError\u001b[0m: No module named 'qiskit.ignis.verification.tomography.basis.circuits.tomographybasis'; 'qiskit.ignis.verification.tomography.basis.circuits' is not a package"
     ]
    }
   ],
   "source": [
    "import logging\n",
    "from typing import List, Union, Tuple, Optional\n",
    "import itertools as it\n",
    "import re\n",
    "\n",
    "from qiskit import QuantumRegister\n",
    "from qiskit.circuit import Qubit\n",
    "from qiskit import ClassicalRegister\n",
    "from qiskit import QuantumCircuit\n",
    "from qiskit import QiskitError\n",
    "from qiskit.circuit.measure import Measure\n",
    "from qiskit.circuit.reset import Reset\n",
    "\n",
    "from qiskit.ignis.verification.tomography.basis.circuits.tomographybasis import TomographyBasis\n",
    "from qiskit.ignis.verification.tomography.basis.circuits.paulibasis import PauliBasis\n",
    "from qiskit.ignis.verification.tomography.basis.circuits.gatesetbasis import default_gateset_basis, GateSetBasis\n",
    "from qiskit.ignis.verification.tomography.basis.circuits.sicbasis import SICBasis"
   ]
  },
  {
   "cell_type": "code",
   "execution_count": 12,
   "id": "1fbfa5f5",
   "metadata": {},
   "outputs": [],
   "source": [
    "import qiskit.ignis.verification.tomography.basis.sicbasis as SICbasis"
   ]
  },
  {
   "cell_type": "code",
   "execution_count": 13,
   "id": "e57049a6",
   "metadata": {},
   "outputs": [
    {
     "data": {
      "text/plain": [
       "<module 'qiskit.ignis.verification.tomography.basis.sicbasis' from '/Users/trongduong/opt/anaconda3/envs/QML/lib/python3.7/site-packages/qiskit/ignis/verification/tomography/basis/sicbasis.py'>"
      ]
     },
     "execution_count": 13,
     "metadata": {},
     "output_type": "execute_result"
    }
   ],
   "source": [
    "SICbasis.sicpovm_preparation_circuit"
   ]
  },
  {
   "cell_type": "code",
   "execution_count": 11,
   "id": "9c53985b",
   "metadata": {},
   "outputs": [
    {
     "name": "stdout",
     "output_type": "stream",
     "text": [
      "Help on module qiskit.ignis.verification.tomography.basis.sicbasis in qiskit.ignis.verification.tomography.basis:\n",
      "\n",
      "NAME\n",
      "    qiskit.ignis.verification.tomography.basis.sicbasis - Symmetric informationally complete (SIC)-POVM tomography preparation basis.\n",
      "\n",
      "FUNCTIONS\n",
      "    sicpovm_preparation_circuit(op: str, qubit: qiskit.circuit.quantumregister.QuantumRegister) -> qiskit.circuit.quantumcircuit.QuantumCircuit\n",
      "        Return a SIC-POVM projector preparation circuit.\n",
      "        \n",
      "        This circuit assumes the qubit is initialized in the\n",
      "        :math:`Z_p` eigenstate :math:`[1, 0]`.\n",
      "        \n",
      "        Params:\n",
      "            op: SIC-POVM element label 'S0', 'S1', 'S2' or 'S3'.\n",
      "            qubit: qubit to be prepared.\n",
      "        \n",
      "        Returns:\n",
      "            The preparation circuit\n",
      "    \n",
      "    sicpovm_preparation_matrix(label: str) -> <built-in function array>\n",
      "        Return the matrix corresponding to a SIC-POVM preparation.\n",
      "        \n",
      "        Args:\n",
      "            label: single-qubit SIC-POVM element label.\n",
      "        \n",
      "        Returns:\n",
      "            The matrix for the SIC-POVM element.\n",
      "            Allowed inputs and corresponding returned matrices are:\n",
      "        \n",
      "                'S0' : :math:`\\left(\\begin{array}\n",
      "                {cc}1 & 0\\\\0 & 0\\end{array}\\right)`\n",
      "        \n",
      "                'S1' : :math:`\\frac{1}{3}\n",
      "                \\left(\\begin{array}{cc}1 & \\sqrt{2}\\\\\n",
      "                \\sqrt{2} & 2\\end{array}\\right)`\n",
      "        \n",
      "                'S2' : :math:`\\frac{1}{3}\n",
      "                \\left(\\begin{array}{cc}1 & \\sqrt{2}\\cdot e^{\\frac{2\\pi i}{3}}\\\\\n",
      "                \\sqrt{2}\\cdot e^{-\\frac{2\\pi i}{3}} & 2\\end{array}\\right)`\n",
      "        \n",
      "                'S3' : :math:`\\frac{1}{3}\n",
      "                \\left(\\begin{array}{cc}1 & \\sqrt{2}\\cdot e^{-\\frac{2\\pi i}{3}}\\\\\n",
      "                \\sqrt{2}\\cdot e^{\\frac{2\\pi i}{3}} & 2\\end{array}\\right)`\n",
      "\n",
      "DATA\n",
      "    SICBasis = <qiskit.ignis.verification.tomography.basis.tomographybasis...\n",
      "\n",
      "FILE\n",
      "    /Users/trongduong/opt/anaconda3/envs/QML/lib/python3.7/site-packages/qiskit/ignis/verification/tomography/basis/sicbasis.py\n",
      "\n",
      "\n"
     ]
    }
   ],
   "source": [
    "help(basis.sicbasis)"
   ]
  },
  {
   "cell_type": "code",
   "execution_count": null,
   "id": "faaa17b3",
   "metadata": {},
   "outputs": [],
   "source": []
  }
 ],
 "metadata": {
  "kernelspec": {
   "display_name": "QML",
   "language": "python",
   "name": "qml"
  },
  "language_info": {
   "codemirror_mode": {
    "name": "ipython",
    "version": 3
   },
   "file_extension": ".py",
   "mimetype": "text/x-python",
   "name": "python",
   "nbconvert_exporter": "python",
   "pygments_lexer": "ipython3",
   "version": "3.7.7"
  }
 },
 "nbformat": 4,
 "nbformat_minor": 5
}
