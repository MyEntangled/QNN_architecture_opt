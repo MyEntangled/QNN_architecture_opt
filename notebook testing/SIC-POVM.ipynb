{
 "cells": [
  {
   "cell_type": "code",
   "execution_count": 6,
   "id": "2c939362",
   "metadata": {},
   "outputs": [],
   "source": [
    "import logging\n",
    "from typing import List, Union, Tuple, Optional\n",
    "import itertools as it\n",
    "import re\n",
    "\n",
    "from qiskit import QuantumRegister\n",
    "from qiskit.circuit import Qubit\n",
    "from qiskit import ClassicalRegister\n",
    "from qiskit import QuantumCircuit\n",
    "from qiskit import QiskitError\n",
    "from qiskit.circuit.measure import Measure\n",
    "from qiskit.circuit.reset import Reset\n",
    "\n",
    "#from qiskit.ignis.verification.tomography.basis.circuits.tomographybasis import TomographyBasis\n",
    "#from qiskit.ignis.verification.tomography.basis.circuits.paulibasis import PauliBasis\n",
    "#from qiskit.ignis.verification.tomography.basis.circuits.gatesetbasis import default_gateset_basis, GateSetBasis\n",
    "#from qiskit.ignis.verification.tomography.basis.circuits.sicbasis import SICBasis"
   ]
  },
  {
   "cell_type": "code",
   "execution_count": 2,
   "id": "1fbfa5f5",
   "metadata": {},
   "outputs": [],
   "source": [
    "import qiskit.ignis.verification.tomography.basis.sicbasis as SICbasis"
   ]
  },
  {
   "cell_type": "code",
   "execution_count": 8,
   "id": "b344ec2e",
   "metadata": {},
   "outputs": [
    {
     "ename": "TypeError",
     "evalue": "sicpovm_preparation_circuit() missing 2 required positional arguments: 'op' and 'qubit'",
     "output_type": "error",
     "traceback": [
      "\u001b[0;31m---------------------------------------------------------------------------\u001b[0m",
      "\u001b[0;31mTypeError\u001b[0m                                 Traceback (most recent call last)",
      "\u001b[0;32m/var/folders/k7/xbg0txh97kb_tz_4gnqjl7cm0000gn/T/ipykernel_64049/3524721890.py\u001b[0m in \u001b[0;36m<module>\u001b[0;34m\u001b[0m\n\u001b[0;32m----> 1\u001b[0;31m \u001b[0mSICbasis\u001b[0m\u001b[0;34m.\u001b[0m\u001b[0msicpovm_preparation_circuit\u001b[0m\u001b[0;34m(\u001b[0m\u001b[0;34m)\u001b[0m\u001b[0;34m\u001b[0m\u001b[0;34m\u001b[0m\u001b[0m\n\u001b[0m",
      "\u001b[0;31mTypeError\u001b[0m: sicpovm_preparation_circuit() missing 2 required positional arguments: 'op' and 'qubit'"
     ]
    }
   ],
   "source": [
    "SICbasis.sicpovm_preparation_circuit()"
   ]
  },
  {
   "cell_type": "code",
   "execution_count": 7,
   "id": "2338f1d2",
   "metadata": {},
   "outputs": [
    {
     "name": "stdout",
     "output_type": "stream",
     "text": [
      "Help on module qiskit.ignis.verification.tomography.basis.sicbasis in qiskit.ignis.verification.tomography.basis:\n",
      "\n",
      "NAME\n",
      "    qiskit.ignis.verification.tomography.basis.sicbasis - Symmetric informationally complete (SIC)-POVM tomography preparation basis.\n",
      "\n",
      "FUNCTIONS\n",
      "    sicpovm_preparation_circuit(op: str, qubit: qiskit.circuit.quantumregister.QuantumRegister) -> qiskit.circuit.quantumcircuit.QuantumCircuit\n",
      "        Return a SIC-POVM projector preparation circuit.\n",
      "        \n",
      "        This circuit assumes the qubit is initialized in the\n",
      "        :math:`Z_p` eigenstate :math:`[1, 0]`.\n",
      "        \n",
      "        Params:\n",
      "            op: SIC-POVM element label 'S0', 'S1', 'S2' or 'S3'.\n",
      "            qubit: qubit to be prepared.\n",
      "        \n",
      "        Returns:\n",
      "            The preparation circuit\n",
      "    \n",
      "    sicpovm_preparation_matrix(label: str) -> <built-in function array>\n",
      "        Return the matrix corresponding to a SIC-POVM preparation.\n",
      "        \n",
      "        Args:\n",
      "            label: single-qubit SIC-POVM element label.\n",
      "        \n",
      "        Returns:\n",
      "            The matrix for the SIC-POVM element.\n",
      "            Allowed inputs and corresponding returned matrices are:\n",
      "        \n",
      "                'S0' : :math:`\\left(\\begin{array}\n",
      "                {cc}1 & 0\\\\0 & 0\\end{array}\\right)`\n",
      "        \n",
      "                'S1' : :math:`\\frac{1}{3}\n",
      "                \\left(\\begin{array}{cc}1 & \\sqrt{2}\\\\\n",
      "                \\sqrt{2} & 2\\end{array}\\right)`\n",
      "        \n",
      "                'S2' : :math:`\\frac{1}{3}\n",
      "                \\left(\\begin{array}{cc}1 & \\sqrt{2}\\cdot e^{\\frac{2\\pi i}{3}}\\\\\n",
      "                \\sqrt{2}\\cdot e^{-\\frac{2\\pi i}{3}} & 2\\end{array}\\right)`\n",
      "        \n",
      "                'S3' : :math:`\\frac{1}{3}\n",
      "                \\left(\\begin{array}{cc}1 & \\sqrt{2}\\cdot e^{-\\frac{2\\pi i}{3}}\\\\\n",
      "                \\sqrt{2}\\cdot e^{\\frac{2\\pi i}{3}} & 2\\end{array}\\right)`\n",
      "\n",
      "DATA\n",
      "    SICBasis = <qiskit.ignis.verification.tomography.basis.tomographybasis...\n",
      "\n",
      "FILE\n",
      "    /Users/erio/opt/anaconda3/envs/QML/lib/python3.8/site-packages/qiskit/ignis/verification/tomography/basis/sicbasis.py\n",
      "\n",
      "\n"
     ]
    }
   ],
   "source": [
    "help(SICbasis)"
   ]
  },
  {
   "cell_type": "code",
   "execution_count": 13,
   "id": "e57049a6",
   "metadata": {},
   "outputs": [
    {
     "data": {
      "text/plain": [
       "<module 'qiskit.ignis.verification.tomography.basis.sicbasis' from '/Users/trongduong/opt/anaconda3/envs/QML/lib/python3.7/site-packages/qiskit/ignis/verification/tomography/basis/sicbasis.py'>"
      ]
     },
     "execution_count": 13,
     "metadata": {},
     "output_type": "execute_result"
    }
   ],
   "source": [
    "SICbasis.sicpovm_preparation_circuit"
   ]
  },
  {
   "cell_type": "code",
   "execution_count": 11,
   "id": "9c53985b",
   "metadata": {},
   "outputs": [
    {
     "name": "stdout",
     "output_type": "stream",
     "text": [
      "Help on module qiskit.ignis.verification.tomography.basis.sicbasis in qiskit.ignis.verification.tomography.basis:\n",
      "\n",
      "NAME\n",
      "    qiskit.ignis.verification.tomography.basis.sicbasis - Symmetric informationally complete (SIC)-POVM tomography preparation basis.\n",
      "\n",
      "FUNCTIONS\n",
      "    sicpovm_preparation_circuit(op: str, qubit: qiskit.circuit.quantumregister.QuantumRegister) -> qiskit.circuit.quantumcircuit.QuantumCircuit\n",
      "        Return a SIC-POVM projector preparation circuit.\n",
      "        \n",
      "        This circuit assumes the qubit is initialized in the\n",
      "        :math:`Z_p` eigenstate :math:`[1, 0]`.\n",
      "        \n",
      "        Params:\n",
      "            op: SIC-POVM element label 'S0', 'S1', 'S2' or 'S3'.\n",
      "            qubit: qubit to be prepared.\n",
      "        \n",
      "        Returns:\n",
      "            The preparation circuit\n",
      "    \n",
      "    sicpovm_preparation_matrix(label: str) -> <built-in function array>\n",
      "        Return the matrix corresponding to a SIC-POVM preparation.\n",
      "        \n",
      "        Args:\n",
      "            label: single-qubit SIC-POVM element label.\n",
      "        \n",
      "        Returns:\n",
      "            The matrix for the SIC-POVM element.\n",
      "            Allowed inputs and corresponding returned matrices are:\n",
      "        \n",
      "                'S0' : :math:`\\left(\\begin{array}\n",
      "                {cc}1 & 0\\\\0 & 0\\end{array}\\right)`\n",
      "        \n",
      "                'S1' : :math:`\\frac{1}{3}\n",
      "                \\left(\\begin{array}{cc}1 & \\sqrt{2}\\\\\n",
      "                \\sqrt{2} & 2\\end{array}\\right)`\n",
      "        \n",
      "                'S2' : :math:`\\frac{1}{3}\n",
      "                \\left(\\begin{array}{cc}1 & \\sqrt{2}\\cdot e^{\\frac{2\\pi i}{3}}\\\\\n",
      "                \\sqrt{2}\\cdot e^{-\\frac{2\\pi i}{3}} & 2\\end{array}\\right)`\n",
      "        \n",
      "                'S3' : :math:`\\frac{1}{3}\n",
      "                \\left(\\begin{array}{cc}1 & \\sqrt{2}\\cdot e^{-\\frac{2\\pi i}{3}}\\\\\n",
      "                \\sqrt{2}\\cdot e^{\\frac{2\\pi i}{3}} & 2\\end{array}\\right)`\n",
      "\n",
      "DATA\n",
      "    SICBasis = <qiskit.ignis.verification.tomography.basis.tomographybasis...\n",
      "\n",
      "FILE\n",
      "    /Users/trongduong/opt/anaconda3/envs/QML/lib/python3.7/site-packages/qiskit/ignis/verification/tomography/basis/sicbasis.py\n",
      "\n",
      "\n"
     ]
    }
   ],
   "source": [
    "help(basis.sicbasis)"
   ]
  },
  {
   "cell_type": "code",
   "execution_count": null,
   "id": "faaa17b3",
   "metadata": {},
   "outputs": [],
   "source": []
  }
 ],
 "metadata": {
  "kernelspec": {
   "display_name": "QML",
   "language": "python",
   "name": "qml"
  },
  "language_info": {
   "codemirror_mode": {
    "name": "ipython",
    "version": 3
   },
   "file_extension": ".py",
   "mimetype": "text/x-python",
   "name": "python",
   "nbconvert_exporter": "python",
   "pygments_lexer": "ipython3",
   "version": "3.8.2"
  }
 },
 "nbformat": 4,
 "nbformat_minor": 5
}
