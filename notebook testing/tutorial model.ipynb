{
 "cells": [
  {
   "cell_type": "code",
   "execution_count": 1,
   "id": "d92728af",
   "metadata": {},
   "outputs": [],
   "source": [
    "import math\n",
    "import torch\n",
    "\n",
    "# use a GPU if available\n",
    "device = torch.device(\"cuda\" if torch.cuda.is_available() else \"cpu\")\n",
    "dtype = torch.float"
   ]
  },
  {
   "cell_type": "code",
   "execution_count": 2,
   "id": "73bdf47d",
   "metadata": {},
   "outputs": [],
   "source": [
    "# use regular spaced points on the interval [0, 1]\n",
    "train_X = torch.linspace(0, 1, 15, dtype=dtype, device=device)\n",
    "# training data needs to be explicitly multi-dimensional\n",
    "train_X = train_X.unsqueeze(1)\n",
    "\n",
    "# sample observed values and add some synthetic noise\n",
    "train_Y = torch.sin(train_X * (2 * math.pi)) + 0.15 * torch.randn_like(train_X)"
   ]
  },
  {
   "cell_type": "code",
   "execution_count": 3,
   "id": "9f25b07d",
   "metadata": {},
   "outputs": [],
   "source": [
    "from botorch.models import SingleTaskGP\n",
    "from gpytorch.constraints import GreaterThan\n",
    "\n",
    "\n",
    "model = SingleTaskGP(train_X=train_X, train_Y=train_Y)\n",
    "model.likelihood.noise_covar.register_constraint(\"raw_noise\", GreaterThan(1e-5))"
   ]
  },
  {
   "cell_type": "code",
   "execution_count": 4,
   "id": "7294d18d",
   "metadata": {},
   "outputs": [],
   "source": [
    "from gpytorch.mlls import ExactMarginalLogLikelihood\n",
    "\n",
    "mll = ExactMarginalLogLikelihood(likelihood=model.likelihood, model=model)\n",
    "# set mll and all submodules to the specified dtype and device\n",
    "mll = mll.to(train_X)"
   ]
  },
  {
   "cell_type": "code",
   "execution_count": 5,
   "id": "2a15cc0c",
   "metadata": {},
   "outputs": [],
   "source": [
    "from torch.optim import SGD\n",
    "\n",
    "optimizer = SGD([{'params': model.parameters()}], lr=0.1)"
   ]
  },
  {
   "cell_type": "code",
   "execution_count": 6,
   "id": "8922c005",
   "metadata": {},
   "outputs": [
    {
     "name": "stdout",
     "output_type": "stream",
     "text": [
      "Epoch  10/150 - Loss: 1.935 lengthscale: 0.647 noise: 1.996\n",
      "Epoch  20/150 - Loss: 1.895 lengthscale: 0.603 noise: 1.848\n",
      "Epoch  30/150 - Loss: 1.855 lengthscale: 0.566 noise: 1.698\n",
      "Epoch  40/150 - Loss: 1.813 lengthscale: 0.534 noise: 1.546\n",
      "Epoch  50/150 - Loss: 1.768 lengthscale: 0.507 noise: 1.393\n",
      "Epoch  60/150 - Loss: 1.721 lengthscale: 0.484 noise: 1.241\n",
      "Epoch  70/150 - Loss: 1.670 lengthscale: 0.463 noise: 1.092\n",
      "Epoch  80/150 - Loss: 1.616 lengthscale: 0.445 noise: 0.946\n",
      "Epoch  90/150 - Loss: 1.557 lengthscale: 0.428 noise: 0.808\n",
      "Epoch 100/150 - Loss: 1.494 lengthscale: 0.413 noise: 0.679\n",
      "Epoch 110/150 - Loss: 1.427 lengthscale: 0.399 noise: 0.562\n",
      "Epoch 120/150 - Loss: 1.356 lengthscale: 0.385 noise: 0.457\n",
      "Epoch 130/150 - Loss: 1.281 lengthscale: 0.372 noise: 0.367\n",
      "Epoch 140/150 - Loss: 1.204 lengthscale: 0.361 noise: 0.290\n",
      "Epoch 150/150 - Loss: 1.127 lengthscale: 0.352 noise: 0.227\n"
     ]
    }
   ],
   "source": [
    "NUM_EPOCHS = 150\n",
    "\n",
    "model.train()\n",
    "\n",
    "for epoch in range(NUM_EPOCHS):\n",
    "    # clear gradients\n",
    "    optimizer.zero_grad()\n",
    "    # forward pass through the model to obtain the output MultivariateNormal\n",
    "    output = model(train_X)\n",
    "    # Compute negative marginal log likelihood\n",
    "    loss = - mll(output, model.train_targets)\n",
    "    # back prop gradients\n",
    "    loss.backward()\n",
    "    # print every 10 iterations\n",
    "    if (epoch + 1) % 10 == 0:\n",
    "        print(\n",
    "            f\"Epoch {epoch+1:>3}/{NUM_EPOCHS} - Loss: {loss.item():>4.3f} \"\n",
    "            f\"lengthscale: {model.covar_module.base_kernel.lengthscale.item():>4.3f} \" \n",
    "            f\"noise: {model.likelihood.noise.item():>4.3f}\" \n",
    "         )\n",
    "    optimizer.step()"
   ]
  },
  {
   "cell_type": "code",
   "execution_count": null,
   "id": "de620751",
   "metadata": {},
   "outputs": [],
   "source": []
  },
  {
   "cell_type": "code",
   "execution_count": null,
   "id": "3fb251d0",
   "metadata": {},
   "outputs": [],
   "source": []
  }
 ],
 "metadata": {
  "kernelspec": {
   "display_name": "QML",
   "language": "python",
   "name": "qml"
  },
  "language_info": {
   "codemirror_mode": {
    "name": "ipython",
    "version": 3
   },
   "file_extension": ".py",
   "mimetype": "text/x-python",
   "name": "python",
   "nbconvert_exporter": "python",
   "pygments_lexer": "ipython3",
   "version": "3.7.7"
  }
 },
 "nbformat": 4,
 "nbformat_minor": 5
}
