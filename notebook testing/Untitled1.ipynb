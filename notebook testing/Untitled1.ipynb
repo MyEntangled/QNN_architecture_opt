{
 "cells": [
  {
   "cell_type": "code",
   "execution_count": 1,
   "id": "6338ef80",
   "metadata": {},
   "outputs": [],
   "source": [
    "import numpy as np\n",
    "import qiskit"
   ]
  },
  {
   "cell_type": "code",
   "execution_count": 2,
   "id": "246f2e22",
   "metadata": {},
   "outputs": [
    {
     "data": {
      "text/plain": [
       "'0.17.4'"
      ]
     },
     "execution_count": 2,
     "metadata": {},
     "output_type": "execute_result"
    }
   ],
   "source": [
    "qiskit.__version__"
   ]
  },
  {
   "cell_type": "code",
   "execution_count": 11,
   "id": "168f0a18",
   "metadata": {},
   "outputs": [],
   "source": [
    "fishers = np.random.uniform(size=(200,16,16))"
   ]
  },
  {
   "cell_type": "code",
   "execution_count": 12,
   "id": "5488c9d4",
   "metadata": {},
   "outputs": [
    {
     "data": {
      "text/plain": [
       "(200, 16, 16)"
      ]
     },
     "execution_count": 12,
     "metadata": {},
     "output_type": "execute_result"
    }
   ],
   "source": [
    "fishers.shape"
   ]
  },
  {
   "cell_type": "code",
   "execution_count": 15,
   "id": "af82620f",
   "metadata": {},
   "outputs": [
    {
     "data": {
      "text/plain": [
       "7.943329089183082"
      ]
     },
     "execution_count": 15,
     "metadata": {},
     "output_type": "execute_result"
    }
   ],
   "source": [
    "np.trace(np.average(fishers, axis=0))"
   ]
  },
  {
   "cell_type": "code",
   "execution_count": null,
   "id": "87cd437b",
   "metadata": {},
   "outputs": [],
   "source": []
  },
  {
   "cell_type": "code",
   "execution_count": 17,
   "id": "5fc7203e",
   "metadata": {},
   "outputs": [
    {
     "data": {
      "text/plain": [
       "7.943329089183083"
      ]
     },
     "execution_count": 17,
     "metadata": {},
     "output_type": "execute_result"
    }
   ],
   "source": [
    "s_fishers = np.reshape(fishers,(20,10,16,16))\n",
    "a_fisher = np.average(s_fishers, axis=1)\n",
    "#recov_fishers = np.reshape(a_fisher, ())\n",
    "np.trace(np.average(a_fisher, axis=0))"
   ]
  },
  {
   "cell_type": "code",
   "execution_count": 19,
   "id": "0c750117",
   "metadata": {},
   "outputs": [
    {
     "data": {
      "text/plain": [
       "(20, 16, 16)"
      ]
     },
     "execution_count": 19,
     "metadata": {},
     "output_type": "execute_result"
    }
   ],
   "source": [
    "a_fisher.shape"
   ]
  }
 ],
 "metadata": {
  "kernelspec": {
   "display_name": "QML",
   "language": "python",
   "name": "qml"
  },
  "language_info": {
   "codemirror_mode": {
    "name": "ipython",
    "version": 3
   },
   "file_extension": ".py",
   "mimetype": "text/x-python",
   "name": "python",
   "nbconvert_exporter": "python",
   "pygments_lexer": "ipython3",
   "version": "3.7.10"
  }
 },
 "nbformat": 4,
 "nbformat_minor": 5
}
