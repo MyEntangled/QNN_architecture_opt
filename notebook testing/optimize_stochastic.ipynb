{
 "cells": [
  {
   "cell_type": "markdown",
   "metadata": {},
   "source": [
    "## Optimize acquisition functions using torch.optim\n",
    "\n",
    "In this tutorial, we show how to use PyTorch's `optim` module for optimizing BoTorch MC acquisition functions. This is useful if the acquisition function is stochastic in nature (caused by re-sampling the base samples when using the reparameterization trick, or if the model posterior itself is stochastic).\n",
    "\n",
    "*Note:* A pre-packaged, more user-friendly version of the optimization loop we will develop below is contained in the `gen_candidates_torch` function in the `botorch.gen` module. This tutorial should be quite useful if you would like to implement custom optimizers beyond what is contained in `gen_candidates_torch`.\n",
    "\n",
    "As discussed in the [CMA-ES tutorial](./optimize_with_cmaes), for deterministic acquisition functions BoTorch uses quasi-second order methods (such as L-BFGS-B or SLSQP) by default, which provide superior convergence speed in this situation. "
   ]
  },
  {
   "cell_type": "markdown",
   "metadata": {},
   "source": [
    "### Set up a toy model\n",
    "\n",
    "We'll fit a `SingleTaskGP` model on noisy observations of the function $f(x) = 1 - \\|x\\|_2$ in `d=5` dimensions on the hypercube $[-1, 1]^d$."
   ]
  },
  {
   "cell_type": "code",
   "execution_count": 1,
   "metadata": {},
   "outputs": [],
   "source": [
    "import torch\n",
    "\n",
    "from botorch.fit import fit_gpytorch_model\n",
    "from botorch.models import SingleTaskGP\n",
    "from gpytorch.mlls import ExactMarginalLogLikelihood\n",
    "\n",
    "from botorch.test_functions import Hartmann\n",
    "neg_hartmann6 = Hartmann(dim=6,negate=True)\n",
    "\n",
    "import gpytorch"
   ]
  },
  {
   "cell_type": "code",
   "execution_count": 47,
   "metadata": {},
   "outputs": [],
   "source": [
    "class FirstSincKernel(gpytorch.kernels.Kernel):\n",
    "    has_lengthscale = False\n",
    "\n",
    "    # this is the kernel function\n",
    "    def forward(self, x1, x2, **params):\n",
    "        \n",
    "        # apply lengthscale\n",
    "        #x1 = x1.div(self.lengthscale)\n",
    "        #x2 = x2.div(self.lengthscale)\n",
    "        \n",
    "        # calculate the distance between inputs\n",
    "        diff = self.covar_dist(x1, x2, **params)\n",
    "        \n",
    "        K = torch.exp(-diff)\n",
    "        \n",
    "        #print('x1: ', x1)\n",
    "        #print('x2: ', x2)\n",
    "        #print(x1.shape, x2.shape, K.shape, type(K))\n",
    "        #print('kernel: ', K)\n",
    "        return K"
   ]
  },
  {
   "cell_type": "code",
   "execution_count": 16,
   "metadata": {},
   "outputs": [],
   "source": [
    "# covar_module = FirstSincKernel()\n",
    "\n",
    "# model = SingleTaskGP(train_x, train_obj, covar_module=covar_module).to(train_x)\n",
    "\n",
    "# mll = ExactMarginalLogLikelihood(model.likelihood, model)"
   ]
  },
  {
   "cell_type": "code",
   "execution_count": 13,
   "metadata": {},
   "outputs": [],
   "source": [
    "from gpytorch.kernels import ScaleKernel, MaternKernel\n",
    "from gpytorch.priors.torch_priors import GammaPrior\n",
    "\n",
    "RBF_covar = gpytorch.kernels.ScaleKernel(gpytorch.kernels.RBFKernel())\n",
    "\n",
    "matern_covar = ScaleKernel(\n",
    "                MaternKernel(\n",
    "                    nu=2.5,\n",
    "                    ard_num_dims=6,\n",
    "                    lengthscale_prior=GammaPrior(3.0, 6.0),\n",
    "                ),\n",
    "                outputscale_prior=GammaPrior(2.0, 0.15),\n",
    "            )"
   ]
  },
  {
   "cell_type": "code",
   "execution_count": 48,
   "metadata": {},
   "outputs": [
    {
     "name": "stdout",
     "output_type": "stream",
     "text": [
      "before\n",
      "likelihood.noise_covar.raw_noise Parameter containing:\n",
      "tensor([2.0000], requires_grad=True)\n",
      "mean_module.constant Parameter containing:\n",
      "tensor([0.], requires_grad=True)\n",
      "tensor([[1.0000, 0.1031, 0.1072,  ..., 0.2570, 0.2423, 0.1153],\n",
      "        [0.1031, 1.0000, 0.1140,  ..., 0.2080, 0.1023, 0.0905],\n",
      "        [0.1072, 0.1140, 1.0000,  ..., 0.1716, 0.0506, 0.1408],\n",
      "        ...,\n",
      "        [0.2570, 0.2080, 0.1716,  ..., 1.0000, 0.2136, 0.2418],\n",
      "        [0.2423, 0.1023, 0.0506,  ..., 0.2136, 1.0000, 0.1081],\n",
      "        [0.1153, 0.0905, 0.1408,  ..., 0.2418, 0.1081, 1.0000]])\n",
      "after\n",
      "likelihood.noise_covar.raw_noise Parameter containing:\n",
      "tensor([0.0028], requires_grad=True)\n",
      "mean_module.constant Parameter containing:\n",
      "tensor([0.0319], requires_grad=True)\n",
      "tensor([[1.0000, 0.1031, 0.1072,  ..., 0.2570, 0.2423, 0.1153],\n",
      "        [0.1031, 1.0000, 0.1140,  ..., 0.2080, 0.1023, 0.0905],\n",
      "        [0.1072, 0.1140, 1.0000,  ..., 0.1716, 0.0506, 0.1408],\n",
      "        ...,\n",
      "        [0.2570, 0.2080, 0.1716,  ..., 1.0000, 0.2136, 0.2418],\n",
      "        [0.2423, 0.1023, 0.0506,  ..., 0.2136, 1.0000, 0.1081],\n",
      "        [0.1153, 0.0905, 0.1408,  ..., 0.2418, 0.1081, 1.0000]])\n"
     ]
    }
   ],
   "source": [
    "d = 6\n",
    "\n",
    "bounds = torch.stack([-torch.ones(d), torch.ones(d)])\n",
    "\n",
    "train_X = bounds[0] + (bounds[1] - bounds[0]) * torch.rand(50, d)\n",
    "train_Y = neg_hartmann6(train_X).unsqueeze(-1)\n",
    "\n",
    "model = SingleTaskGP(train_X, train_Y, covar_module=FirstSincKernel())\n",
    "\n",
    "mll = ExactMarginalLogLikelihood(model.likelihood, model)\n",
    "\n",
    "print('before')\n",
    "for name, param in model.named_parameters():\n",
    "    print(name, param)\n",
    "    \n",
    "print(model.covar_module(train_X).evaluate())\n",
    "fit_gpytorch_model(mll);\n",
    "\n",
    "print('after')\n",
    "for name, param in model.named_parameters():\n",
    "    print(name, param)\n",
    "print(model.covar_module(train_X).evaluate())"
   ]
  },
  {
   "cell_type": "code",
   "execution_count": null,
   "metadata": {},
   "outputs": [],
   "source": []
  },
  {
   "cell_type": "markdown",
   "metadata": {},
   "source": [
    "### Define acquisition function\n",
    "\n",
    "We'll use `qExpectedImprovement` with a custom sampler that uses a small number of MC samples and re-samples upon each evaluation of the function. This results in a stochastic acquisition function that one should not attempt to optimize with the quasi-second order methods that are used by default in BoTorch's `optimize_acqf` function."
   ]
  },
  {
   "cell_type": "code",
   "execution_count": null,
   "metadata": {},
   "outputs": [],
   "source": [
    "from botorch.acquisition import qExpectedImprovement\n",
    "from botorch.sampling import IIDNormalSampler\n",
    "\n",
    "sampler = IIDNormalSampler(num_samples=100, resample=True)\n",
    "qEI = qExpectedImprovement(model, best_f=train_Y.max(), sampler=sampler)"
   ]
  },
  {
   "cell_type": "markdown",
   "metadata": {},
   "source": [
    "### Optimizing the acquisition function\n",
    "\n",
    "We will perform optimization over `N=5` random initial `q`-batches with `q=2` in parallel. We use `N` random restarts because the acquisition function is non-convex and as a result we may get stuck in local minima."
   ]
  },
  {
   "cell_type": "code",
   "execution_count": null,
   "metadata": {},
   "outputs": [],
   "source": [
    "N = 5\n",
    "q = 2"
   ]
  },
  {
   "cell_type": "markdown",
   "metadata": {},
   "source": [
    "#### Choosing initial conditions via a heuristic\n",
    "\n",
    "Using random initial conditions in conjunction with gradient-based optimizers can be problematic because qEI values and their corresponding gradients are often zero in large parts of the feature space. To mitigate this issue, BoTorch provides a heuristic for generating promising initial conditions (this dirty and not-so-little secret of Bayesian Optimization is actually very important for overall closed-loop performance).\n",
    "\n",
    "Given a set of `q`-batches $X'$ and associated acquisiton function values $Y'$, the `initialize_q_batch_nonneg` samples promising initial conditions $X$ (without replacement) from the multinomial distribution\n",
    "\n",
    "$$ \\mathbb{P}(X = X'_i) \\sim \\exp (\\eta \\tilde{Y}_i), \\qquad \\text{where} \\;\\; \\tilde{Y}_i = \\frac{Y'_i - \\mu(Y)}{\\sigma(Y)} \\;\\; \\text{if} \\;\\; Y'_i >0 $$\n",
    "\n",
    "and $\\mathbb{P}(X = X'_j) = 0$ for all $j$ such that $Y'_j = 0$. \n",
    "\n",
    "Fortunately, thanks to the high degree of parallelism in BoTorch, evaluating the acquisition function at a large number of randomly chosen points is quite cheap."
   ]
  },
  {
   "cell_type": "code",
   "execution_count": null,
   "metadata": {},
   "outputs": [],
   "source": [
    "from botorch.optim.initializers import initialize_q_batch_nonneg\n",
    "\n",
    "# generate a large number of random q-batches\n",
    "Xraw = bounds[0] + (bounds[1] - bounds[0]) * torch.rand(100 * N, q, d)\n",
    "Yraw = qEI(Xraw)  # evaluate the acquisition function on these q-batches\n",
    "\n",
    "# apply the heuristic for sampling promising initial conditions\n",
    "X = initialize_q_batch_nonneg(Xraw, Yraw, N)\n",
    "\n",
    "# we'll want gradients for the input\n",
    "X.requires_grad_(True);"
   ]
  },
  {
   "cell_type": "markdown",
   "metadata": {},
   "source": [
    "#### Optimizing the acquisition function\n",
    "\n",
    "If you have used PyTorch, the basic optimization loop should be quite familiar. However, it is important to note that there is a **key difference** here compared to training ML models: When training ML models, one typically computes the gradient of an empirical loss function w.r.t. the model's parameters, while here we take the gradient of the acquisition function w.r.t. to the candidate set.\n",
    "\n",
    "Thus, when setting the optimizer from `torch.optim`, we **do not** add the acquisition function's parameters as parameters to optimize (that would be quite bad!).\n",
    "\n",
    "In this example, we use a vanilla `Adam` optimizer with fixed learning rate for a fixed number of iterations in order to keep things simple. But you can get as fancy as you want with learning rate scheduling, early termination, etc.\n",
    "\n",
    "A couple of things to note:\n",
    "1. Evaluating the acquisition function on the `N x q x d`-dim inputs means evaluating `N` `q`-batches in `t`-batch mode. The result of this is an `N`-dim tensor of acquisition function values, evaluated independently. To compute the gradient of the full input `X` via back-propagation, we can for convenience just compute the gradient of the sum of the losses. \n",
    "2. `torch.optim` does not have good built in support for constraints (general constrained stochastic optimization is hard and still an open research area). Here we do something simple and project the value obtained after taking the gradient step to the feasible set - that is, we perform \"projected stochastic gradient descent\". Since the feasible set here is a hyperrectangle, this can be done by simple clamping. Another approach would be to transform the feasible interval for each dimension to the real line, e.g. by using a sigmoid function, and then optimizing in the unbounded transformed space. "
   ]
  },
  {
   "cell_type": "code",
   "execution_count": null,
   "metadata": {},
   "outputs": [],
   "source": [
    "# set up the optimizer, make sure to only pass in the candidate set here\n",
    "optimizer = torch.optim.Adam([X], lr=0.01)\n",
    "X_traj = []  # we'll store the results\n",
    "\n",
    "# run a basic optimization loop\n",
    "for i in range(75):\n",
    "    optimizer.zero_grad()\n",
    "    # this performs batch evaluation, so this is an N-dim tensor\n",
    "    losses = - qEI(X)  # torch.optim minimizes\n",
    "    loss = losses.sum()\n",
    "    \n",
    "    loss.backward()  # perform backward pass\n",
    "    optimizer.step()  # take a step\n",
    "    \n",
    "    # clamp values to the feasible set\n",
    "    for j, (lb, ub) in enumerate(zip(*bounds)):\n",
    "        X.data[..., j].clamp_(lb, ub) # need to do this on the data not X itself\n",
    "    \n",
    "    # store the optimization trajecatory\n",
    "    X_traj.append(X.detach().clone())\n",
    "    \n",
    "    if (i + 1) % 15 == 0:\n",
    "        print(f\"Iteration {i+1:>3}/75 - Loss: {loss.item():>4.3f}\")\n",
    "    \n",
    "    # use your favorite convergence criterion here..."
   ]
  },
  {
   "cell_type": "code",
   "execution_count": null,
   "metadata": {},
   "outputs": [],
   "source": []
  }
 ],
 "metadata": {
  "kernelspec": {
   "display_name": "QML",
   "language": "python",
   "name": "qml"
  },
  "language_info": {
   "codemirror_mode": {
    "name": "ipython",
    "version": 3
   },
   "file_extension": ".py",
   "mimetype": "text/x-python",
   "name": "python",
   "nbconvert_exporter": "python",
   "pygments_lexer": "ipython3",
   "version": "3.7.7"
  }
 },
 "nbformat": 4,
 "nbformat_minor": 2
}
