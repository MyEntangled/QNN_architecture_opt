{
 "cells": [
  {
   "cell_type": "code",
   "execution_count": 77,
   "id": "0eaba7b9",
   "metadata": {},
   "outputs": [],
   "source": [
    "import pennylane as qml\n",
    "\n",
    "dev = qml.device(\"qiskit.aer\", wires=1)\n",
    "\n",
    "@qml.qnode(dev)\n",
    "def f(x):\n",
    "    qml.RX(x, wires=0)\n",
    "    return qml.expval(qml.PauliZ(0))\n"
   ]
  },
  {
   "cell_type": "code",
   "execution_count": 2,
   "id": "713212b4",
   "metadata": {},
   "outputs": [
    {
     "name": "stdout",
     "output_type": "stream",
     "text": [
      "\u001b[92mOPENQASM\u001b[39m \u001b[96m2\u001b[39m.\u001b[96m0\u001b[39m;\n",
      "\u001b[92minclude\u001b[39m\u001b[91m \"qelib1.inc\"\u001b[39m;\n",
      "\u001b[92mqreg\u001b[39m q[\u001b[96m1\u001b[39m];\n",
      "\u001b[92mcreg\u001b[39m c[\u001b[96m1\u001b[39m];\n",
      "\u001b[95mrx\u001b[39m(\u001b[96m0\u001b[39m\u001b[96m.3\u001b[39m) q[\u001b[96m0\u001b[39m];\n",
      "\u001b[94mmeasure\u001b[39m q[\u001b[96m0\u001b[39m] -> c[\u001b[96m0\u001b[39m];\n",
      "\n"
     ]
    }
   ],
   "source": [
    "dev._circuit.qasm(formatted=True)"
   ]
  },
  {
   "cell_type": "code",
   "execution_count": 464,
   "id": "0d86ffb9",
   "metadata": {},
   "outputs": [],
   "source": [
    "def my_quantum_function(x):\n",
    "    qml.RZ(x[0], wires=0)\n",
    "    qml.CNOT(wires=[0,1])\n",
    "    qml.RY(x[1], wires=1)\n",
    "    return qml.expval(qml.PauliZ(wires=0))"
   ]
  },
  {
   "cell_type": "code",
   "execution_count": 465,
   "id": "65ec5335",
   "metadata": {},
   "outputs": [],
   "source": [
    "dev = qml.device(\"default.qubit\", wires=2)"
   ]
  },
  {
   "cell_type": "code",
   "execution_count": 466,
   "id": "b2b722be",
   "metadata": {},
   "outputs": [],
   "source": [
    "circuit = qml.QNode(my_quantum_function, dev)"
   ]
  },
  {
   "cell_type": "code",
   "execution_count": 467,
   "id": "aff8fa3e",
   "metadata": {},
   "outputs": [],
   "source": [
    "#circuit([0,1])"
   ]
  },
  {
   "cell_type": "code",
   "execution_count": 468,
   "id": "ce1f09be",
   "metadata": {},
   "outputs": [
    {
     "ename": "QuantumFunctionError",
     "evalue": "The QNode specifications can only be calculated after its quantum tape has been constructed.",
     "output_type": "error",
     "traceback": [
      "\u001b[0;31m---------------------------------------------------------------------------\u001b[0m",
      "\u001b[0;31mQuantumFunctionError\u001b[0m                      Traceback (most recent call last)",
      "\u001b[0;32m<ipython-input-468-d1b9ef7d9ee5>\u001b[0m in \u001b[0;36m<module>\u001b[0;34m\u001b[0m\n\u001b[0;32m----> 1\u001b[0;31m \u001b[0mcircuit\u001b[0m\u001b[0;34m.\u001b[0m\u001b[0mspecs\u001b[0m\u001b[0;34m\u001b[0m\u001b[0;34m\u001b[0m\u001b[0m\n\u001b[0m",
      "\u001b[0;32m~/opt/anaconda3/envs/QML/lib/python3.7/site-packages/pennylane/qnode.py\u001b[0m in \u001b[0;36mspecs\u001b[0;34m(self)\u001b[0m\n\u001b[1;32m    772\u001b[0m         \u001b[0;32mif\u001b[0m \u001b[0mself\u001b[0m\u001b[0;34m.\u001b[0m\u001b[0mqtape\u001b[0m \u001b[0;32mis\u001b[0m \u001b[0;32mNone\u001b[0m\u001b[0;34m:\u001b[0m\u001b[0;34m\u001b[0m\u001b[0;34m\u001b[0m\u001b[0m\n\u001b[1;32m    773\u001b[0m             raise qml.QuantumFunctionError(\n\u001b[0;32m--> 774\u001b[0;31m                 \u001b[0;34m\"The QNode specifications can only be calculated after its quantum tape has been constructed.\"\u001b[0m\u001b[0;34m\u001b[0m\u001b[0;34m\u001b[0m\u001b[0m\n\u001b[0m\u001b[1;32m    775\u001b[0m             )\n\u001b[1;32m    776\u001b[0m \u001b[0;34m\u001b[0m\u001b[0m\n",
      "\u001b[0;31mQuantumFunctionError\u001b[0m: The QNode specifications can only be calculated after its quantum tape has been constructed."
     ]
    }
   ],
   "source": [
    "circuit.specs"
   ]
  },
  {
   "cell_type": "code",
   "execution_count": 443,
   "id": "a00b40b0",
   "metadata": {},
   "outputs": [
    {
     "data": {
      "text/plain": [
       "2"
      ]
     },
     "execution_count": 443,
     "metadata": {},
     "output_type": "execute_result"
    }
   ],
   "source": [
    "len(circuit.device.wires)"
   ]
  },
  {
   "cell_type": "code",
   "execution_count": 481,
   "id": "dd182a5f",
   "metadata": {},
   "outputs": [],
   "source": [
    "new_dev = qml.device(\"qiskit.aer\", wires=2)\n",
    "qnode = qml.QNode(circuit.func, new_dev)"
   ]
  },
  {
   "cell_type": "code",
   "execution_count": 482,
   "id": "9b16f989",
   "metadata": {},
   "outputs": [
    {
     "data": {
      "text/plain": [
       "tensor(1., requires_grad=True)"
      ]
     },
     "execution_count": 482,
     "metadata": {},
     "output_type": "execute_result"
    }
   ],
   "source": [
    "qnode([0,1,0,0,0])"
   ]
  },
  {
   "cell_type": "code",
   "execution_count": 474,
   "id": "2bb11766",
   "metadata": {},
   "outputs": [
    {
     "data": {
      "text/plain": [
       "{'gate_sizes': defaultdict(int, {1: 2, 2: 1}),\n",
       " 'gate_types': defaultdict(int, {'RZ': 1, 'CNOT': 1, 'RY': 1}),\n",
       " 'num_operations': 3,\n",
       " 'num_observables': 1,\n",
       " 'num_diagonalizing_gates': 0,\n",
       " 'num_used_wires': 2,\n",
       " 'depth': 3,\n",
       " 'num_trainable_params': 2,\n",
       " 'num_parameter_shift_executions': 3,\n",
       " 'num_device_wires': 2,\n",
       " 'device_name': 'qiskit.aer',\n",
       " 'diff_method': 'best'}"
      ]
     },
     "execution_count": 474,
     "metadata": {},
     "output_type": "execute_result"
    }
   ],
   "source": [
    "qnode.specs"
   ]
  },
  {
   "cell_type": "code",
   "execution_count": 483,
   "id": "b43bf100",
   "metadata": {},
   "outputs": [],
   "source": [
    "temp_qc = new_dev._circuit"
   ]
  },
  {
   "cell_type": "code",
   "execution_count": 484,
   "id": "789e4e37",
   "metadata": {},
   "outputs": [
    {
     "data": {
      "text/html": [
       "<pre style=\"word-wrap: normal;white-space: pre;background: #fff0;line-height: 1.1;font-family: &quot;Courier New&quot;,Courier,monospace\">     ┌───────┐              ┌─┐   \n",
       "q_0: ┤ RZ(0) ├──■───────────┤M├───\n",
       "     └───────┘┌─┴─┐┌───────┐└╥┘┌─┐\n",
       "q_1: ─────────┤ X ├┤ RY(1) ├─╫─┤M├\n",
       "              └───┘└───────┘ ║ └╥┘\n",
       "c: 2/════════════════════════╩══╩═\n",
       "                             0  1 </pre>"
      ],
      "text/plain": [
       "     ┌───────┐              ┌─┐   \n",
       "q_0: ┤ RZ(0) ├──■───────────┤M├───\n",
       "     └───────┘┌─┴─┐┌───────┐└╥┘┌─┐\n",
       "q_1: ─────────┤ X ├┤ RY(1) ├─╫─┤M├\n",
       "              └───┘└───────┘ ║ └╥┘\n",
       "c: 2/════════════════════════╩══╩═\n",
       "                             0  1 "
      ]
     },
     "execution_count": 484,
     "metadata": {},
     "output_type": "execute_result"
    }
   ],
   "source": [
    "temp_qc.draw()"
   ]
  },
  {
   "cell_type": "code",
   "execution_count": 485,
   "id": "8b7dd990",
   "metadata": {},
   "outputs": [],
   "source": [
    "temp_qc.remove_final_measurements()"
   ]
  },
  {
   "cell_type": "code",
   "execution_count": 486,
   "id": "d0d84d19",
   "metadata": {},
   "outputs": [
    {
     "data": {
      "text/html": [
       "<pre style=\"word-wrap: normal;white-space: pre;background: #fff0;line-height: 1.1;font-family: &quot;Courier New&quot;,Courier,monospace\">     ┌───────┐              \n",
       "q_0: ┤ RZ(0) ├──■───────────\n",
       "     └───────┘┌─┴─┐┌───────┐\n",
       "q_1: ─────────┤ X ├┤ RY(1) ├\n",
       "              └───┘└───────┘</pre>"
      ],
      "text/plain": [
       "     ┌───────┐              \n",
       "q_0: ┤ RZ(0) ├──■───────────\n",
       "     └───────┘┌─┴─┐┌───────┐\n",
       "q_1: ─────────┤ X ├┤ RY(1) ├\n",
       "              └───┘└───────┘"
      ]
     },
     "execution_count": 486,
     "metadata": {},
     "output_type": "execute_result"
    }
   ],
   "source": [
    "temp_qc.draw()"
   ]
  },
  {
   "cell_type": "code",
   "execution_count": 333,
   "id": "6a0db2b0",
   "metadata": {},
   "outputs": [],
   "source": [
    "qc = qiskit_dev._circuit"
   ]
  },
  {
   "cell_type": "code",
   "execution_count": 334,
   "id": "78bf0ee4",
   "metadata": {},
   "outputs": [],
   "source": [
    "qc.remove_final_measurements()"
   ]
  },
  {
   "cell_type": "code",
   "execution_count": 335,
   "id": "7765ad15",
   "metadata": {},
   "outputs": [
    {
     "data": {
      "text/html": [
       "<pre style=\"word-wrap: normal;white-space: pre;background: #fff0;line-height: 1.1;font-family: &quot;Courier New&quot;,Courier,monospace\">     ┌───────┐              \n",
       "q_0: ┤ RZ(0) ├──■───────────\n",
       "     └───────┘┌─┴─┐┌───────┐\n",
       "q_1: ─────────┤ X ├┤ RY(1) ├\n",
       "              └───┘└───────┘</pre>"
      ],
      "text/plain": [
       "     ┌───────┐              \n",
       "q_0: ┤ RZ(0) ├──■───────────\n",
       "     └───────┘┌─┴─┐┌───────┐\n",
       "q_1: ─────────┤ X ├┤ RY(1) ├\n",
       "              └───┘└───────┘"
      ]
     },
     "execution_count": 335,
     "metadata": {},
     "output_type": "execute_result"
    }
   ],
   "source": [
    "qc.draw()"
   ]
  },
  {
   "cell_type": "code",
   "execution_count": 431,
   "id": "89639911",
   "metadata": {},
   "outputs": [],
   "source": [
    "from qiskit import QuantumCircuit\n",
    "from qiskit.circuit import Instruction\n",
    "test_qc = QuantumCircuit(2)"
   ]
  },
  {
   "cell_type": "code",
   "execution_count": 432,
   "id": "f28d0b06",
   "metadata": {},
   "outputs": [
    {
     "name": "stdout",
     "output_type": "stream",
     "text": [
      "(<qiskit.circuit.library.standard_gates.rz.RZGate object at 0x7fb191028a90>, [Qubit(QuantumRegister(2, 'q'), 0)], [])\n",
      "<class 'qiskit.circuit.library.standard_gates.rz.RZGate'>\n",
      "[ParameterVectorElement(θ[0])]\n",
      "(<qiskit.circuit.library.standard_gates.x.CXGate object at 0x7fb191028a10>, [Qubit(QuantumRegister(2, 'q'), 0), Qubit(QuantumRegister(2, 'q'), 1)], [])\n",
      "<class 'qiskit.circuit.library.standard_gates.x.CXGate'>\n",
      "[]\n",
      "(<qiskit.circuit.library.standard_gates.ry.RYGate object at 0x7fb1910278d0>, [Qubit(QuantumRegister(2, 'q'), 1)], [])\n",
      "<class 'qiskit.circuit.library.standard_gates.ry.RYGate'>\n",
      "[1]\n"
     ]
    }
   ],
   "source": [
    "i = 0\n",
    "for op in qc.data:\n",
    "    print(op)\n",
    "    print(type(op[0]))\n",
    "    print(op[0].params)\n",
    "    \n",
    "    if len(op[0].params) == 1:\n",
    "        gate = op[0].__deepcopy__()\n",
    "        gate.__init__(theta[i])\n",
    "        test_qc.append(gate, op[1])\n",
    "        i += 1\n",
    "    else:\n",
    "        gate = op[0].__deepcopy__()\n",
    "        test_qc.append(gate, op[1])"
   ]
  },
  {
   "cell_type": "code",
   "execution_count": 433,
   "id": "1e0263a1",
   "metadata": {},
   "outputs": [
    {
     "data": {
      "text/html": [
       "<pre style=\"word-wrap: normal;white-space: pre;background: #fff0;line-height: 1.1;font-family: &quot;Courier New&quot;,Courier,monospace\">     ┌──────────┐                 \n",
       "q_0: ┤ RZ(θ[0]) ├──■──────────────\n",
       "     └──────────┘┌─┴─┐┌──────────┐\n",
       "q_1: ────────────┤ X ├┤ RY(θ[1]) ├\n",
       "                 └───┘└──────────┘</pre>"
      ],
      "text/plain": [
       "     ┌──────────┐                 \n",
       "q_0: ┤ RZ(θ[0]) ├──■──────────────\n",
       "     └──────────┘┌─┴─┐┌──────────┐\n",
       "q_1: ────────────┤ X ├┤ RY(θ[1]) ├\n",
       "                 └───┘└──────────┘"
      ]
     },
     "execution_count": 433,
     "metadata": {},
     "output_type": "execute_result"
    }
   ],
   "source": [
    "test_qc.draw()"
   ]
  },
  {
   "cell_type": "code",
   "execution_count": 493,
   "id": "e3ec7747",
   "metadata": {},
   "outputs": [],
   "source": [
    "from qiskit.circuit import ParameterVector\n",
    "theta = ParameterVector('θ',2)"
   ]
  },
  {
   "cell_type": "code",
   "execution_count": 494,
   "id": "f1672ffb",
   "metadata": {},
   "outputs": [
    {
     "data": {
      "text/plain": [
       "<qiskit.circuit.instructionset.InstructionSet at 0x7fb1910b3390>"
      ]
     },
     "execution_count": 494,
     "metadata": {},
     "output_type": "execute_result"
    }
   ],
   "source": [
    "test_circ = QuantumCircuit(2)\n",
    "test_circ.rx(theta[0],0)\n",
    "test_circ.cz(0,1)\n",
    "test_circ.ry(theta[1],1)"
   ]
  },
  {
   "cell_type": "code",
   "execution_count": 502,
   "id": "b7153e7e",
   "metadata": {},
   "outputs": [],
   "source": [
    "ttest_circ = test_circ.bind_parameters(circ_param_dict)"
   ]
  },
  {
   "cell_type": "code",
   "execution_count": 504,
   "id": "11f8f7ee",
   "metadata": {},
   "outputs": [
    {
     "data": {
      "text/html": [
       "<pre style=\"word-wrap: normal;white-space: pre;background: #fff0;line-height: 1.1;font-family: &quot;Courier New&quot;,Courier,monospace\">     ┌──────────┐               \n",
       "q_0: ┤ RX(θ[0]) ├─■─────────────\n",
       "     └──────────┘ │ ┌──────────┐\n",
       "q_1: ─────────────■─┤ RY(θ[1]) ├\n",
       "                    └──────────┘</pre>"
      ],
      "text/plain": [
       "     ┌──────────┐               \n",
       "q_0: ┤ RX(θ[0]) ├─■─────────────\n",
       "     └──────────┘ │ ┌──────────┐\n",
       "q_1: ─────────────■─┤ RY(θ[1]) ├\n",
       "                    └──────────┘"
      ]
     },
     "execution_count": 504,
     "metadata": {},
     "output_type": "execute_result"
    }
   ],
   "source": [
    "test_circ.draw()"
   ]
  },
  {
   "cell_type": "code",
   "execution_count": 505,
   "id": "35357f96",
   "metadata": {},
   "outputs": [
    {
     "data": {
      "text/html": [
       "<pre style=\"word-wrap: normal;white-space: pre;background: #fff0;line-height: 1.1;font-family: &quot;Courier New&quot;,Courier,monospace\">     ┌───────┐            \n",
       "q_0: ┤ RX(0) ├─■──────────\n",
       "     └───────┘ │ ┌───────┐\n",
       "q_1: ──────────■─┤ RY(1) ├\n",
       "                 └───────┘</pre>"
      ],
      "text/plain": [
       "     ┌───────┐            \n",
       "q_0: ┤ RX(0) ├─■──────────\n",
       "     └───────┘ │ ┌───────┐\n",
       "q_1: ──────────■─┤ RY(1) ├\n",
       "                 └───────┘"
      ]
     },
     "execution_count": 505,
     "metadata": {},
     "output_type": "execute_result"
    }
   ],
   "source": [
    "ttest_circ.draw()"
   ]
  },
  {
   "cell_type": "code",
   "execution_count": 501,
   "id": "bf7745d4",
   "metadata": {},
   "outputs": [
    {
     "data": {
      "text/plain": [
       "{ParameterVectorElement(θ[0]): 0, ParameterVectorElement(θ[1]): 1}"
      ]
     },
     "execution_count": 501,
     "metadata": {},
     "output_type": "execute_result"
    }
   ],
   "source": [
    "param = [0,1]\n",
    "circ_param_dict = {}\n",
    "for i, p in enumerate(test_circ.parameters):\n",
    "    circ_param_dict[p] = param[i]\n",
    "circ_param_dict"
   ]
  },
  {
   "cell_type": "code",
   "execution_count": null,
   "id": "012064d6",
   "metadata": {},
   "outputs": [],
   "source": []
  },
  {
   "cell_type": "code",
   "execution_count": 488,
   "id": "f38c5742",
   "metadata": {},
   "outputs": [
    {
     "data": {
      "text/html": [
       "<pre style=\"word-wrap: normal;white-space: pre;background: #fff0;line-height: 1.1;font-family: &quot;Courier New&quot;,Courier,monospace\">     ┌──────────┐              \n",
       "q_0: ┤ RZ(θ[0]) ├──■───────────\n",
       "     └──────────┘┌─┴─┐┌───────┐\n",
       "q_1: ────────────┤ X ├┤ RY(1) ├\n",
       "                 └───┘└───────┘</pre>"
      ],
      "text/plain": [
       "     ┌──────────┐              \n",
       "q_0: ┤ RZ(θ[0]) ├──■───────────\n",
       "     └──────────┘┌─┴─┐┌───────┐\n",
       "q_1: ────────────┤ X ├┤ RY(1) ├\n",
       "                 └───┘└───────┘"
      ]
     },
     "execution_count": 488,
     "metadata": {},
     "output_type": "execute_result"
    }
   ],
   "source": [
    "qc.draw()"
   ]
  },
  {
   "cell_type": "code",
   "execution_count": 491,
   "id": "9f3276e0",
   "metadata": {},
   "outputs": [
    {
     "ename": "CircuitError",
     "evalue": "'Cannot bind parameters (θ) not present in the circuit.'",
     "output_type": "error",
     "traceback": [
      "\u001b[0;31m---------------------------------------------------------------------------\u001b[0m",
      "\u001b[0;31mCircuitError\u001b[0m                              Traceback (most recent call last)",
      "\u001b[0;32m<ipython-input-491-7e21ce3c91c2>\u001b[0m in \u001b[0;36m<module>\u001b[0;34m\u001b[0m\n\u001b[0;32m----> 1\u001b[0;31m \u001b[0mnew_circ\u001b[0m \u001b[0;34m=\u001b[0m \u001b[0mqc\u001b[0m\u001b[0;34m.\u001b[0m\u001b[0mbind_parameters\u001b[0m\u001b[0;34m(\u001b[0m\u001b[0;34m{\u001b[0m\u001b[0;34m'θ'\u001b[0m\u001b[0;34m:\u001b[0m\u001b[0;34m[\u001b[0m\u001b[0;36m0\u001b[0m\u001b[0;34m,\u001b[0m\u001b[0;36m1\u001b[0m\u001b[0;34m,\u001b[0m\u001b[0;36m2\u001b[0m\u001b[0;34m]\u001b[0m\u001b[0;34m}\u001b[0m\u001b[0;34m)\u001b[0m\u001b[0;34m\u001b[0m\u001b[0;34m\u001b[0m\u001b[0m\n\u001b[0m",
      "\u001b[0;32m~/opt/anaconda3/envs/QML/lib/python3.7/site-packages/qiskit/utils/deprecation.py\u001b[0m in \u001b[0;36mwrapper\u001b[0;34m(*args, **kwargs)\u001b[0m\n\u001b[1;32m     54\u001b[0m             \u001b[0;32mif\u001b[0m \u001b[0mkwargs\u001b[0m\u001b[0;34m:\u001b[0m\u001b[0;34m\u001b[0m\u001b[0;34m\u001b[0m\u001b[0m\n\u001b[1;32m     55\u001b[0m                 \u001b[0m_rename_kwargs\u001b[0m\u001b[0;34m(\u001b[0m\u001b[0mfunc\u001b[0m\u001b[0;34m.\u001b[0m\u001b[0m__name__\u001b[0m\u001b[0;34m,\u001b[0m \u001b[0mkwargs\u001b[0m\u001b[0;34m,\u001b[0m \u001b[0mkwarg_map\u001b[0m\u001b[0;34m)\u001b[0m\u001b[0;34m\u001b[0m\u001b[0;34m\u001b[0m\u001b[0m\n\u001b[0;32m---> 56\u001b[0;31m             \u001b[0;32mreturn\u001b[0m \u001b[0mfunc\u001b[0m\u001b[0;34m(\u001b[0m\u001b[0;34m*\u001b[0m\u001b[0margs\u001b[0m\u001b[0;34m,\u001b[0m \u001b[0;34m**\u001b[0m\u001b[0mkwargs\u001b[0m\u001b[0;34m)\u001b[0m\u001b[0;34m\u001b[0m\u001b[0;34m\u001b[0m\u001b[0m\n\u001b[0m\u001b[1;32m     57\u001b[0m         \u001b[0;32mreturn\u001b[0m \u001b[0mwrapper\u001b[0m\u001b[0;34m\u001b[0m\u001b[0;34m\u001b[0m\u001b[0m\n\u001b[1;32m     58\u001b[0m     \u001b[0;32mreturn\u001b[0m \u001b[0mdecorator\u001b[0m\u001b[0;34m\u001b[0m\u001b[0;34m\u001b[0m\u001b[0m\n",
      "\u001b[0;32m~/opt/anaconda3/envs/QML/lib/python3.7/site-packages/qiskit/circuit/quantumcircuit.py\u001b[0m in \u001b[0;36mbind_parameters\u001b[0;34m(self, values, value_dict)\u001b[0m\n\u001b[1;32m   2084\u001b[0m                 raise TypeError(\n\u001b[1;32m   2085\u001b[0m                     'Found ParameterExpression in values; use assign_parameters() instead.')\n\u001b[0;32m-> 2086\u001b[0;31m             \u001b[0;32mreturn\u001b[0m \u001b[0mself\u001b[0m\u001b[0;34m.\u001b[0m\u001b[0massign_parameters\u001b[0m\u001b[0;34m(\u001b[0m\u001b[0mvalues\u001b[0m\u001b[0;34m)\u001b[0m\u001b[0;34m\u001b[0m\u001b[0;34m\u001b[0m\u001b[0m\n\u001b[0m\u001b[1;32m   2087\u001b[0m         \u001b[0;32melse\u001b[0m\u001b[0;34m:\u001b[0m\u001b[0;34m\u001b[0m\u001b[0;34m\u001b[0m\u001b[0m\n\u001b[1;32m   2088\u001b[0m             \u001b[0;32mif\u001b[0m \u001b[0many\u001b[0m\u001b[0;34m(\u001b[0m\u001b[0misinstance\u001b[0m\u001b[0;34m(\u001b[0m\u001b[0mvalue\u001b[0m\u001b[0;34m,\u001b[0m \u001b[0mParameterExpression\u001b[0m\u001b[0;34m)\u001b[0m \u001b[0;32mfor\u001b[0m \u001b[0mvalue\u001b[0m \u001b[0;32min\u001b[0m \u001b[0mvalues\u001b[0m\u001b[0;34m)\u001b[0m\u001b[0;34m:\u001b[0m\u001b[0;34m\u001b[0m\u001b[0;34m\u001b[0m\u001b[0m\n",
      "\u001b[0;32m~/opt/anaconda3/envs/QML/lib/python3.7/site-packages/qiskit/utils/deprecation.py\u001b[0m in \u001b[0;36mwrapper\u001b[0;34m(*args, **kwargs)\u001b[0m\n\u001b[1;32m     54\u001b[0m             \u001b[0;32mif\u001b[0m \u001b[0mkwargs\u001b[0m\u001b[0;34m:\u001b[0m\u001b[0;34m\u001b[0m\u001b[0;34m\u001b[0m\u001b[0m\n\u001b[1;32m     55\u001b[0m                 \u001b[0m_rename_kwargs\u001b[0m\u001b[0;34m(\u001b[0m\u001b[0mfunc\u001b[0m\u001b[0;34m.\u001b[0m\u001b[0m__name__\u001b[0m\u001b[0;34m,\u001b[0m \u001b[0mkwargs\u001b[0m\u001b[0;34m,\u001b[0m \u001b[0mkwarg_map\u001b[0m\u001b[0;34m)\u001b[0m\u001b[0;34m\u001b[0m\u001b[0;34m\u001b[0m\u001b[0m\n\u001b[0;32m---> 56\u001b[0;31m             \u001b[0;32mreturn\u001b[0m \u001b[0mfunc\u001b[0m\u001b[0;34m(\u001b[0m\u001b[0;34m*\u001b[0m\u001b[0margs\u001b[0m\u001b[0;34m,\u001b[0m \u001b[0;34m**\u001b[0m\u001b[0mkwargs\u001b[0m\u001b[0;34m)\u001b[0m\u001b[0;34m\u001b[0m\u001b[0;34m\u001b[0m\u001b[0m\n\u001b[0m\u001b[1;32m     57\u001b[0m         \u001b[0;32mreturn\u001b[0m \u001b[0mwrapper\u001b[0m\u001b[0;34m\u001b[0m\u001b[0;34m\u001b[0m\u001b[0m\n\u001b[1;32m     58\u001b[0m     \u001b[0;32mreturn\u001b[0m \u001b[0mdecorator\u001b[0m\u001b[0;34m\u001b[0m\u001b[0;34m\u001b[0m\u001b[0m\n",
      "\u001b[0;32m~/opt/anaconda3/envs/QML/lib/python3.7/site-packages/qiskit/circuit/quantumcircuit.py\u001b[0m in \u001b[0;36massign_parameters\u001b[0;34m(self, parameters, inplace, param_dict)\u001b[0m\n\u001b[1;32m   2049\u001b[0m             \u001b[0;32mif\u001b[0m \u001b[0mlen\u001b[0m\u001b[0;34m(\u001b[0m\u001b[0mparams_not_in_circuit\u001b[0m\u001b[0;34m)\u001b[0m \u001b[0;34m>\u001b[0m \u001b[0;36m0\u001b[0m\u001b[0;34m:\u001b[0m\u001b[0;34m\u001b[0m\u001b[0;34m\u001b[0m\u001b[0m\n\u001b[1;32m   2050\u001b[0m                 raise CircuitError('Cannot bind parameters ({}) not present in the circuit.'.format(\n\u001b[0;32m-> 2051\u001b[0;31m                     ', '.join(map(str, params_not_in_circuit))))\n\u001b[0m\u001b[1;32m   2052\u001b[0m \u001b[0;34m\u001b[0m\u001b[0m\n\u001b[1;32m   2053\u001b[0m             \u001b[0;31m# replace the parameters with a new Parameter (\"substitute\") or numeric value (\"bind\")\u001b[0m\u001b[0;34m\u001b[0m\u001b[0;34m\u001b[0m\u001b[0;34m\u001b[0m\u001b[0m\n",
      "\u001b[0;31mCircuitError\u001b[0m: 'Cannot bind parameters (θ) not present in the circuit.'"
     ]
    }
   ],
   "source": [
    "new_circ = qc.bind_parameters({'θ':[0,1,2]})"
   ]
  },
  {
   "cell_type": "code",
   "execution_count": 492,
   "id": "44a6b65b",
   "metadata": {},
   "outputs": [
    {
     "data": {
      "text/plain": [
       "ParameterView([])"
      ]
     },
     "execution_count": 492,
     "metadata": {},
     "output_type": "execute_result"
    }
   ],
   "source": [
    "qc.parameters"
   ]
  },
  {
   "cell_type": "code",
   "execution_count": null,
   "id": "8927c70c",
   "metadata": {},
   "outputs": [],
   "source": []
  },
  {
   "cell_type": "code",
   "execution_count": null,
   "id": "4e933b9c",
   "metadata": {},
   "outputs": [],
   "source": []
  },
  {
   "cell_type": "code",
   "execution_count": null,
   "id": "c23a2897",
   "metadata": {},
   "outputs": [],
   "source": []
  },
  {
   "cell_type": "code",
   "execution_count": 99,
   "id": "58ccfdce",
   "metadata": {},
   "outputs": [],
   "source": [
    "g = circuit.device"
   ]
  },
  {
   "cell_type": "code",
   "execution_count": 107,
   "id": "c785bcb0",
   "metadata": {},
   "outputs": [
    {
     "data": {
      "text/plain": [
       "[0, 1]"
      ]
     },
     "execution_count": 107,
     "metadata": {},
     "output_type": "execute_result"
    }
   ],
   "source": [
    "g.wires.tolist()"
   ]
  },
  {
   "cell_type": "code",
   "execution_count": 291,
   "id": "71ed48ae",
   "metadata": {},
   "outputs": [],
   "source": [
    "sv = Statevector.from_label('0' * 2)"
   ]
  },
  {
   "cell_type": "code",
   "execution_count": 292,
   "id": "109cb1d2",
   "metadata": {},
   "outputs": [
    {
     "name": "stdout",
     "output_type": "stream",
     "text": [
      "Statevector([0.87758256+0.j, 0.        +0.j, 0.47942554+0.j,\n",
      "             0.        +0.j],\n",
      "            dims=(2, 2))\n"
     ]
    }
   ],
   "source": [
    "sv.evolve(qc)"
   ]
  }
 ],
 "metadata": {
  "kernelspec": {
   "display_name": "QML",
   "language": "python",
   "name": "qml"
  },
  "language_info": {
   "codemirror_mode": {
    "name": "ipython",
    "version": 3
   },
   "file_extension": ".py",
   "mimetype": "text/x-python",
   "name": "python",
   "nbconvert_exporter": "python",
   "pygments_lexer": "ipython3",
   "version": "3.7.10"
  }
 },
 "nbformat": 4,
 "nbformat_minor": 5
}
