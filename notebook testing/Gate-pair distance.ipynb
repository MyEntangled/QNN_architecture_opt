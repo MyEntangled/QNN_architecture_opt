{
 "cells": [
  {
   "cell_type": "markdown",
   "id": "7ca45f82",
   "metadata": {},
   "source": [
    "Define the distance between two gates $V_1$ and $V_2$ as follows:\n",
    "$$d(V_1,V_2) = \\int_{\\mathcal{H}}\\left| \\langle \\psi |V_2^\\dagger V_1|\\psi\\rangle \\right|^2 d\\mu(\\psi)$$\n",
    "where the measure is Haar measure, i.e. the quantum state is sampled uniformly at random in the Hilbert space."
   ]
  },
  {
   "cell_type": "code",
   "execution_count": 189,
   "id": "75757496",
   "metadata": {},
   "outputs": [],
   "source": [
    "import qiskit\n",
    "from qiskit.quantum_info import random_statevector, Statevector, state_fidelity, Clifford, random_clifford\n",
    "from qiskit import QuantumCircuit\n",
    "import numpy as np\n",
    "import matplotlib.pyplot as plt\n",
    "import pandas as pd"
   ]
  },
  {
   "cell_type": "code",
   "execution_count": 123,
   "id": "283d4de3",
   "metadata": {},
   "outputs": [],
   "source": [
    "def approx_gates_distance(num_samples, oper_1, oper_2, d_measure):\n",
    "    V1, args1 = oper_1\n",
    "    V2, args2 = oper_2\n",
    "    \n",
    "    distance = []\n",
    "    \n",
    "    for i in range(num_samples):\n",
    "        \n",
    "        vec = random_statevector(2) # sample random state by Haar measure\n",
    "        #print('before circuit: {}'.format(vec)) \n",
    "\n",
    "        qc_1 = QuantumCircuit(1)\n",
    "        getattr(qc_1, V1)(*args1)\n",
    "        #print(qc_1.draw())\n",
    "        new_vec_1 = vec.evolve(qc_1)\n",
    "        #print('after circuit 1: {}'.format(new_vec_1))\n",
    "\n",
    "        qc_2 = QuantumCircuit(1)\n",
    "        getattr(qc_2, V2)(*args2)\n",
    "        #print(qc_2.draw())\n",
    "        new_vec_2 = vec.evolve(qc_2)\n",
    "        #print('after circuit 2: {}'.format(new_vec_2))\n",
    "\n",
    "        fidelity = min(state_fidelity(new_vec_1, new_vec_2), 1.) # avoid numerical problem\n",
    "        \n",
    "        if d_measure == 'bures':\n",
    "            distance.append(1 - fidelity)\n",
    "        if d_measure == 'f-s': #fubini-study metric\n",
    "            distance.append(np.arccos(fidelity**(1/2)))\n",
    "    \n",
    "    return np.mean(distance)"
   ]
  },
  {
   "cell_type": "code",
   "execution_count": 142,
   "id": "fed74b5e",
   "metadata": {},
   "outputs": [
    {
     "name": "stdout",
     "output_type": "stream",
     "text": [
      "0.6541207277564909\n",
      "0.33541500278090847\n",
      "0.5547179895714036\n",
      "9.992007221626409e-17\n",
      "rx-y 0.6650916815901142\n"
     ]
    }
   ],
   "source": [
    "print(approx_gates_distance(1000, ('x',(0,)), ('y',(0,)), 'bures'))\n",
    "print(approx_gates_distance(1000, ('x',(0,)), ('h',(0,)), 'bures'))\n",
    "print(approx_gates_distance(1000, ('z',(0,)), ('t',(0,)), 'bures'))\n",
    "print(approx_gates_distance(1000, ('x',(0,)), ('x',(0,)), 'bures'))\n",
    "\n",
    "thetas = np.linspace(0,2*np.pi,100)\n",
    "dist = []\n",
    "for theta in thetas: \n",
    "    dist.append(approx_gates_distance(100, ('rx',[theta,0]), ('y',(0,)), 'bures'))\n",
    "print(\"rx-y\", np.mean(dist))"
   ]
  },
  {
   "cell_type": "code",
   "execution_count": 141,
   "id": "96a73d11",
   "metadata": {},
   "outputs": [
    {
     "name": "stdout",
     "output_type": "stream",
     "text": [
      "0.9953775606406641\n",
      "0.598090536211261\n",
      "0.8503824528639954\n",
      "5.04870611615276e-09\n",
      "rx-y  1.00182776834135\n"
     ]
    }
   ],
   "source": [
    "print(approx_gates_distance(1000, ('x',(0,)), ('y',(0,)), 'f-s'))\n",
    "print(approx_gates_distance(1000, ('x',(0,)), ('h',(0,)), 'f-s'))\n",
    "print(approx_gates_distance(1000, ('z',(0,)), ('t',(0,)), 'f-s'))\n",
    "print(approx_gates_distance(1000, ('x',(0,)), ('x',(0,)), 'f-s'))\n",
    "\n",
    "thetas = np.linspace(0,2*np.pi,100)\n",
    "dist = []\n",
    "for theta in thetas: \n",
    "    dist.append(approx_gates_distance(100, ('rx',[theta,0]), ('y',(0,)), 'f-s'))\n",
    "print(\"rx-y \", np.mean(dist))"
   ]
  },
  {
   "cell_type": "markdown",
   "id": "6171af32",
   "metadata": {},
   "source": [
    "We can write $|\\psi\\rangle = U|0\\rangle$, where $U$ is a random unitary operator sampled according to Haar measure. Moreover, a unitary 2-design $\\{U_j\\}_{j=1}^k$ would satisfy\n",
    "$$\\frac{1}{K} \\sum_{j=1}^K \\left| \\langle 0| U_j^\\dagger V_2^\\dagger V_1 U_j|0\\rangle \\right|^2 \n",
    "= \\int_{\\mathcal{U}}\\left| \\langle 0| U^\\dagger V_2^\\dagger V_1 U|0\\rangle \\right|^2 d\\mu(U)$$\n",
    "\n",
    "There is one beautiful result saying that Clifford group (normalizers of Pauli group) constitute a unitary 3-design, thus also a unitary 2-design. For one-qubit, the Clifford group contains 24 elements, each a product of Hadamard gate and S gate. This allows us to compute exactly the average fidelity in a very efficient manner."
   ]
  },
  {
   "cell_type": "code",
   "execution_count": 75,
   "id": "27fa0b09",
   "metadata": {},
   "outputs": [],
   "source": [
    "single_qubit_cliffords = [\n",
    " 'i',\n",
    " 'h', 's',\n",
    " 'hs', 'sh', 'ss',\n",
    " 'hsh', 'hss', 'shs', 'ssh', 'sss',\n",
    " 'hshs', 'hssh', 'hsss', 'shss', 'sshs',\n",
    " 'hshss', 'hsshs', 'shssh', 'shsss', 'sshss',\n",
    " 'hshssh', 'hshsss', 'hsshss'\n",
    "]\n",
    "\n",
    "# single_qubit_cliffords = [\n",
    "#  'I',\n",
    "#  'H', 'S',\n",
    "#  'HS', 'SH', 'SS',\n",
    "#  'HSH', 'HSS', 'SHS', 'SSH', 'SSS',\n",
    "#  'HSHS', 'HSSH', 'HSSS', 'SHSS', 'SSHS',\n",
    "#  'HSHSS', 'HSSHS', 'SHSSH', 'SHSSS', 'SSHSS',\n",
    "#  'HSHSSH', 'HSHSSS', 'HSSHSS'\n",
    "# ]"
   ]
  },
  {
   "cell_type": "code",
   "execution_count": 125,
   "id": "7e2ae85a",
   "metadata": {},
   "outputs": [],
   "source": [
    "def apply_clifford_from_string(qc, clifford_string):\n",
    "    for gate in clifford_string:\n",
    "        #instr = (gate, qubit)\n",
    "        #getattr(qc, instr[0])(instr[1])\n",
    "        getattr(qc, gate)(qc.qubits)\n",
    "    return qc\n",
    "        \n",
    "def apply_clifford(qc, clifford):\n",
    "\n",
    "    if isinstance(clifford, str):\n",
    "        apply_clifford_from_string(qc, clifford)\n",
    "        \n",
    "    else:\n",
    "        cliff_circ = clifford.to_circuit()\n",
    "        qc = qc.compose(cliff_circ)\n",
    "    #print(qc.draw())\n",
    "    return qc\n",
    "        \n",
    "        \n",
    "def compute_gates_distance_clifford(num_qubits, oper_1, oper_2, cliffords, d_measure):\n",
    "    \n",
    "    V1, args1 = oper_1\n",
    "    V2, args2 = oper_2\n",
    "    \n",
    "    clifford_distance = []\n",
    "    \n",
    "    for i in range(len(cliffords)):\n",
    "        clifford_string = cliffords[i]\n",
    "        #print(clifford_string)\n",
    "        \n",
    "        vec = Statevector.from_label('0'*num_qubits) # |0\\rangle\n",
    "\n",
    "        qc_1 = QuantumCircuit(num_qubits)\n",
    "        qc_1 = apply_clifford(qc_1, clifford_string)\n",
    "        getattr(qc_1, V1)(*args1)\n",
    "        new_vec_1 = vec.evolve(qc_1)\n",
    "        \n",
    "        qc_2 = QuantumCircuit(num_qubits)\n",
    "        qc_2 = apply_clifford(qc_2, clifford_string)\n",
    "        getattr(qc_2, V2)(*args2)\n",
    "        new_vec_2 = vec.evolve(qc_2)\n",
    "        \n",
    "        \n",
    "        fidelity = min(state_fidelity(new_vec_1, new_vec_2), 1.)\n",
    "        if d_measure == 'bures':\n",
    "            clifford_distance.append(1 - fidelity)\n",
    "        if d_measure == 'f-s':\n",
    "            clifford_distance.append(np.arccos(fidelity**(1/2)))\n",
    "        \n",
    "    return np.mean(clifford_distance)"
   ]
  },
  {
   "cell_type": "code",
   "execution_count": 146,
   "id": "b3eba8c1",
   "metadata": {},
   "outputs": [
    {
     "name": "stdout",
     "output_type": "stream",
     "text": [
      "0.6666666666666669\n",
      "0.3333333333333337\n",
      "0.5690355937288493\n",
      "5.366077952354923e-16\n",
      "rx-y  0.6666666666666672\n"
     ]
    }
   ],
   "source": [
    "print(compute_gates_distance_clifford(1, ('x', (0,)), ('y', (0,)), single_qubit_cliffords, 'bures'))\n",
    "print(compute_gates_distance_clifford(1, ('x', (0,)), ('h', (0,)), single_qubit_cliffords, 'bures'))\n",
    "print(compute_gates_distance_clifford(1, ('z', (0,)), ('t', (0,)), single_qubit_cliffords, 'bures'))\n",
    "print(compute_gates_distance_clifford(1, ('x', (0,)), ('x', (0,)), single_qubit_cliffords, 'bures'))\n",
    "\n",
    "thetas = np.linspace(0,2*np.pi,100)\n",
    "dist = []\n",
    "for theta in thetas: \n",
    "    dist.append(compute_gates_distance_clifford(1, ('rx',[theta,0]), ('y',(0,)), single_qubit_cliffords, 'bures'))\n",
    "print(\"rx-y \", np.mean(dist))"
   ]
  },
  {
   "cell_type": "code",
   "execution_count": 145,
   "id": "d15efbbd",
   "metadata": {},
   "outputs": [
    {
     "name": "stdout",
     "output_type": "stream",
     "text": [
      "1.0471975561636515\n",
      "0.5235987838604563\n",
      "0.785398168364502\n",
      "2.083452367913229e-08\n",
      "rx-y  1.0471975513589102\n"
     ]
    }
   ],
   "source": [
    "print(compute_gates_distance_clifford(1, ('x', (0,)), ('y', (0,)), single_qubit_cliffords, 'f-s'))\n",
    "print(compute_gates_distance_clifford(1, ('x', (0,)), ('h', (0,)), single_qubit_cliffords, 'f-s'))\n",
    "print(compute_gates_distance_clifford(1, ('z', (0,)), ('t', (0,)), single_qubit_cliffords, 'f-s'))\n",
    "print(compute_gates_distance_clifford(1, ('x', (0,)), ('x', (0,)), single_qubit_cliffords, 'f-s'))\n",
    "\n",
    "thetas = np.linspace(0,2*np.pi,100)\n",
    "dist = []\n",
    "for theta in thetas: \n",
    "    dist.append(compute_gates_distance_clifford(1, ('rx',[theta,0]), ('y',(0,)), single_qubit_cliffords, 'f-s'))\n",
    "print(\"rx-y \", np.mean(dist))"
   ]
  },
  {
   "cell_type": "code",
   "execution_count": null,
   "id": "8d2b84e7",
   "metadata": {},
   "outputs": [],
   "source": []
  },
  {
   "cell_type": "code",
   "execution_count": null,
   "id": "2edf6b17",
   "metadata": {},
   "outputs": [],
   "source": [
    "def get_state(num_qubits, oper, clifford):\n",
    "    \n",
    "    V, args = oper\n",
    "        \n",
    "    vec = Statevector.from_label('0'*num_qubits) # |0\\rangle\n",
    "\n",
    "    qc_1 = QuantumCircuit(num_qubits)\n",
    "    qc_1 = apply_clifford(qc_1, clifford_string)\n",
    "    getattr(qc_1, V1)(*args1)\n",
    "    new_vec_1 = vec.evolve(qc_1)\n",
    "        \n",
    "        \n",
    "        \n",
    "    return np.mean(clifford_distance)"
   ]
  },
  {
   "cell_type": "code",
   "execution_count": null,
   "id": "49ee3d0c",
   "metadata": {},
   "outputs": [],
   "source": []
  },
  {
   "cell_type": "code",
   "execution_count": null,
   "id": "b0b60e99",
   "metadata": {},
   "outputs": [],
   "source": []
  },
  {
   "cell_type": "code",
   "execution_count": null,
   "id": "2e5bc214",
   "metadata": {},
   "outputs": [],
   "source": []
  },
  {
   "cell_type": "code",
   "execution_count": null,
   "id": "d9717b65",
   "metadata": {},
   "outputs": [],
   "source": []
  },
  {
   "cell_type": "code",
   "execution_count": null,
   "id": "005a0f24",
   "metadata": {},
   "outputs": [],
   "source": []
  },
  {
   "cell_type": "code",
   "execution_count": null,
   "id": "ad765576",
   "metadata": {},
   "outputs": [],
   "source": []
  },
  {
   "cell_type": "code",
   "execution_count": null,
   "id": "dc4f8377",
   "metadata": {},
   "outputs": [],
   "source": []
  },
  {
   "cell_type": "code",
   "execution_count": null,
   "id": "3a96d45b",
   "metadata": {},
   "outputs": [],
   "source": []
  },
  {
   "cell_type": "code",
   "execution_count": null,
   "id": "502e163f",
   "metadata": {},
   "outputs": [],
   "source": []
  },
  {
   "cell_type": "code",
   "execution_count": null,
   "id": "216841be",
   "metadata": {},
   "outputs": [],
   "source": []
  },
  {
   "cell_type": "markdown",
   "id": "79e7c717",
   "metadata": {},
   "source": [
    "The technique generalizes well for higher dimension. The Clifford group for 2 qubits has 11520 elements, and exponentially increases in the size for more qubits. As we restrict the set of gates to one-qubit and two-qubit gates, this should not be a problem. However, I'm still searching for an efficient way to compute distance involving one or more parametrized gates instead of approximating\n",
    "$$\\frac{1}{m(\\Theta_1) m(\\Theta_2)} \\int_{\\mathcal{U}} \\int_{\\Theta_1, \\Theta_2} \\left| \\langle 0| U^\\dagger V_2^\\dagger(\\theta_2) V_1(\\theta_1) U|0\\rangle \\right|^2 d\\theta_1 d\\theta_2 d\\mu(U)$$\n",
    "where $m(\\Theta)$ is the measure of the parameter space."
   ]
  },
  {
   "cell_type": "code",
   "execution_count": null,
   "id": "a88137e5",
   "metadata": {},
   "outputs": [],
   "source": []
  },
  {
   "cell_type": "code",
   "execution_count": 125,
   "id": "cd6b2b83",
   "metadata": {},
   "outputs": [],
   "source": [
    "def approx_gate_fid(num_samples, V1, args1=(0,)):\n",
    "    \n",
    "    fidelities = []\n",
    "    \n",
    "    for i in range(num_samples):\n",
    "        \n",
    "        vec = random_statevector(2) # sample random state by Haar measure\n",
    "        #print('before circuit: {}'.format(vec)) \n",
    "\n",
    "        qc_1 = QuantumCircuit(1)\n",
    "        getattr(qc_1, V1)(*args1)\n",
    "        #print(qc_1.draw())\n",
    "        new_vec_1 = vec.evolve(qc_1)\n",
    "        #print('after circuit 1: {}'.format(new_vec_1))\n",
    "\n",
    "        new_vec_2 = random_statevector(2)\n",
    "\n",
    "        fidelities.append(state_fidelity(new_vec_1, new_vec_2))\n",
    "    \n",
    "    return fidelities\n"
   ]
  },
  {
   "cell_type": "code",
   "execution_count": 135,
   "id": "3d6a9e33",
   "metadata": {},
   "outputs": [
    {
     "data": {
      "image/png": "[encoded data removed]",
      "text/plain": [
       "<Figure size 432x288 with 1 Axes>"
      ]
     },
     "metadata": {
      "needs_background": "light"
     },
     "output_type": "display_data"
    }
   ],
   "source": [
    "all_fidelities = []\n",
    "\n",
    "thetas = np.linspace(0,2*np.pi,100)\n",
    "for theta in thetas: \n",
    "    all_fidelities += approx_gate_fid(100,'rx',args1=[theta,0])\n",
    "\n",
    "num_bins = 50\n",
    "H, bins = np.histogram(all_fidelities, num_bins, (0.,1.))\n",
    "\n",
    "plt.hist(all_fidelities, bins=num_bins, range=[0, 1], histtype='step',edgecolor='r')\n",
    "plt.show()"
   ]
  },
  {
   "cell_type": "code",
   "execution_count": 134,
   "id": "b15b0de6",
   "metadata": {},
   "outputs": [
    {
     "data": {
      "image/png": "[encoded data removed]",
      "text/plain": [
       "<Figure size 432x288 with 1 Axes>"
      ]
     },
     "metadata": {
      "needs_background": "light"
     },
     "output_type": "display_data"
    }
   ],
   "source": [
    "all_fidelities = []\n",
    "\n",
    "thetas = np.linspace(0,2*np.pi,100)\n",
    "for theta in thetas: \n",
    "    all_fidelities += approx_gate_fid(100,'x')\n",
    "\n",
    "num_bins = 50\n",
    "H, bins = np.histogram(all_fidelities, num_bins, (0.,1.))\n",
    "\n",
    "plt.hist(all_fidelities, bins=num_bins, range=[0, 1], histtype='step',edgecolor='r')\n",
    "plt.show()"
   ]
  }
 ],
 "metadata": {
  "kernelspec": {
   "display_name": "QML",
   "language": "python",
   "name": "qml"
  },
  "language_info": {
   "codemirror_mode": {
    "name": "ipython",
    "version": 3
   },
   "file_extension": ".py",
   "mimetype": "text/x-python",
   "name": "python",
   "nbconvert_exporter": "python",
   "pygments_lexer": "ipython3",
   "version": "3.7.10"
  }
 },
 "nbformat": 4,
 "nbformat_minor": 5
}
