{
 "cells": [
  {
   "cell_type": "code",
   "execution_count": 1,
   "id": "feb518c9",
   "metadata": {},
   "outputs": [],
   "source": [
    "import sys\n",
    "sys.path.insert(1, '/Users/trongduong/Dropbox/URP project/Code/PQC_composer')\n",
    "\n",
    "import qc_embedding\n",
    "from qiskit.converters import circuit_to_dag\n",
    "\n",
    "from qiskit import QuantumCircuit\n",
    "from qiskit.circuit import ParameterVector, Parameter"
   ]
  },
  {
   "cell_type": "code",
   "execution_count": 12,
   "id": "c4da5858",
   "metadata": {
    "scrolled": true
   },
   "outputs": [
    {
     "data": {
      "image/png": "[encoded data removed]",
      "text/plain": [
       "<PIL.Image.Image image mode=RGB size=451x146 at 0x7FA64D768C10>"
      ]
     },
     "execution_count": 12,
     "metadata": {},
     "output_type": "execute_result"
    }
   ],
   "source": [
    "qc = QuantumCircuit(4)\n",
    "theta1 = Parameter('θ_1')\n",
    "theta2 = Parameter('θ_2')\n",
    "theta3 = Parameter('θ_3')\n",
    "qc.x(1)\n",
    "qc.rz(theta1,3)\n",
    "qc.crx(theta2,1,2)\n",
    "qc.cy(3,0)\n",
    "qc.rxx(theta3,0,1)\n",
    "\n",
    "filename = '/Users/trongduong/Dropbox/research reports/quantumjournal plots/gate_based_circuit.pdf'\n",
    "qc.draw(output='latex', filename=filename)"
   ]
  },
  {
   "cell_type": "code",
   "execution_count": 26,
   "id": "d416e7b9",
   "metadata": {},
   "outputs": [
    {
     "name": "stdout",
     "output_type": "stream",
     "text": [
      "\\begin{array}\n",
      "    0.00 &    0.00 &    0.00 &    0.25 &    0.75 &    0.00\\\\\n",
      "    1.00 &    0.00 &    0.75 &    0.00 &    0.25 &    0.00\\\\\n",
      "    0.00 &    0.00 &    0.25 &    0.00 &    0.00 &    0.00\\\\\n",
      "    0.00 &    1.00 &    0.00 &    0.75 &    0.00 &    0.00\\\\\n",
      "    0.09 &    0.59 &    0.66 &    0.34 &    0.84 &    0.00\n",
      "\\end{array}\n"
     ]
    }
   ],
   "source": [
    "import numpy as np\n",
    "import array_to_latex as a2l\n",
    "A = np.array([[1.23456, 23.45678],[456.23, 8.239521]])\n",
    "a2l.to_ltx(encoding, frmt = '{:6.2f}', arraytype = 'array')"
   ]
  },
  {
   "cell_type": "code",
   "execution_count": 24,
   "id": "f1ef0e58",
   "metadata": {},
   "outputs": [
    {
     "data": {
      "text/plain": [
       "array([[0.     , 0.     , 0.     , 0.25   , 0.75   ],\n",
       "       [1.     , 0.     , 0.75   , 0.     , 0.25   ],\n",
       "       [0.     , 0.     , 0.25   , 0.     , 0.     ],\n",
       "       [0.     , 1.     , 0.     , 0.75   , 0.     ],\n",
       "       [0.09375, 0.59375, 0.65625, 0.34375, 0.84375]])"
      ]
     },
     "execution_count": 24,
     "metadata": {},
     "output_type": "execute_result"
    }
   ],
   "source": [
    "encoding"
   ]
  },
  {
   "cell_type": "code",
   "execution_count": 7,
   "id": "0bb1817a",
   "metadata": {},
   "outputs": [
    {
     "data": {
      "text/latex": [
       "$$\n",
       "\n",
       "\\begin{bmatrix}\n",
       "1.23456 & 23.45678  \\\\\n",
       " 456.23 & 8.23952  \\\\\n",
       " \\end{bmatrix}\n",
       "$$"
      ],
      "text/plain": [
       "<IPython.core.display.Latex object>"
      ]
     },
     "execution_count": 7,
     "metadata": {},
     "output_type": "execute_result"
    }
   ],
   "source": [
    "from qiskit.visualization import array_to_latex\n",
    "array_to_latex(A)"
   ]
  },
  {
   "cell_type": "code",
   "execution_count": 19,
   "id": "1628c8e8",
   "metadata": {},
   "outputs": [
    {
     "name": "stdout",
     "output_type": "stream",
     "text": [
      "Help on function array_to_latex in module qiskit.visualization.array:\n",
      "\n",
      "array_to_latex(array, precision=5, prefix='', source=False, max_size=8)\n",
      "    Latex representation of a complex numpy array (with dimension 1 or 2)\n",
      "    \n",
      "    Args:\n",
      "        array (ndarray): The array to be converted to latex, must have dimension 1 or 2 and\n",
      "                         contain only numerical data.\n",
      "        precision (int): For numbers not close to integers or common terms, the number of\n",
      "                         decimal places to round to.\n",
      "        prefix (str): Latex string to be prepended to the latex, intended for labels.\n",
      "        source (bool): If ``False``, will return IPython.display.Latex object. If display is\n",
      "                       ``True``, will instead return the LaTeX source string.\n",
      "        max_size (list(int) or int): The maximum size of the output Latex array.\n",
      "    \n",
      "            * If list(``int``), then the 0th element of the list specifies the maximum\n",
      "              width (including dots characters) and the 1st specifies the maximum height\n",
      "              (also inc. dots characters).\n",
      "            * If a single ``int`` then this value sets the maximum width _and_ maximum\n",
      "              height.\n",
      "    \n",
      "    Returns:\n",
      "        str or IPython.display.Latex: If ``source`` is ``True``, a ``str`` of the LaTeX\n",
      "            representation of the array, else an ``IPython.display.Latex`` representation of\n",
      "            the array.\n",
      "    \n",
      "    Raises:\n",
      "        TypeError: If array can not be interpreted as a numerical numpy array.\n",
      "        ValueError: If the dimension of array is not 1 or 2.\n",
      "        MissingOptionalLibraryError: If ``source`` is ``False`` and ``IPython.display.Latex`` cannot be\n",
      "                     imported.\n",
      "\n"
     ]
    }
   ],
   "source": [
    "help(array_to_latex)"
   ]
  },
  {
   "cell_type": "code",
   "execution_count": 25,
   "id": "d8185566",
   "metadata": {},
   "outputs": [
    {
     "data": {
      "text/plain": [
       "'\\n\\n\\\\begin{bmatrix}\\n0 & 0 & 0 & \\\\tfrac{1}{4} & \\\\tfrac{3}{4} & 0  \\\\\\\\\\n 1 & 0 & \\\\tfrac{3}{4} & 0 & \\\\tfrac{1}{4} & 0  \\\\\\\\\\n 0 & 0 & \\\\tfrac{1}{4} & 0 & 0 & 0  \\\\\\\\\\n 0 & 1 & 0 & \\\\tfrac{3}{4} & 0 & 0  \\\\\\\\\\n 0.09375 & 0.59375 & 0.65625 & 0.34375 & 0.84375 & 0  \\\\\\\\\\n \\\\end{bmatrix}\\n'"
      ]
     },
     "execution_count": 25,
     "metadata": {},
     "output_type": "execute_result"
    }
   ],
   "source": [
    "import numpy as np\n",
    "\n",
    "def bmatrix(a):\n",
    "    \"\"\"Returns a LaTeX bmatrix\n",
    "\n",
    "    :a: numpy array\n",
    "    :returns: LaTeX bmatrix as a string\n",
    "    \"\"\"\n",
    "    if len(a.shape) > 2:\n",
    "        raise ValueError('bmatrix can at most display two dimensions')\n",
    "    lines = str(a).replace('[', '').replace(']', '').splitlines()\n",
    "    rv = [r'\\begin{bmatrix}']\n",
    "    rv += ['  ' + ' & '.join(l.split()) + r'\\\\' for l in lines]\n",
    "    rv +=  [r'\\end{bmatrix}']\n",
    "    return '\\n'.join(rv)\n",
    "\n",
    "encoding = qc_embedding.qc_to_enc(qc, MAX_OP_NODES=6).reshape(5,-1)\n",
    "\n",
    "array_to_latex(encoding, source=True)\n"
   ]
  },
  {
   "cell_type": "code",
   "execution_count": null,
   "id": "a88427c7",
   "metadata": {},
   "outputs": [],
   "source": []
  },
  {
   "cell_type": "code",
   "execution_count": 15,
   "id": "0d125b6c",
   "metadata": {},
   "outputs": [
    {
     "name": "stdout",
     "output_type": "stream",
     "text": [
      "Help on method draw in module qiskit.dagcircuit.dagcircuit:\n",
      "\n",
      "draw(scale=0.7, filename=None, style='color') method of qiskit.dagcircuit.dagcircuit.DAGCircuit instance\n",
      "    Draws the dag circuit.\n",
      "    \n",
      "    This function needs `pydot <https://github.com/erocarrera/pydot>`_, which in turn needs\n",
      "    `Graphviz <https://www.graphviz.org/>`_ to be installed.\n",
      "    \n",
      "    Args:\n",
      "        scale (float): scaling factor\n",
      "        filename (str): file path to save image to (format inferred from name)\n",
      "        style (str):\n",
      "            'plain': B&W graph;\n",
      "            'color' (default): color input/output/op nodes\n",
      "    \n",
      "    Returns:\n",
      "        Ipython.display.Image: if in Jupyter notebook and not saving to file,\n",
      "        otherwise None.\n",
      "\n"
     ]
    }
   ],
   "source": [
    "help(dag_circuit.draw)"
   ]
  },
  {
   "cell_type": "code",
   "execution_count": 17,
   "id": "5e21c5a8",
   "metadata": {},
   "outputs": [],
   "source": [
    "dag_circuit = circuit_to_dag(qc)\n",
    "\n",
    "filename = '/Users/trongduong/Dropbox/research reports/quantumjournal plots/dag_circuit.pdf'\n",
    "dag_circuit.draw(filename=filename)\n",
    "\n"
   ]
  }
 ],
 "metadata": {
  "kernelspec": {
   "display_name": "QML",
   "language": "python",
   "name": "qml"
  },
  "language_info": {
   "codemirror_mode": {
    "name": "ipython",
    "version": 3
   },
   "file_extension": ".py",
   "mimetype": "text/x-python",
   "name": "python",
   "nbconvert_exporter": "python",
   "pygments_lexer": "ipython3",
   "version": "3.7.7"
  }
 },
 "nbformat": 4,
 "nbformat_minor": 5
}
