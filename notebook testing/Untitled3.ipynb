{
 "cells": [
  {
   "cell_type": "code",
   "execution_count": 1,
   "id": "d0c29fe7",
   "metadata": {},
   "outputs": [],
   "source": [
    "import numpy as np\n",
    "from qiskit.circuit.library import EfficientSU2\n",
    "from qiskit.opflow import Y, X, Z, Gradient, StateFn"
   ]
  },
  {
   "cell_type": "code",
   "execution_count": 11,
   "id": "ece1e8df",
   "metadata": {},
   "outputs": [],
   "source": [
    "operator = X ^ X ^ X\n",
    "ansatz = EfficientSU2(2, reps=1)\n",
    "values = list(range(ansatz.num_parameters))"
   ]
  },
  {
   "cell_type": "code",
   "execution_count": 12,
   "id": "5cd80c75",
   "metadata": {},
   "outputs": [
    {
     "data": {
      "text/html": [
       "<pre style=\"word-wrap: normal;white-space: pre;background: #fff0;line-height: 1.1;font-family: &quot;Courier New&quot;,Courier,monospace\">     ┌────────────────────────────────────────────────────────┐\n",
       "q_0: ┤0                                                       ├\n",
       "     │  EfficientSU2(θ[0],θ[1],θ[2],θ[3],θ[4],θ[5],θ[6],θ[7]) │\n",
       "q_1: ┤1                                                       ├\n",
       "     └────────────────────────────────────────────────────────┘</pre>"
      ],
      "text/plain": [
       "     ┌────────────────────────────────────────────────────────┐\n",
       "q_0: ┤0                                                       ├\n",
       "     │  EfficientSU2(θ[0],θ[1],θ[2],θ[3],θ[4],θ[5],θ[6],θ[7]) │\n",
       "q_1: ┤1                                                       ├\n",
       "     └────────────────────────────────────────────────────────┘"
      ]
     },
     "execution_count": 12,
     "metadata": {},
     "output_type": "execute_result"
    }
   ],
   "source": [
    "ansatz.draw()"
   ]
  },
  {
   "cell_type": "code",
   "execution_count": 9,
   "id": "671f370d",
   "metadata": {},
   "outputs": [
    {
     "name": "stdout",
     "output_type": "stream",
     "text": [
      "[ 5.60331552e-01 -4.73399568e-02 -2.18284092e-01 -1.38777878e-17\n",
      " -4.07190121e-05 -3.63577052e-02 -1.68177010e-01  1.77629128e-01\n",
      " -5.39807670e-05  2.21365777e-02 -1.00416730e-01  2.14546363e-01]\n"
     ]
    }
   ],
   "source": [
    "#input_states np.aray\n",
    "expectation = ~StateFn(operator) @ StateFn(ansatz)\n",
    "print(\n",
    "    np.real(\n",
    "        Gradient()\n",
    "        .convert(expectation)\n",
    "        .bind_parameters(dict(zip(ansatz.parameters, values)))\n",
    "        .eval()\n",
    "    )\n",
    ")"
   ]
  },
  {
   "cell_type": "code",
   "execution_count": null,
   "id": "0a47bda5",
   "metadata": {},
   "outputs": [],
   "source": []
  }
 ],
 "metadata": {
  "kernelspec": {
   "display_name": "QML",
   "language": "python",
   "name": "qml"
  },
  "language_info": {
   "codemirror_mode": {
    "name": "ipython",
    "version": 3
   },
   "file_extension": ".py",
   "mimetype": "text/x-python",
   "name": "python",
   "nbconvert_exporter": "python",
   "pygments_lexer": "ipython3",
   "version": "3.7.7"
  }
 },
 "nbformat": 4,
 "nbformat_minor": 5
}
